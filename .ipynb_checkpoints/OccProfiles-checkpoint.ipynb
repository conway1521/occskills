{
 "cells": [
  {
   "cell_type": "markdown",
   "id": "b19d477a-acda-4b4e-9e30-c493b1f09dbd",
   "metadata": {},
   "source": [
    "# Occupational Profile Analysis\n",
    "\n",
    "What are the transformative, disruptive, or risk-increasing consequences of AI in our workforce? Can we \n",
    "create occupational profiles made up of skills and use the skills currently demanded and their projected paths to understand this trend?\n",
    "\n",
    "##### *HOW*:\n",
    "**Occupational Profiling**: Identifying the range of skills required for each occupation and create skill profiles covering the key competencies by categorizing skills into groups (i.e., fundamental, specialized, technical, Distinguished, and) and ranking them based on frequency in job postings for each occupation.\n",
    "\n",
    "**Profile Transformation**: Then, by looking at the skills' *type* (i.e., Human, Professional, Techincal), we can see whether jobs are leaning more into soft, software, or specific to professional success.\n",
    "\n",
    "This Notebook serves an illustrative purpose, only one occupation is shown for 2023. This work as culminated into an interactive Dash dashboard with much more functionality and depth.\n",
    "\n",
    "*All data is from Lightcast*."
   ]
  },
  {
   "cell_type": "code",
   "execution_count": 2,
   "id": "e4e41238-a908-4ed7-a591-42f2ec75d7dd",
   "metadata": {
    "tags": []
   },
   "outputs": [],
   "source": [
    "# import sys;\n",
    "# !conda install --yes --prefix {sys.prefix} plotly\n",
    "# !conda install --yes --prefix {sys.prefix} pandas\n",
    "# !conda install --yes --prefix {sys.prefix} numpy\n",
    "# !conda install --yes --prefix {sys.prefix} openpyxl\n",
    "\n",
    "# import pandas as pd\n",
    "# import plotly.express as px\n",
    "# from plotly.subplots import make_subplots\n",
    "# import plotly.graph_objects as go\n",
    "\n",
    "# from pathlib import Path\n",
    "# import numpy as np\n",
    "\n",
    "# print(\"Packages installed and imported\")"
   ]
  },
  {
   "cell_type": "markdown",
   "id": "0f9ef569-0452-4a67-8b41-fe354207cf65",
   "metadata": {},
   "source": [
    "## Data Cleaning"
   ]
  },
  {
   "cell_type": "code",
   "execution_count": 4,
   "id": "d7711126-7a3e-48f8-9418-71119228172c",
   "metadata": {},
   "outputs": [],
   "source": [
    "# Importing Data\n",
    "location = '/Users/aconway'\n",
    "file_path = '/Users/aconway/Desktop/Occupational_data.xlsx'\n",
    "sheet_name = 'TEST'\n",
    "column_names = ['skills', 'postings', 'postings_prop', 'profiles', 'profiles_prop', 'skillgrowth_proj', 'skillgrowth_market', 'skillgrowth_market_num', 'type']\n",
    "column_names2 = ['skills', 'postings', 'skillgrowth_proj', 'skillgrowth_market', 'skillgrowth_market_num', 'type']\n",
    "\n",
    "skills5yr_ncsa = pd.read_excel(file_path, sheet_name=sheet_name, usecols='AV:AY', nrows=40, names=['skills', 'propchange_18_23', 'prop_23', 'type'])\n",
    "skills5yr_ncsa['propchange_18_23'] *= 100\n",
    "skills5yr_ncsa['prop_23'] *= 100\n",
    "skills5yr_ncsa = skills5yr_ncsa.copy().round(2)\n",
    "\n",
    "specialised_ncsa = pd.read_excel(file_path, sheet_name=sheet_name, usecols='A:I', nrows=50, names=column_names)\n",
    "common_ncsa = pd.read_excel(file_path, sheet_name=sheet_name, usecols='J:R', nrows=50, names=column_names)\n",
    "software_ncsa = pd.read_excel(file_path, sheet_name=sheet_name, usecols='S:AA', nrows=50, names=column_names)\n",
    "\n",
    "distinguishing_ncsa = pd.read_excel(file_path, sheet_name=sheet_name, usecols='AB:AG', nrows=10, names=column_names2)\n",
    "defining_ncsa = pd.read_excel(file_path, sheet_name=sheet_name, usecols='AH:AM', nrows=10, names=column_names2)\n",
    "necessary_ncsa = pd.read_excel(file_path, sheet_name=sheet_name, usecols='AN:AS', nrows=10, names=column_names2)\n",
    "\n",
    "# Convert decimals to percentages\n",
    "specialised_ncsa['postings_prop'] *= 100\n",
    "specialised_ncsa['profiles_prop'] *= 100\n",
    "specialised_ncsa['skillgrowth_proj'] *= 100\n",
    "common_ncsa['postings_prop'] *= 100\n",
    "common_ncsa['profiles_prop'] *= 100\n",
    "common_ncsa['skillgrowth_proj'] *= 100\n",
    "software_ncsa['postings_prop'] *= 100\n",
    "software_ncsa['profiles_prop'] *= 100\n",
    "software_ncsa['skillgrowth_proj'] *= 100\n",
    "distinguishing_ncsa['skillgrowth_proj'] *= 100\n",
    "defining_ncsa['skillgrowth_proj'] *= 100\n",
    "necessary_ncsa['skillgrowth_proj'] *= 100\n",
    "\n",
    "#Save datasets into CSV for Pycharm\n",
    "# skills5yr_ncsa.to_csv('/Users/aconway/Dropbox/Occupational_transformation/skills5yr_ncsa.csv', index=False)\n",
    "# specialised_ncsa.to_csv('/Users/aconway/Dropbox/Occupational_transformation/specialised_ncsa.csv', index=False)\n",
    "# software_ncsa.to_csv('/Users/aconway/Dropbox/Occupational_transformation/software_ncsa.csv', index=False)\n",
    "# common_ncsa.to_csv('/Users/aconway/Dropbox/Occupational_transformation/common_ncsa.csv', index=False)\n",
    "# distinguishing_ncsa.to_csv('/Users/aconway/Dropbox/Occupational_transformation/distinguishing_ncsa.csv', index=False)\n",
    "# defining_ncsa.to_csv('/Users/aconway/Dropbox/Occupational_transformation/defining_ncsa.csv', index=False)\n",
    "# necessary_ncsa.to_csv('/Users/aconway/Dropbox/Occupational_transformation/necessary_ncsa.csv', index=False)\n",
    "\n",
    "def convert_to_numeric(x):\n",
    "    try:\n",
    "        return float(x)\n",
    "    except ValueError:\n",
    "        return None  # or np.nan if you prefer\n",
    "\n",
    "# Import datasets from cleaned up versions which was done on JupyterLab previously\n",
    "skills5yr_ncsa = pd.read_csv(f'{location}/Dropbox/Occupational_transformation/Data/skills5yr_ncsa.csv')\n",
    "common_ncsa = pd.read_csv(f'{location}/Dropbox/Occupational_transformation/Data/common_ncsa.csv')\n",
    "specialised_ncsa = pd.read_csv(f'{location}/Dropbox/Occupational_transformation/Data/specialised_ncsa.csv', converters={'skillgrowth_proj': convert_to_numeric})\n",
    "software_ncsa = pd.read_csv(f'{location}/Dropbox/Occupational_transformation/Data/software_ncsa.csv')\n",
    "defining_ncsa = pd.read_csv(f'{location}/Dropbox/Occupational_transformation/Data/defining_ncsa.csv')\n",
    "distinguishing_ncsa = pd.read_csv(f'{location}/Dropbox/Occupational_transformation/Data/distinguishing_ncsa.csv')\n",
    "necessary_ncsa = pd.read_csv(f'{location}/Dropbox/Occupational_transformation/Data/necessary_ncsa.csv')"
   ]
  },
  {
   "cell_type": "code",
   "execution_count": 6,
   "id": "1c785538-9443-4c3d-adce-c542535c94f3",
   "metadata": {},
   "outputs": [],
   "source": [
    "# Massaging data\n",
    "\n",
    "# Adding columns\n",
    "specialised_ncsa['skilltype'] = 'Specialised Skills'\n",
    "common_ncsa['skilltype'] = 'Common Skills'\n",
    "software_ncsa['skilltype'] = 'Software Skills'\n",
    "distinguishing_ncsa['skilltype'] = 'Distinguishing Skills'\n",
    "defining_ncsa['skilltype'] = 'Defining Skills'\n",
    "necessary_ncsa['skilltype'] = 'Necessary Skills'\n",
    "# Creating subsets for the treemap graph\n",
    "common_ncsa_subset = common_ncsa[['skills', 'skilltype', 'postings']]\n",
    "specialised_ncsa_subset = specialised_ncsa[['skills', 'skilltype', 'postings']]\n",
    "software_ncsa_subset = software_ncsa[['skills', 'skilltype', 'postings']]\n",
    "distinguishing_ncsa_subset = distinguishing_ncsa[['skills', 'skilltype', 'postings']]\n",
    "defining_ncsa_subset = defining_ncsa[['skills', 'skilltype', 'postings']]\n",
    "necessary_ncsa_subset = necessary_ncsa[['skills', 'skilltype', 'postings']]\n",
    "# Concatenating the selected columns for the graphs\n",
    "occupationskills_ncsa = pd.concat([common_ncsa_subset, specialised_ncsa_subset, software_ncsa_subset, distinguishing_ncsa_subset, defining_ncsa_subset, necessary_ncsa_subset], ignore_index=True)\n",
    "skilltype_list = set(common_ncsa['skilltype'].tolist() + specialised_ncsa['skilltype'].tolist() + software_ncsa['skilltype'].tolist())\n",
    "occupationskills_ncsa['bucket'] = occupationskills_ncsa['skilltype'].apply(lambda x: 'General Skills' if x in skilltype_list else 'Key Skills')\n",
    "\n",
    "# Group by 'skilltype' and apply a function to select the top three rows for each group\n",
    "top_three_unique_rows = occupationskills_ncsa.groupby('skilltype').apply(lambda x: x.head(3))\n",
    "# Reset the index to avoid multi-level indexing\n",
    "top_three_unique_rows.reset_index(drop=True, inplace=True)\n",
    "\n",
    "#Define the datasets for each chart\n",
    "common_ncsa.name = \"Common Skills\"\n",
    "specialised_ncsa.name = \"Specialized Skills\"\n",
    "software_ncsa.name = \"Software Skills\"\n",
    "generalskills_datasets = [common_ncsa, specialised_ncsa, software_ncsa]\n",
    "distinguishing_ncsa.name = \"Distinguishing Skills\"\n",
    "defining_ncsa.name = \"Defining Skills\"\n",
    "necessary_ncsa.name = \"Necessary Skills\"\n",
    "keyskills_datasets = [distinguishing_ncsa, defining_ncsa, necessary_ncsa]"
   ]
  },
  {
   "cell_type": "markdown",
   "id": "e5ec1a58-b63d-42f5-861b-ba7184232932",
   "metadata": {},
   "source": [
    "## Occupational Profiles\n",
    "\n",
    "#### Graph showing the variables and hierarchy of data."
   ]
  },
  {
   "cell_type": "code",
   "execution_count": 13,
   "id": "3b6bf6fa-d583-40b8-bd18-d143e7a0449b",
   "metadata": {},
   "outputs": [
    {
     "data": {
      "application/vnd.plotly.v1+json": {
       "config": {
        "plotlyServerURL": "https://plot.ly"
       },
       "data": [
        {
         "branchvalues": "total",
         "customdata": [
          [
           "General Skills"
          ],
          [
           "General Skills"
          ],
          [
           "General Skills"
          ],
          [
           "General Skills"
          ],
          [
           "Key Skills"
          ],
          [
           "General Skills"
          ],
          [
           "General Skills"
          ],
          [
           "Key Skills"
          ],
          [
           "General Skills"
          ],
          [
           "General Skills"
          ],
          [
           "General Skills"
          ],
          [
           "Key Skills"
          ],
          [
           "Key Skills"
          ],
          [
           "General Skills"
          ],
          [
           "Key Skills"
          ],
          [
           "General Skills"
          ],
          [
           "General Skills"
          ],
          [
           "General Skills"
          ],
          [
           "General Skills"
          ],
          [
           "General Skills"
          ],
          [
           "General Skills"
          ],
          [
           "General Skills"
          ],
          [
           "Key Skills"
          ],
          [
           "General Skills"
          ],
          [
           "General Skills"
          ],
          [
           "General Skills"
          ],
          [
           "General Skills"
          ],
          [
           "General Skills"
          ],
          [
           "General Skills"
          ],
          [
           "General Skills"
          ],
          [
           "General Skills"
          ],
          [
           "General Skills"
          ],
          [
           "General Skills"
          ],
          [
           "General Skills"
          ],
          [
           "General Skills"
          ],
          [
           "General Skills"
          ],
          [
           "General Skills"
          ],
          [
           "Key Skills"
          ],
          [
           "General Skills"
          ],
          [
           "General Skills"
          ],
          [
           "General Skills"
          ],
          [
           "General Skills"
          ],
          [
           "Key Skills"
          ],
          [
           "General Skills"
          ],
          [
           "General Skills"
          ],
          [
           "General Skills"
          ],
          [
           "General Skills"
          ],
          [
           "General Skills"
          ],
          [
           "Key Skills"
          ],
          [
           "General Skills"
          ],
          [
           "General Skills"
          ],
          [
           "General Skills"
          ],
          [
           "Key Skills"
          ],
          [
           "General Skills"
          ],
          [
           "General Skills"
          ],
          [
           "General Skills"
          ],
          [
           "General Skills"
          ],
          [
           "General Skills"
          ],
          [
           "General Skills"
          ],
          [
           "General Skills"
          ],
          [
           "General Skills"
          ],
          [
           "General Skills"
          ],
          [
           "General Skills"
          ],
          [
           "General Skills"
          ],
          [
           "General Skills"
          ],
          [
           "Key Skills"
          ],
          [
           "General Skills"
          ],
          [
           "General Skills"
          ],
          [
           "General Skills"
          ],
          [
           "General Skills"
          ],
          [
           "General Skills"
          ],
          [
           "General Skills"
          ],
          [
           "General Skills"
          ],
          [
           "Key Skills"
          ],
          [
           "General Skills"
          ],
          [
           "General Skills"
          ],
          [
           "General Skills"
          ],
          [
           "General Skills"
          ],
          [
           "General Skills"
          ],
          [
           "Key Skills"
          ],
          [
           "General Skills"
          ],
          [
           "General Skills"
          ],
          [
           "Key Skills"
          ],
          [
           "General Skills"
          ],
          [
           "General Skills"
          ],
          [
           "General Skills"
          ],
          [
           "Key Skills"
          ],
          [
           "General Skills"
          ],
          [
           "General Skills"
          ],
          [
           "General Skills"
          ],
          [
           "General Skills"
          ],
          [
           "General Skills"
          ],
          [
           "General Skills"
          ],
          [
           "General Skills"
          ],
          [
           "General Skills"
          ],
          [
           "General Skills"
          ],
          [
           "General Skills"
          ],
          [
           "Key Skills"
          ],
          [
           "General Skills"
          ],
          [
           "General Skills"
          ],
          [
           "General Skills"
          ],
          [
           "General Skills"
          ],
          [
           "General Skills"
          ],
          [
           "General Skills"
          ],
          [
           "General Skills"
          ],
          [
           "General Skills"
          ],
          [
           "General Skills"
          ],
          [
           "General Skills"
          ],
          [
           "General Skills"
          ],
          [
           "Key Skills"
          ],
          [
           "General Skills"
          ],
          [
           "Key Skills"
          ],
          [
           "General Skills"
          ],
          [
           "General Skills"
          ],
          [
           "General Skills"
          ],
          [
           "General Skills"
          ],
          [
           "General Skills"
          ],
          [
           "General Skills"
          ],
          [
           "General Skills"
          ],
          [
           "General Skills"
          ],
          [
           "General Skills"
          ],
          [
           "General Skills"
          ],
          [
           "General Skills"
          ],
          [
           "Key Skills"
          ],
          [
           "General Skills"
          ],
          [
           "General Skills"
          ],
          [
           "General Skills"
          ],
          [
           "Key Skills"
          ],
          [
           "General Skills"
          ],
          [
           "General Skills"
          ],
          [
           "General Skills"
          ],
          [
           "Key Skills"
          ],
          [
           "Key Skills"
          ],
          [
           "General Skills"
          ],
          [
           "General Skills"
          ],
          [
           "General Skills"
          ],
          [
           "General Skills"
          ],
          [
           "General Skills"
          ],
          [
           "General Skills"
          ],
          [
           "General Skills"
          ],
          [
           "General Skills"
          ],
          [
           "General Skills"
          ],
          [
           "General Skills"
          ],
          [
           "General Skills"
          ],
          [
           "General Skills"
          ],
          [
           "General Skills"
          ],
          [
           "Key Skills"
          ],
          [
           "General Skills"
          ],
          [
           "Key Skills"
          ],
          [
           "General Skills"
          ],
          [
           "General Skills"
          ],
          [
           "General Skills"
          ],
          [
           "General Skills"
          ],
          [
           "General Skills"
          ],
          [
           "General Skills"
          ],
          [
           "General Skills"
          ],
          [
           "General Skills"
          ],
          [
           "General Skills"
          ],
          [
           "Key Skills"
          ],
          [
           "Key Skills"
          ],
          [
           "General Skills"
          ],
          [
           "General Skills"
          ],
          [
           "General Skills"
          ],
          [
           "General Skills"
          ],
          [
           "Key Skills"
          ],
          [
           "General Skills"
          ],
          [
           "Key Skills"
          ],
          [
           "Key Skills"
          ],
          [
           "General Skills"
          ],
          [
           "General Skills"
          ],
          [
           "General Skills"
          ],
          [
           "General Skills"
          ],
          [
           "Key Skills"
          ],
          [
           "General Skills"
          ],
          [
           "General Skills"
          ],
          [
           "General Skills"
          ],
          [
           "General Skills"
          ],
          [
           "General Skills"
          ],
          [
           "General Skills"
          ],
          [
           "General Skills"
          ],
          [
           "General Skills"
          ],
          [
           "Key Skills"
          ],
          [
           "Key Skills"
          ],
          [
           "Key Skills"
          ],
          [
           "General Skills"
          ],
          [
           "General Skills"
          ],
          [
           "General Skills"
          ],
          [
           "Key Skills"
          ]
         ],
         "domain": {
          "x": [
           0,
           1
          ],
          "y": [
           0,
           1
          ]
         },
         "hovertemplate": "%{label}",
         "ids": [
          "General Skills/Common Skills/Ability To Meet Deadlines",
          "General Skills/Software Skills/Microsoft Windows",
          "General Skills/Software Skills/Microsoft Windows 10",
          "General Skills/Common Skills/Multitasking",
          "Key Skills/Defining Skills/Network  Administration",
          "General Skills/Specialised Skills/Network Administration",
          "General Skills/Specialised Skills/Network Infrastructure",
          "Key Skills/Distinguishing Skills/Network Infrastructure ",
          "General Skills/Specialised Skills/Network Routing",
          "General Skills/Specialised Skills/Network Security",
          "General Skills/Specialised Skills/Network Switches",
          "Key Skills/Necessary Skills/Network Switches ",
          "Key Skills/Distinguishing Skills/Network Troubleshooting ",
          "General Skills/Specialised Skills/Networking Hardware",
          "Key Skills/Distinguishing Skills/Networking Hardware ",
          "General Skills/Software Skills/Operating Systems",
          "General Skills/Common Skills/Microsoft Windows",
          "General Skills/Specialised Skills/Operating Systems",
          "General Skills/Software Skills/Microsoft Teams",
          "General Skills/Software Skills/Microsoft SharePoint",
          "General Skills/Software Skills/Microsoft Azure",
          "General Skills/Specialised Skills/Microsoft Azure",
          "Key Skills/Distinguishing Skills/Microsoft Certified Systems Engineer",
          "General Skills/Common Skills/Microsoft Excel",
          "General Skills/Software Skills/Microsoft Excel",
          "General Skills/Software Skills/Microsoft Intune (Mobile Device Management Software)",
          "General Skills/Common Skills/Microsoft Office",
          "General Skills/Software Skills/Microsoft Office",
          "General Skills/Software Skills/Microsoft Office 365",
          "General Skills/Specialised Skills/Microsoft Office 365",
          "General Skills/Common Skills/Microsoft Outlook",
          "General Skills/Software Skills/Microsoft Outlook",
          "General Skills/Software Skills/Microsoft PowerPoint",
          "General Skills/Software Skills/Microsoft SQL Servers",
          "General Skills/Software Skills/Microsoft Servers",
          "General Skills/Specialised Skills/Microsoft SharePoint",
          "General Skills/Software Skills/Microsoft Access",
          "Key Skills/Defining Skills/Operating Systems ",
          "General Skills/Common Skills/Organizational Skills",
          "General Skills/Common Skills/Sales",
          "General Skills/Common Skills/Scheduling",
          "General Skills/Specialised Skills/Scripting",
          "Key Skills/Necessary Skills/Scripting  ",
          "General Skills/Common Skills/Security Policies",
          "General Skills/Common Skills/Self-Motivation",
          "General Skills/Software Skills/ServiceNow",
          "General Skills/Specialised Skills/ServiceNow",
          "General Skills/Software Skills/Shell Script",
          "Key Skills/Distinguishing Skills/Software Installation ",
          "General Skills/Software Skills/Software Systems",
          "General Skills/Software Skills/Splunk",
          "General Skills/Specialised Skills/System Administration",
          "Key Skills/Defining Skills/System Administration ",
          "General Skills/Specialised Skills/Systems Engineering",
          "General Skills/Specialised Skills/SQL (Programming Language)",
          "General Skills/Common Skills/Operations",
          "General Skills/Software Skills/SQL (Programming Language)",
          "General Skills/Common Skills/Research",
          "General Skills/Software Skills/Perl (Programming Language)",
          "General Skills/Common Skills/Planning",
          "General Skills/Common Skills/Presentations",
          "General Skills/Common Skills/Prioritization",
          "General Skills/Common Skills/Problem Solving",
          "General Skills/Common Skills/Professionalism",
          "General Skills/Specialised Skills/Project Management",
          "Key Skills/Necessary Skills/Project Management ",
          "General Skills/Software Skills/Puppet (Configuration Management Tool)",
          "General Skills/Software Skills/Python (Programming Language)",
          "General Skills/Specialised Skills/Python (Programming Language)",
          "General Skills/Common Skills/Quality Assurance",
          "General Skills/Software Skills/Red Hat Enterprise Linux",
          "General Skills/Specialised Skills/Red Hat Enterprise Linux",
          "General Skills/Software Skills/Red Hat Linux",
          "Key Skills/Necessary Skills/SQL (Programming Language)",
          "General Skills/Software Skills/Microsoft 365",
          "General Skills/Common Skills/Microsoft PowerPoint",
          "General Skills/Common Skills/Mathematics",
          "General Skills/Software Skills/CentOS",
          "General Skills/Specialised Skills/Change Management",
          "Key Skills/Distinguishing Skills/Cisco Certified Network Associate",
          "General Skills/Common Skills/Mentorship",
          "General Skills/Common Skills/Communication",
          "Key Skills/Distinguishing Skills/CompTIA Security+ ",
          "General Skills/Common Skills/Computer Literacy",
          "General Skills/Specialised Skills/Computer Networks",
          "General Skills/Specialised Skills/Computer Science",
          "Key Skills/Defining Skills/Computer Science ",
          "General Skills/Specialised Skills/Configuration Management",
          "General Skills/Common Skills/Consulting",
          "General Skills/Common Skills/Coordinating",
          "General Skills/Common Skills/Critical Thinking",
          "General Skills/Common Skills/Customer Service",
          "General Skills/Specialised Skills/Bash (Scripting Language)",
          "General Skills/Specialised Skills/Cyber Security",
          "General Skills/Software Skills/Bash (Scripting Language)",
          "General Skills/Specialised Skills/Backup Devices",
          "General Skills/Common Skills/Accountability",
          "Key Skills/Defining Skills/Active Directorv ",
          "General Skills/Software Skills/Active Directory",
          "General Skills/Specialised Skills/Active Directory",
          "General Skills/Common Skills/Administrative Functions",
          "General Skills/Specialised Skills/Agile Methodology",
          "General Skills/Software Skills/Amazon Web Services",
          "General Skills/Specialised Skills/Amazon Web Services",
          "General Skills/Common Skills/Analytical Skills",
          "General Skills/Software Skills/Ansible",
          "General Skills/Specialised Skills/Ansible",
          "General Skills/Specialised Skills/Auditing",
          "General Skills/Specialised Skills/Automation",
          "Key Skills/Necessary Skills/Automation  ",
          "General Skills/Software Skills/Azure Active Directory",
          "Key Skills/Defining Skills/Backup Devices ",
          "General Skills/Software Skills/Dashboard",
          "General Skills/Common Skills/Collaboration",
          "General Skills/Common Skills/Detail Oriented",
          "General Skills/Software Skills/Information Technology Infrastructure Library",
          "General Skills/Common Skills/Innovation",
          "General Skills/Common Skills/Interpersonal Communications",
          "General Skills/Software Skills/JIRA",
          "General Skills/Software Skills/Java (Programming Language)",
          "General Skills/Software Skills/Kubernetes",
          "General Skills/Common Skills/Leadership",
          "General Skills/Common Skills/Lifting Ability",
          "Key Skills/Distinguishing Skills/Lightweight Directory Access Protocols",
          "General Skills/Software Skills/Linux",
          "General Skills/Specialised Skills/Linux",
          "General Skills/Common Skills/Decision Making",
          "Key Skills/Defining Skills/Local Area ",
          "General Skills/Specialised Skills/Local Area Networks",
          "General Skills/Common Skills/Management",
          "General Skills/Common Skills/Information Technology",
          "Key Skills/Necessary Skills/Information Systems ",
          "Key Skills/Defining Skills/Linux  ",
          "General Skills/Specialised Skills/IT Infrastructure",
          "General Skills/Specialised Skills/Information Systems",
          "General Skills/Specialised Skills/Disaster Recovery",
          "General Skills/Software Skills/Dynamic Host Configuration Protocol (DHCP)",
          "General Skills/Specialised Skills/Dynamic Host Configuration Protocol (DHCP)",
          "General Skills/Common Skills/English Language",
          "General Skills/Software Skills/Enterprise Application Software",
          "General Skills/Software Skills/Firewall",
          "General Skills/Specialised Skills/Firewall",
          "General Skills/Software Skills/Docker (Software)",
          "General Skills/Software Skills/Git (Version Control System)",
          "General Skills/Common Skills/Governance",
          "General Skills/Specialised Skills/Group Policy",
          "Key Skills/Necessary Skills/Help Desk Support",
          "General Skills/Specialised Skills/Help Desk Support",
          "Key Skills/Defining Skills/Firewall  ",
          "General Skills/Software Skills/Hyper-V",
          "General Skills/Specialised Skills/Virtual Private Networks (VPN)",
          "General Skills/Specialised Skills/Virtualization",
          "General Skills/Specialised Skills/Vulnerability",
          "General Skills/Specialised Skills/Wide Area Networks",
          "General Skills/Common Skills/Willingness To Learn",
          "General Skills/Software Skills/Windows Servers",
          "General Skills/Specialised Skills/Windows PowerShell",
          "General Skills/Specialised Skills/Windows Servers",
          "Key Skills/Defining Skills/Windows Servers ",
          "Key Skills/Distinguishing Skills/Windows System Administration",
          "General Skills/Software Skills/Virtual Machines",
          "General Skills/Common Skills/Wireless Communications",
          "General Skills/Software Skills/Windows PowerShell",
          "General Skills/Common Skills/Verbal Communication Skills",
          "Key Skills/Necessary Skills/Top Secret-Sensitive Compartmented Information (TS/SCI Clearance)",
          "General Skills/Software Skills/VMware ESX Servers",
          "Key Skills/Distinguishing Skills/VMware ESX Servers",
          "Key Skills/Necessary Skills/Unix  ",
          "General Skills/Specialised Skills/Unix",
          "General Skills/Software Skills/Unix",
          "General Skills/Common Skills/Troubleshooting (Problem Solving)",
          "General Skills/Common Skills/Time Management",
          "Key Skills/Necessary Skills/Technical Support ",
          "General Skills/Specialised Skills/Technical Support",
          "General Skills/Common Skills/Teamwork",
          "General Skills/Common Skills/Team Oriented",
          "General Skills/Specialised Skills/TCP/IP",
          "General Skills/Specialised Skills/Workflow Management",
          "General Skills/Software Skills/VMware VSphere",
          "General Skills/Common Skills/Writing",
          "General Skills/Common Skills",
          "Key Skills/Defining Skills",
          "Key Skills/Distinguishing Skills",
          "Key Skills/Necessary Skills",
          "General Skills/Software Skills",
          "General Skills/Specialised Skills",
          "General Skills",
          "Key Skills"
         ],
         "labels": [
          "Ability To Meet Deadlines",
          "Microsoft Windows",
          "Microsoft Windows 10",
          "Multitasking",
          "Network  Administration",
          "Network Administration",
          "Network Infrastructure",
          "Network Infrastructure ",
          "Network Routing",
          "Network Security",
          "Network Switches",
          "Network Switches ",
          "Network Troubleshooting ",
          "Networking Hardware",
          "Networking Hardware ",
          "Operating Systems",
          "Microsoft Windows",
          "Operating Systems",
          "Microsoft Teams",
          "Microsoft SharePoint",
          "Microsoft Azure",
          "Microsoft Azure",
          "Microsoft Certified Systems Engineer",
          "Microsoft Excel",
          "Microsoft Excel",
          "Microsoft Intune (Mobile Device Management Software)",
          "Microsoft Office",
          "Microsoft Office",
          "Microsoft Office 365",
          "Microsoft Office 365",
          "Microsoft Outlook",
          "Microsoft Outlook",
          "Microsoft PowerPoint",
          "Microsoft SQL Servers",
          "Microsoft Servers",
          "Microsoft SharePoint",
          "Microsoft Access",
          "Operating Systems ",
          "Organizational Skills",
          "Sales",
          "Scheduling",
          "Scripting",
          "Scripting  ",
          "Security Policies",
          "Self-Motivation",
          "ServiceNow",
          "ServiceNow",
          "Shell Script",
          "Software Installation ",
          "Software Systems",
          "Splunk",
          "System Administration",
          "System Administration ",
          "Systems Engineering",
          "SQL (Programming Language)",
          "Operations",
          "SQL (Programming Language)",
          "Research",
          "Perl (Programming Language)",
          "Planning",
          "Presentations",
          "Prioritization",
          "Problem Solving",
          "Professionalism",
          "Project Management",
          "Project Management ",
          "Puppet (Configuration Management Tool)",
          "Python (Programming Language)",
          "Python (Programming Language)",
          "Quality Assurance",
          "Red Hat Enterprise Linux",
          "Red Hat Enterprise Linux",
          "Red Hat Linux",
          "SQL (Programming Language)",
          "Microsoft 365",
          "Microsoft PowerPoint",
          "Mathematics",
          "CentOS",
          "Change Management",
          "Cisco Certified Network Associate",
          "Mentorship",
          "Communication",
          "CompTIA Security+ ",
          "Computer Literacy",
          "Computer Networks",
          "Computer Science",
          "Computer Science ",
          "Configuration Management",
          "Consulting",
          "Coordinating",
          "Critical Thinking",
          "Customer Service",
          "Bash (Scripting Language)",
          "Cyber Security",
          "Bash (Scripting Language)",
          "Backup Devices",
          "Accountability",
          "Active Directorv ",
          "Active Directory",
          "Active Directory",
          "Administrative Functions",
          "Agile Methodology",
          "Amazon Web Services",
          "Amazon Web Services",
          "Analytical Skills",
          "Ansible",
          "Ansible",
          "Auditing",
          "Automation",
          "Automation  ",
          "Azure Active Directory",
          "Backup Devices ",
          "Dashboard",
          "Collaboration",
          "Detail Oriented",
          "Information Technology Infrastructure Library",
          "Innovation",
          "Interpersonal Communications",
          "JIRA",
          "Java (Programming Language)",
          "Kubernetes",
          "Leadership",
          "Lifting Ability",
          "Lightweight Directory Access Protocols",
          "Linux",
          "Linux",
          "Decision Making",
          "Local Area ",
          "Local Area Networks",
          "Management",
          "Information Technology",
          "Information Systems ",
          "Linux  ",
          "IT Infrastructure",
          "Information Systems",
          "Disaster Recovery",
          "Dynamic Host Configuration Protocol (DHCP)",
          "Dynamic Host Configuration Protocol (DHCP)",
          "English Language",
          "Enterprise Application Software",
          "Firewall",
          "Firewall",
          "Docker (Software)",
          "Git (Version Control System)",
          "Governance",
          "Group Policy",
          "Help Desk Support",
          "Help Desk Support",
          "Firewall  ",
          "Hyper-V",
          "Virtual Private Networks (VPN)",
          "Virtualization",
          "Vulnerability",
          "Wide Area Networks",
          "Willingness To Learn",
          "Windows Servers",
          "Windows PowerShell",
          "Windows Servers",
          "Windows Servers ",
          "Windows System Administration",
          "Virtual Machines",
          "Wireless Communications",
          "Windows PowerShell",
          "Verbal Communication Skills",
          "Top Secret-Sensitive Compartmented Information (TS/SCI Clearance)",
          "VMware ESX Servers",
          "VMware ESX Servers",
          "Unix  ",
          "Unix",
          "Unix",
          "Troubleshooting (Problem Solving)",
          "Time Management",
          "Technical Support ",
          "Technical Support",
          "Teamwork",
          "Team Oriented",
          "TCP/IP",
          "Workflow Management",
          "VMware VSphere",
          "Writing",
          "Common Skills",
          "Defining Skills",
          "Distinguishing Skills",
          "Necessary Skills",
          "Software Skills",
          "Specialised Skills",
          "General Skills",
          "Key Skills"
         ],
         "marker": {
          "colors": [
           "#636efa",
           "#636efa",
           "#636efa",
           "#636efa",
           "#EF553B",
           "#636efa",
           "#636efa",
           "#EF553B",
           "#636efa",
           "#636efa",
           "#636efa",
           "#EF553B",
           "#EF553B",
           "#636efa",
           "#EF553B",
           "#636efa",
           "#636efa",
           "#636efa",
           "#636efa",
           "#636efa",
           "#636efa",
           "#636efa",
           "#EF553B",
           "#636efa",
           "#636efa",
           "#636efa",
           "#636efa",
           "#636efa",
           "#636efa",
           "#636efa",
           "#636efa",
           "#636efa",
           "#636efa",
           "#636efa",
           "#636efa",
           "#636efa",
           "#636efa",
           "#EF553B",
           "#636efa",
           "#636efa",
           "#636efa",
           "#636efa",
           "#EF553B",
           "#636efa",
           "#636efa",
           "#636efa",
           "#636efa",
           "#636efa",
           "#EF553B",
           "#636efa",
           "#636efa",
           "#636efa",
           "#EF553B",
           "#636efa",
           "#636efa",
           "#636efa",
           "#636efa",
           "#636efa",
           "#636efa",
           "#636efa",
           "#636efa",
           "#636efa",
           "#636efa",
           "#636efa",
           "#636efa",
           "#EF553B",
           "#636efa",
           "#636efa",
           "#636efa",
           "#636efa",
           "#636efa",
           "#636efa",
           "#636efa",
           "#EF553B",
           "#636efa",
           "#636efa",
           "#636efa",
           "#636efa",
           "#636efa",
           "#EF553B",
           "#636efa",
           "#636efa",
           "#EF553B",
           "#636efa",
           "#636efa",
           "#636efa",
           "#EF553B",
           "#636efa",
           "#636efa",
           "#636efa",
           "#636efa",
           "#636efa",
           "#636efa",
           "#636efa",
           "#636efa",
           "#636efa",
           "#636efa",
           "#EF553B",
           "#636efa",
           "#636efa",
           "#636efa",
           "#636efa",
           "#636efa",
           "#636efa",
           "#636efa",
           "#636efa",
           "#636efa",
           "#636efa",
           "#636efa",
           "#EF553B",
           "#636efa",
           "#EF553B",
           "#636efa",
           "#636efa",
           "#636efa",
           "#636efa",
           "#636efa",
           "#636efa",
           "#636efa",
           "#636efa",
           "#636efa",
           "#636efa",
           "#636efa",
           "#EF553B",
           "#636efa",
           "#636efa",
           "#636efa",
           "#EF553B",
           "#636efa",
           "#636efa",
           "#636efa",
           "#EF553B",
           "#EF553B",
           "#636efa",
           "#636efa",
           "#636efa",
           "#636efa",
           "#636efa",
           "#636efa",
           "#636efa",
           "#636efa",
           "#636efa",
           "#636efa",
           "#636efa",
           "#636efa",
           "#636efa",
           "#EF553B",
           "#636efa",
           "#EF553B",
           "#636efa",
           "#636efa",
           "#636efa",
           "#636efa",
           "#636efa",
           "#636efa",
           "#636efa",
           "#636efa",
           "#636efa",
           "#EF553B",
           "#EF553B",
           "#636efa",
           "#636efa",
           "#636efa",
           "#636efa",
           "#EF553B",
           "#636efa",
           "#EF553B",
           "#EF553B",
           "#636efa",
           "#636efa",
           "#636efa",
           "#636efa",
           "#EF553B",
           "#636efa",
           "#636efa",
           "#636efa",
           "#636efa",
           "#636efa",
           "#636efa",
           "#636efa",
           "#636efa",
           "#EF553B",
           "#EF553B",
           "#EF553B",
           "#636efa",
           "#636efa",
           "#636efa",
           "#EF553B"
          ]
         },
         "name": "",
         "parents": [
          "General Skills/Common Skills",
          "General Skills/Software Skills",
          "General Skills/Software Skills",
          "General Skills/Common Skills",
          "Key Skills/Defining Skills",
          "General Skills/Specialised Skills",
          "General Skills/Specialised Skills",
          "Key Skills/Distinguishing Skills",
          "General Skills/Specialised Skills",
          "General Skills/Specialised Skills",
          "General Skills/Specialised Skills",
          "Key Skills/Necessary Skills",
          "Key Skills/Distinguishing Skills",
          "General Skills/Specialised Skills",
          "Key Skills/Distinguishing Skills",
          "General Skills/Software Skills",
          "General Skills/Common Skills",
          "General Skills/Specialised Skills",
          "General Skills/Software Skills",
          "General Skills/Software Skills",
          "General Skills/Software Skills",
          "General Skills/Specialised Skills",
          "Key Skills/Distinguishing Skills",
          "General Skills/Common Skills",
          "General Skills/Software Skills",
          "General Skills/Software Skills",
          "General Skills/Common Skills",
          "General Skills/Software Skills",
          "General Skills/Software Skills",
          "General Skills/Specialised Skills",
          "General Skills/Common Skills",
          "General Skills/Software Skills",
          "General Skills/Software Skills",
          "General Skills/Software Skills",
          "General Skills/Software Skills",
          "General Skills/Specialised Skills",
          "General Skills/Software Skills",
          "Key Skills/Defining Skills",
          "General Skills/Common Skills",
          "General Skills/Common Skills",
          "General Skills/Common Skills",
          "General Skills/Specialised Skills",
          "Key Skills/Necessary Skills",
          "General Skills/Common Skills",
          "General Skills/Common Skills",
          "General Skills/Software Skills",
          "General Skills/Specialised Skills",
          "General Skills/Software Skills",
          "Key Skills/Distinguishing Skills",
          "General Skills/Software Skills",
          "General Skills/Software Skills",
          "General Skills/Specialised Skills",
          "Key Skills/Defining Skills",
          "General Skills/Specialised Skills",
          "General Skills/Specialised Skills",
          "General Skills/Common Skills",
          "General Skills/Software Skills",
          "General Skills/Common Skills",
          "General Skills/Software Skills",
          "General Skills/Common Skills",
          "General Skills/Common Skills",
          "General Skills/Common Skills",
          "General Skills/Common Skills",
          "General Skills/Common Skills",
          "General Skills/Specialised Skills",
          "Key Skills/Necessary Skills",
          "General Skills/Software Skills",
          "General Skills/Software Skills",
          "General Skills/Specialised Skills",
          "General Skills/Common Skills",
          "General Skills/Software Skills",
          "General Skills/Specialised Skills",
          "General Skills/Software Skills",
          "Key Skills/Necessary Skills",
          "General Skills/Software Skills",
          "General Skills/Common Skills",
          "General Skills/Common Skills",
          "General Skills/Software Skills",
          "General Skills/Specialised Skills",
          "Key Skills/Distinguishing Skills",
          "General Skills/Common Skills",
          "General Skills/Common Skills",
          "Key Skills/Distinguishing Skills",
          "General Skills/Common Skills",
          "General Skills/Specialised Skills",
          "General Skills/Specialised Skills",
          "Key Skills/Defining Skills",
          "General Skills/Specialised Skills",
          "General Skills/Common Skills",
          "General Skills/Common Skills",
          "General Skills/Common Skills",
          "General Skills/Common Skills",
          "General Skills/Specialised Skills",
          "General Skills/Specialised Skills",
          "General Skills/Software Skills",
          "General Skills/Specialised Skills",
          "General Skills/Common Skills",
          "Key Skills/Defining Skills",
          "General Skills/Software Skills",
          "General Skills/Specialised Skills",
          "General Skills/Common Skills",
          "General Skills/Specialised Skills",
          "General Skills/Software Skills",
          "General Skills/Specialised Skills",
          "General Skills/Common Skills",
          "General Skills/Software Skills",
          "General Skills/Specialised Skills",
          "General Skills/Specialised Skills",
          "General Skills/Specialised Skills",
          "Key Skills/Necessary Skills",
          "General Skills/Software Skills",
          "Key Skills/Defining Skills",
          "General Skills/Software Skills",
          "General Skills/Common Skills",
          "General Skills/Common Skills",
          "General Skills/Software Skills",
          "General Skills/Common Skills",
          "General Skills/Common Skills",
          "General Skills/Software Skills",
          "General Skills/Software Skills",
          "General Skills/Software Skills",
          "General Skills/Common Skills",
          "General Skills/Common Skills",
          "Key Skills/Distinguishing Skills",
          "General Skills/Software Skills",
          "General Skills/Specialised Skills",
          "General Skills/Common Skills",
          "Key Skills/Defining Skills",
          "General Skills/Specialised Skills",
          "General Skills/Common Skills",
          "General Skills/Common Skills",
          "Key Skills/Necessary Skills",
          "Key Skills/Defining Skills",
          "General Skills/Specialised Skills",
          "General Skills/Specialised Skills",
          "General Skills/Specialised Skills",
          "General Skills/Software Skills",
          "General Skills/Specialised Skills",
          "General Skills/Common Skills",
          "General Skills/Software Skills",
          "General Skills/Software Skills",
          "General Skills/Specialised Skills",
          "General Skills/Software Skills",
          "General Skills/Software Skills",
          "General Skills/Common Skills",
          "General Skills/Specialised Skills",
          "Key Skills/Necessary Skills",
          "General Skills/Specialised Skills",
          "Key Skills/Defining Skills",
          "General Skills/Software Skills",
          "General Skills/Specialised Skills",
          "General Skills/Specialised Skills",
          "General Skills/Specialised Skills",
          "General Skills/Specialised Skills",
          "General Skills/Common Skills",
          "General Skills/Software Skills",
          "General Skills/Specialised Skills",
          "General Skills/Specialised Skills",
          "Key Skills/Defining Skills",
          "Key Skills/Distinguishing Skills",
          "General Skills/Software Skills",
          "General Skills/Common Skills",
          "General Skills/Software Skills",
          "General Skills/Common Skills",
          "Key Skills/Necessary Skills",
          "General Skills/Software Skills",
          "Key Skills/Distinguishing Skills",
          "Key Skills/Necessary Skills",
          "General Skills/Specialised Skills",
          "General Skills/Software Skills",
          "General Skills/Common Skills",
          "General Skills/Common Skills",
          "Key Skills/Necessary Skills",
          "General Skills/Specialised Skills",
          "General Skills/Common Skills",
          "General Skills/Common Skills",
          "General Skills/Specialised Skills",
          "General Skills/Specialised Skills",
          "General Skills/Software Skills",
          "General Skills/Common Skills",
          "General Skills",
          "Key Skills",
          "Key Skills",
          "Key Skills",
          "General Skills",
          "General Skills",
          "",
          ""
         ],
         "sort": false,
         "type": "treemap",
         "values": [
          3119,
          6879,
          5012,
          6624,
          224109,
          14922,
          6477,
          75155,
          6305,
          6750,
          12110,
          166355,
          67534,
          7902,
          97483,
          34521,
          6879,
          34521,
          4170,
          9124,
          14339,
          14339,
          84227,
          6427,
          6427,
          3526,
          9425,
          9425,
          8062,
          8062,
          3868,
          3868,
          3337,
          4451,
          4545,
          9124,
          4103,
          445968,
          5974,
          2210,
          3874,
          23459,
          259825,
          4277,
          10041,
          6986,
          6986,
          3884,
          69216,
          4436,
          4329,
          27769,
          397557,
          8186,
          11296,
          32576,
          11296,
          12026,
          5587,
          17155,
          3995,
          6704,
          27538,
          3252,
          10922,
          178802,
          4079,
          13860,
          13860,
          1918,
          6582,
          6582,
          4235,
          174169,
          5178,
          3337,
          4661,
          4022,
          7117,
          79223,
          3980,
          41134,
          98260,
          2152,
          6145,
          28033,
          358930,
          9615,
          3140,
          8365,
          3603,
          19761,
          8645,
          8437,
          8645,
          13487,
          2218,
          336583,
          25155,
          25155,
          3626,
          6419,
          11283,
          11283,
          3992,
          9926,
          9926,
          11106,
          19776,
          175285,
          4440,
          169131,
          3693,
          2499,
          11663,
          5723,
          6459,
          9634,
          4968,
          4288,
          4086,
          10534,
          4241,
          67910,
          33693,
          33693,
          2719,
          178786,
          11361,
          41840,
          22784,
          150021,
          400983,
          7368,
          10895,
          10297,
          10048,
          10048,
          2897,
          3436,
          16496,
          16496,
          3910,
          3618,
          3076,
          9067,
          124314,
          10378,
          200629,
          4670,
          7333,
          11042,
          7532,
          9615,
          2593,
          19877,
          14278,
          19877,
          316326,
          75132,
          4080,
          2426,
          14278,
          8667,
          125193,
          5107,
          77527,
          244855,
          11944,
          11944,
          56938,
          6606,
          162949,
          13868,
          5234,
          2386,
          7841,
          9867,
          4688,
          13115,
          484162,
          3029002,
          791667,
          1761768,
          414315,
          627516,
          1525993,
          5582437
         ]
        }
       ],
       "layout": {
        "autosize": true,
        "legend": {
         "tracegroupgap": 0
        },
        "template": {
         "data": {
          "bar": [
           {
            "error_x": {
             "color": "#2a3f5f"
            },
            "error_y": {
             "color": "#2a3f5f"
            },
            "marker": {
             "line": {
              "color": "#E5ECF6",
              "width": 0.5
             },
             "pattern": {
              "fillmode": "overlay",
              "size": 10,
              "solidity": 0.2
             }
            },
            "type": "bar"
           }
          ],
          "barpolar": [
           {
            "marker": {
             "line": {
              "color": "#E5ECF6",
              "width": 0.5
             },
             "pattern": {
              "fillmode": "overlay",
              "size": 10,
              "solidity": 0.2
             }
            },
            "type": "barpolar"
           }
          ],
          "carpet": [
           {
            "aaxis": {
             "endlinecolor": "#2a3f5f",
             "gridcolor": "white",
             "linecolor": "white",
             "minorgridcolor": "white",
             "startlinecolor": "#2a3f5f"
            },
            "baxis": {
             "endlinecolor": "#2a3f5f",
             "gridcolor": "white",
             "linecolor": "white",
             "minorgridcolor": "white",
             "startlinecolor": "#2a3f5f"
            },
            "type": "carpet"
           }
          ],
          "choropleth": [
           {
            "colorbar": {
             "outlinewidth": 0,
             "ticks": ""
            },
            "type": "choropleth"
           }
          ],
          "contour": [
           {
            "colorbar": {
             "outlinewidth": 0,
             "ticks": ""
            },
            "colorscale": [
             [
              0,
              "#0d0887"
             ],
             [
              0.1111111111111111,
              "#46039f"
             ],
             [
              0.2222222222222222,
              "#7201a8"
             ],
             [
              0.3333333333333333,
              "#9c179e"
             ],
             [
              0.4444444444444444,
              "#bd3786"
             ],
             [
              0.5555555555555556,
              "#d8576b"
             ],
             [
              0.6666666666666666,
              "#ed7953"
             ],
             [
              0.7777777777777778,
              "#fb9f3a"
             ],
             [
              0.8888888888888888,
              "#fdca26"
             ],
             [
              1,
              "#f0f921"
             ]
            ],
            "type": "contour"
           }
          ],
          "contourcarpet": [
           {
            "colorbar": {
             "outlinewidth": 0,
             "ticks": ""
            },
            "type": "contourcarpet"
           }
          ],
          "heatmap": [
           {
            "colorbar": {
             "outlinewidth": 0,
             "ticks": ""
            },
            "colorscale": [
             [
              0,
              "#0d0887"
             ],
             [
              0.1111111111111111,
              "#46039f"
             ],
             [
              0.2222222222222222,
              "#7201a8"
             ],
             [
              0.3333333333333333,
              "#9c179e"
             ],
             [
              0.4444444444444444,
              "#bd3786"
             ],
             [
              0.5555555555555556,
              "#d8576b"
             ],
             [
              0.6666666666666666,
              "#ed7953"
             ],
             [
              0.7777777777777778,
              "#fb9f3a"
             ],
             [
              0.8888888888888888,
              "#fdca26"
             ],
             [
              1,
              "#f0f921"
             ]
            ],
            "type": "heatmap"
           }
          ],
          "heatmapgl": [
           {
            "colorbar": {
             "outlinewidth": 0,
             "ticks": ""
            },
            "colorscale": [
             [
              0,
              "#0d0887"
             ],
             [
              0.1111111111111111,
              "#46039f"
             ],
             [
              0.2222222222222222,
              "#7201a8"
             ],
             [
              0.3333333333333333,
              "#9c179e"
             ],
             [
              0.4444444444444444,
              "#bd3786"
             ],
             [
              0.5555555555555556,
              "#d8576b"
             ],
             [
              0.6666666666666666,
              "#ed7953"
             ],
             [
              0.7777777777777778,
              "#fb9f3a"
             ],
             [
              0.8888888888888888,
              "#fdca26"
             ],
             [
              1,
              "#f0f921"
             ]
            ],
            "type": "heatmapgl"
           }
          ],
          "histogram": [
           {
            "marker": {
             "pattern": {
              "fillmode": "overlay",
              "size": 10,
              "solidity": 0.2
             }
            },
            "type": "histogram"
           }
          ],
          "histogram2d": [
           {
            "colorbar": {
             "outlinewidth": 0,
             "ticks": ""
            },
            "colorscale": [
             [
              0,
              "#0d0887"
             ],
             [
              0.1111111111111111,
              "#46039f"
             ],
             [
              0.2222222222222222,
              "#7201a8"
             ],
             [
              0.3333333333333333,
              "#9c179e"
             ],
             [
              0.4444444444444444,
              "#bd3786"
             ],
             [
              0.5555555555555556,
              "#d8576b"
             ],
             [
              0.6666666666666666,
              "#ed7953"
             ],
             [
              0.7777777777777778,
              "#fb9f3a"
             ],
             [
              0.8888888888888888,
              "#fdca26"
             ],
             [
              1,
              "#f0f921"
             ]
            ],
            "type": "histogram2d"
           }
          ],
          "histogram2dcontour": [
           {
            "colorbar": {
             "outlinewidth": 0,
             "ticks": ""
            },
            "colorscale": [
             [
              0,
              "#0d0887"
             ],
             [
              0.1111111111111111,
              "#46039f"
             ],
             [
              0.2222222222222222,
              "#7201a8"
             ],
             [
              0.3333333333333333,
              "#9c179e"
             ],
             [
              0.4444444444444444,
              "#bd3786"
             ],
             [
              0.5555555555555556,
              "#d8576b"
             ],
             [
              0.6666666666666666,
              "#ed7953"
             ],
             [
              0.7777777777777778,
              "#fb9f3a"
             ],
             [
              0.8888888888888888,
              "#fdca26"
             ],
             [
              1,
              "#f0f921"
             ]
            ],
            "type": "histogram2dcontour"
           }
          ],
          "mesh3d": [
           {
            "colorbar": {
             "outlinewidth": 0,
             "ticks": ""
            },
            "type": "mesh3d"
           }
          ],
          "parcoords": [
           {
            "line": {
             "colorbar": {
              "outlinewidth": 0,
              "ticks": ""
             }
            },
            "type": "parcoords"
           }
          ],
          "pie": [
           {
            "automargin": true,
            "type": "pie"
           }
          ],
          "scatter": [
           {
            "fillpattern": {
             "fillmode": "overlay",
             "size": 10,
             "solidity": 0.2
            },
            "type": "scatter"
           }
          ],
          "scatter3d": [
           {
            "line": {
             "colorbar": {
              "outlinewidth": 0,
              "ticks": ""
             }
            },
            "marker": {
             "colorbar": {
              "outlinewidth": 0,
              "ticks": ""
             }
            },
            "type": "scatter3d"
           }
          ],
          "scattercarpet": [
           {
            "marker": {
             "colorbar": {
              "outlinewidth": 0,
              "ticks": ""
             }
            },
            "type": "scattercarpet"
           }
          ],
          "scattergeo": [
           {
            "marker": {
             "colorbar": {
              "outlinewidth": 0,
              "ticks": ""
             }
            },
            "type": "scattergeo"
           }
          ],
          "scattergl": [
           {
            "marker": {
             "colorbar": {
              "outlinewidth": 0,
              "ticks": ""
             }
            },
            "type": "scattergl"
           }
          ],
          "scattermapbox": [
           {
            "marker": {
             "colorbar": {
              "outlinewidth": 0,
              "ticks": ""
             }
            },
            "type": "scattermapbox"
           }
          ],
          "scatterpolar": [
           {
            "marker": {
             "colorbar": {
              "outlinewidth": 0,
              "ticks": ""
             }
            },
            "type": "scatterpolar"
           }
          ],
          "scatterpolargl": [
           {
            "marker": {
             "colorbar": {
              "outlinewidth": 0,
              "ticks": ""
             }
            },
            "type": "scatterpolargl"
           }
          ],
          "scatterternary": [
           {
            "marker": {
             "colorbar": {
              "outlinewidth": 0,
              "ticks": ""
             }
            },
            "type": "scatterternary"
           }
          ],
          "surface": [
           {
            "colorbar": {
             "outlinewidth": 0,
             "ticks": ""
            },
            "colorscale": [
             [
              0,
              "#0d0887"
             ],
             [
              0.1111111111111111,
              "#46039f"
             ],
             [
              0.2222222222222222,
              "#7201a8"
             ],
             [
              0.3333333333333333,
              "#9c179e"
             ],
             [
              0.4444444444444444,
              "#bd3786"
             ],
             [
              0.5555555555555556,
              "#d8576b"
             ],
             [
              0.6666666666666666,
              "#ed7953"
             ],
             [
              0.7777777777777778,
              "#fb9f3a"
             ],
             [
              0.8888888888888888,
              "#fdca26"
             ],
             [
              1,
              "#f0f921"
             ]
            ],
            "type": "surface"
           }
          ],
          "table": [
           {
            "cells": {
             "fill": {
              "color": "#EBF0F8"
             },
             "line": {
              "color": "white"
             }
            },
            "header": {
             "fill": {
              "color": "#C8D4E3"
             },
             "line": {
              "color": "white"
             }
            },
            "type": "table"
           }
          ]
         },
         "layout": {
          "annotationdefaults": {
           "arrowcolor": "#2a3f5f",
           "arrowhead": 0,
           "arrowwidth": 1
          },
          "autotypenumbers": "strict",
          "coloraxis": {
           "colorbar": {
            "outlinewidth": 0,
            "ticks": ""
           }
          },
          "colorscale": {
           "diverging": [
            [
             0,
             "#8e0152"
            ],
            [
             0.1,
             "#c51b7d"
            ],
            [
             0.2,
             "#de77ae"
            ],
            [
             0.3,
             "#f1b6da"
            ],
            [
             0.4,
             "#fde0ef"
            ],
            [
             0.5,
             "#f7f7f7"
            ],
            [
             0.6,
             "#e6f5d0"
            ],
            [
             0.7,
             "#b8e186"
            ],
            [
             0.8,
             "#7fbc41"
            ],
            [
             0.9,
             "#4d9221"
            ],
            [
             1,
             "#276419"
            ]
           ],
           "sequential": [
            [
             0,
             "#0d0887"
            ],
            [
             0.1111111111111111,
             "#46039f"
            ],
            [
             0.2222222222222222,
             "#7201a8"
            ],
            [
             0.3333333333333333,
             "#9c179e"
            ],
            [
             0.4444444444444444,
             "#bd3786"
            ],
            [
             0.5555555555555556,
             "#d8576b"
            ],
            [
             0.6666666666666666,
             "#ed7953"
            ],
            [
             0.7777777777777778,
             "#fb9f3a"
            ],
            [
             0.8888888888888888,
             "#fdca26"
            ],
            [
             1,
             "#f0f921"
            ]
           ],
           "sequentialminus": [
            [
             0,
             "#0d0887"
            ],
            [
             0.1111111111111111,
             "#46039f"
            ],
            [
             0.2222222222222222,
             "#7201a8"
            ],
            [
             0.3333333333333333,
             "#9c179e"
            ],
            [
             0.4444444444444444,
             "#bd3786"
            ],
            [
             0.5555555555555556,
             "#d8576b"
            ],
            [
             0.6666666666666666,
             "#ed7953"
            ],
            [
             0.7777777777777778,
             "#fb9f3a"
            ],
            [
             0.8888888888888888,
             "#fdca26"
            ],
            [
             1,
             "#f0f921"
            ]
           ]
          },
          "colorway": [
           "#636efa",
           "#EF553B",
           "#00cc96",
           "#ab63fa",
           "#FFA15A",
           "#19d3f3",
           "#FF6692",
           "#B6E880",
           "#FF97FF",
           "#FECB52"
          ],
          "font": {
           "color": "#2a3f5f"
          },
          "geo": {
           "bgcolor": "white",
           "lakecolor": "white",
           "landcolor": "#E5ECF6",
           "showlakes": true,
           "showland": true,
           "subunitcolor": "white"
          },
          "hoverlabel": {
           "align": "left"
          },
          "hovermode": "closest",
          "mapbox": {
           "style": "light"
          },
          "paper_bgcolor": "white",
          "plot_bgcolor": "#E5ECF6",
          "polar": {
           "angularaxis": {
            "gridcolor": "white",
            "linecolor": "white",
            "ticks": ""
           },
           "bgcolor": "#E5ECF6",
           "radialaxis": {
            "gridcolor": "white",
            "linecolor": "white",
            "ticks": ""
           }
          },
          "scene": {
           "xaxis": {
            "backgroundcolor": "#E5ECF6",
            "gridcolor": "white",
            "gridwidth": 2,
            "linecolor": "white",
            "showbackground": true,
            "ticks": "",
            "zerolinecolor": "white"
           },
           "yaxis": {
            "backgroundcolor": "#E5ECF6",
            "gridcolor": "white",
            "gridwidth": 2,
            "linecolor": "white",
            "showbackground": true,
            "ticks": "",
            "zerolinecolor": "white"
           },
           "zaxis": {
            "backgroundcolor": "#E5ECF6",
            "gridcolor": "white",
            "gridwidth": 2,
            "linecolor": "white",
            "showbackground": true,
            "ticks": "",
            "zerolinecolor": "white"
           }
          },
          "shapedefaults": {
           "line": {
            "color": "#2a3f5f"
           }
          },
          "ternary": {
           "aaxis": {
            "gridcolor": "white",
            "linecolor": "white",
            "ticks": ""
           },
           "baxis": {
            "gridcolor": "white",
            "linecolor": "white",
            "ticks": ""
           },
           "bgcolor": "#E5ECF6",
           "caxis": {
            "gridcolor": "white",
            "linecolor": "white",
            "ticks": ""
           }
          },
          "title": {
           "x": 0.05
          },
          "xaxis": {
           "automargin": true,
           "gridcolor": "white",
           "linecolor": "white",
           "ticks": "",
           "title": {
            "standoff": 15
           },
           "zerolinecolor": "white",
           "zerolinewidth": 2
          },
          "yaxis": {
           "automargin": true,
           "gridcolor": "white",
           "linecolor": "white",
           "ticks": "",
           "title": {
            "standoff": 15
           },
           "zerolinecolor": "white",
           "zerolinewidth": 2
          }
         }
        },
        "title": {
         "text": "Occupational Profiles, Network and Computer Systems Administrators, by Skill Type and Bucket"
        }
       }
      },
      "image/png": "[encoded data removed]",
      "text/html": [
       "<div>                            <div id=\"8e2ab567-eede-401f-8ab6-c48f171a8f29\" class=\"plotly-graph-div\" style=\"height:525px; width:100%;\"></div>            <script type=\"text/javascript\">                require([\"plotly\"], function(Plotly) {                    window.PLOTLYENV=window.PLOTLYENV || {};                                    if (document.getElementById(\"8e2ab567-eede-401f-8ab6-c48f171a8f29\")) {                    Plotly.newPlot(                        \"8e2ab567-eede-401f-8ab6-c48f171a8f29\",                        [{\"branchvalues\":\"total\",\"customdata\":[[\"General Skills\"],[\"General Skills\"],[\"General Skills\"],[\"General Skills\"],[\"Key Skills\"],[\"General Skills\"],[\"General Skills\"],[\"Key Skills\"],[\"General Skills\"],[\"General Skills\"],[\"General Skills\"],[\"Key Skills\"],[\"Key Skills\"],[\"General Skills\"],[\"Key Skills\"],[\"General Skills\"],[\"General Skills\"],[\"General Skills\"],[\"General Skills\"],[\"General Skills\"],[\"General Skills\"],[\"General Skills\"],[\"Key Skills\"],[\"General Skills\"],[\"General Skills\"],[\"General Skills\"],[\"General Skills\"],[\"General Skills\"],[\"General Skills\"],[\"General Skills\"],[\"General Skills\"],[\"General Skills\"],[\"General Skills\"],[\"General Skills\"],[\"General Skills\"],[\"General Skills\"],[\"General Skills\"],[\"Key Skills\"],[\"General Skills\"],[\"General Skills\"],[\"General Skills\"],[\"General Skills\"],[\"Key Skills\"],[\"General Skills\"],[\"General Skills\"],[\"General Skills\"],[\"General Skills\"],[\"General Skills\"],[\"Key Skills\"],[\"General Skills\"],[\"General Skills\"],[\"General Skills\"],[\"Key Skills\"],[\"General Skills\"],[\"General Skills\"],[\"General Skills\"],[\"General Skills\"],[\"General Skills\"],[\"General Skills\"],[\"General Skills\"],[\"General Skills\"],[\"General Skills\"],[\"General Skills\"],[\"General Skills\"],[\"General Skills\"],[\"Key Skills\"],[\"General Skills\"],[\"General Skills\"],[\"General Skills\"],[\"General Skills\"],[\"General Skills\"],[\"General Skills\"],[\"General Skills\"],[\"Key Skills\"],[\"General Skills\"],[\"General Skills\"],[\"General Skills\"],[\"General Skills\"],[\"General Skills\"],[\"Key Skills\"],[\"General Skills\"],[\"General Skills\"],[\"Key Skills\"],[\"General Skills\"],[\"General Skills\"],[\"General Skills\"],[\"Key Skills\"],[\"General Skills\"],[\"General Skills\"],[\"General Skills\"],[\"General Skills\"],[\"General Skills\"],[\"General Skills\"],[\"General Skills\"],[\"General Skills\"],[\"General Skills\"],[\"General Skills\"],[\"Key Skills\"],[\"General Skills\"],[\"General Skills\"],[\"General Skills\"],[\"General Skills\"],[\"General Skills\"],[\"General Skills\"],[\"General Skills\"],[\"General Skills\"],[\"General Skills\"],[\"General Skills\"],[\"General Skills\"],[\"Key Skills\"],[\"General Skills\"],[\"Key Skills\"],[\"General Skills\"],[\"General Skills\"],[\"General Skills\"],[\"General Skills\"],[\"General Skills\"],[\"General Skills\"],[\"General Skills\"],[\"General Skills\"],[\"General Skills\"],[\"General Skills\"],[\"General Skills\"],[\"Key Skills\"],[\"General Skills\"],[\"General Skills\"],[\"General Skills\"],[\"Key Skills\"],[\"General Skills\"],[\"General Skills\"],[\"General Skills\"],[\"Key Skills\"],[\"Key Skills\"],[\"General Skills\"],[\"General Skills\"],[\"General Skills\"],[\"General Skills\"],[\"General Skills\"],[\"General Skills\"],[\"General Skills\"],[\"General Skills\"],[\"General Skills\"],[\"General Skills\"],[\"General Skills\"],[\"General Skills\"],[\"General Skills\"],[\"Key Skills\"],[\"General Skills\"],[\"Key Skills\"],[\"General Skills\"],[\"General Skills\"],[\"General Skills\"],[\"General Skills\"],[\"General Skills\"],[\"General Skills\"],[\"General Skills\"],[\"General Skills\"],[\"General Skills\"],[\"Key Skills\"],[\"Key Skills\"],[\"General Skills\"],[\"General Skills\"],[\"General Skills\"],[\"General Skills\"],[\"Key Skills\"],[\"General Skills\"],[\"Key Skills\"],[\"Key Skills\"],[\"General Skills\"],[\"General Skills\"],[\"General Skills\"],[\"General Skills\"],[\"Key Skills\"],[\"General Skills\"],[\"General Skills\"],[\"General Skills\"],[\"General Skills\"],[\"General Skills\"],[\"General Skills\"],[\"General Skills\"],[\"General Skills\"],[\"Key Skills\"],[\"Key Skills\"],[\"Key Skills\"],[\"General Skills\"],[\"General Skills\"],[\"General Skills\"],[\"Key Skills\"]],\"domain\":{\"x\":[0.0,1.0],\"y\":[0.0,1.0]},\"hovertemplate\":\"%{label}\",\"ids\":[\"General Skills\\u002fCommon Skills\\u002fAbility To Meet Deadlines\",\"General Skills\\u002fSoftware Skills\\u002fMicrosoft Windows\",\"General Skills\\u002fSoftware Skills\\u002fMicrosoft Windows 10\",\"General Skills\\u002fCommon Skills\\u002fMultitasking\",\"Key Skills\\u002fDefining Skills\\u002fNetwork  Administration\",\"General Skills\\u002fSpecialised Skills\\u002fNetwork Administration\",\"General Skills\\u002fSpecialised Skills\\u002fNetwork Infrastructure\",\"Key Skills\\u002fDistinguishing Skills\\u002fNetwork Infrastructure \",\"General Skills\\u002fSpecialised Skills\\u002fNetwork Routing\",\"General Skills\\u002fSpecialised Skills\\u002fNetwork Security\",\"General Skills\\u002fSpecialised Skills\\u002fNetwork Switches\",\"Key Skills\\u002fNecessary Skills\\u002fNetwork Switches \",\"Key Skills\\u002fDistinguishing Skills\\u002fNetwork Troubleshooting \",\"General Skills\\u002fSpecialised Skills\\u002fNetworking Hardware\",\"Key Skills\\u002fDistinguishing Skills\\u002fNetworking Hardware \",\"General Skills\\u002fSoftware Skills\\u002fOperating Systems\",\"General Skills\\u002fCommon Skills\\u002fMicrosoft Windows\",\"General Skills\\u002fSpecialised Skills\\u002fOperating Systems\",\"General Skills\\u002fSoftware Skills\\u002fMicrosoft Teams\",\"General Skills\\u002fSoftware Skills\\u002fMicrosoft SharePoint\",\"General Skills\\u002fSoftware Skills\\u002fMicrosoft Azure\",\"General Skills\\u002fSpecialised Skills\\u002fMicrosoft Azure\",\"Key Skills\\u002fDistinguishing Skills\\u002fMicrosoft Certified Systems Engineer\",\"General Skills\\u002fCommon Skills\\u002fMicrosoft Excel\",\"General Skills\\u002fSoftware Skills\\u002fMicrosoft Excel\",\"General Skills\\u002fSoftware Skills\\u002fMicrosoft Intune (Mobile Device Management Software)\",\"General Skills\\u002fCommon Skills\\u002fMicrosoft Office\",\"General Skills\\u002fSoftware Skills\\u002fMicrosoft Office\",\"General Skills\\u002fSoftware Skills\\u002fMicrosoft Office 365\",\"General Skills\\u002fSpecialised Skills\\u002fMicrosoft Office 365\",\"General Skills\\u002fCommon Skills\\u002fMicrosoft Outlook\",\"General Skills\\u002fSoftware Skills\\u002fMicrosoft Outlook\",\"General Skills\\u002fSoftware Skills\\u002fMicrosoft PowerPoint\",\"General Skills\\u002fSoftware Skills\\u002fMicrosoft SQL Servers\",\"General Skills\\u002fSoftware Skills\\u002fMicrosoft Servers\",\"General Skills\\u002fSpecialised Skills\\u002fMicrosoft SharePoint\",\"General Skills\\u002fSoftware Skills\\u002fMicrosoft Access\",\"Key Skills\\u002fDefining Skills\\u002fOperating Systems \",\"General Skills\\u002fCommon Skills\\u002fOrganizational Skills\",\"General Skills\\u002fCommon Skills\\u002fSales\",\"General Skills\\u002fCommon Skills\\u002fScheduling\",\"General Skills\\u002fSpecialised Skills\\u002fScripting\",\"Key Skills\\u002fNecessary Skills\\u002fScripting  \",\"General Skills\\u002fCommon Skills\\u002fSecurity Policies\",\"General Skills\\u002fCommon Skills\\u002fSelf-Motivation\",\"General Skills\\u002fSoftware Skills\\u002fServiceNow\",\"General Skills\\u002fSpecialised Skills\\u002fServiceNow\",\"General Skills\\u002fSoftware Skills\\u002fShell Script\",\"Key Skills\\u002fDistinguishing Skills\\u002fSoftware Installation \",\"General Skills\\u002fSoftware Skills\\u002fSoftware Systems\",\"General Skills\\u002fSoftware Skills\\u002fSplunk\",\"General Skills\\u002fSpecialised Skills\\u002fSystem Administration\",\"Key Skills\\u002fDefining Skills\\u002fSystem Administration \",\"General Skills\\u002fSpecialised Skills\\u002fSystems Engineering\",\"General Skills\\u002fSpecialised Skills\\u002fSQL (Programming Language)\",\"General Skills\\u002fCommon Skills\\u002fOperations\",\"General Skills\\u002fSoftware Skills\\u002fSQL (Programming Language)\",\"General Skills\\u002fCommon Skills\\u002fResearch\",\"General Skills\\u002fSoftware Skills\\u002fPerl (Programming Language)\",\"General Skills\\u002fCommon Skills\\u002fPlanning\",\"General Skills\\u002fCommon Skills\\u002fPresentations\",\"General Skills\\u002fCommon Skills\\u002fPrioritization\",\"General Skills\\u002fCommon Skills\\u002fProblem Solving\",\"General Skills\\u002fCommon Skills\\u002fProfessionalism\",\"General Skills\\u002fSpecialised Skills\\u002fProject Management\",\"Key Skills\\u002fNecessary Skills\\u002fProject Management \",\"General Skills\\u002fSoftware Skills\\u002fPuppet (Configuration Management Tool)\",\"General Skills\\u002fSoftware Skills\\u002fPython (Programming Language)\",\"General Skills\\u002fSpecialised Skills\\u002fPython (Programming Language)\",\"General Skills\\u002fCommon Skills\\u002fQuality Assurance\",\"General Skills\\u002fSoftware Skills\\u002fRed Hat Enterprise Linux\",\"General Skills\\u002fSpecialised Skills\\u002fRed Hat Enterprise Linux\",\"General Skills\\u002fSoftware Skills\\u002fRed Hat Linux\",\"Key Skills\\u002fNecessary Skills\\u002fSQL (Programming Language)\",\"General Skills\\u002fSoftware Skills\\u002fMicrosoft 365\",\"General Skills\\u002fCommon Skills\\u002fMicrosoft PowerPoint\",\"General Skills\\u002fCommon Skills\\u002fMathematics\",\"General Skills\\u002fSoftware Skills\\u002fCentOS\",\"General Skills\\u002fSpecialised Skills\\u002fChange Management\",\"Key Skills\\u002fDistinguishing Skills\\u002fCisco Certified Network Associate\",\"General Skills\\u002fCommon Skills\\u002fMentorship\",\"General Skills\\u002fCommon Skills\\u002fCommunication\",\"Key Skills\\u002fDistinguishing Skills\\u002fCompTIA Security+ \",\"General Skills\\u002fCommon Skills\\u002fComputer Literacy\",\"General Skills\\u002fSpecialised Skills\\u002fComputer Networks\",\"General Skills\\u002fSpecialised Skills\\u002fComputer Science\",\"Key Skills\\u002fDefining Skills\\u002fComputer Science \",\"General Skills\\u002fSpecialised Skills\\u002fConfiguration Management\",\"General Skills\\u002fCommon Skills\\u002fConsulting\",\"General Skills\\u002fCommon Skills\\u002fCoordinating\",\"General Skills\\u002fCommon Skills\\u002fCritical Thinking\",\"General Skills\\u002fCommon Skills\\u002fCustomer Service\",\"General Skills\\u002fSpecialised Skills\\u002fBash (Scripting Language)\",\"General Skills\\u002fSpecialised Skills\\u002fCyber Security\",\"General Skills\\u002fSoftware Skills\\u002fBash (Scripting Language)\",\"General Skills\\u002fSpecialised Skills\\u002fBackup Devices\",\"General Skills\\u002fCommon Skills\\u002fAccountability\",\"Key Skills\\u002fDefining Skills\\u002fActive Directorv \",\"General Skills\\u002fSoftware Skills\\u002fActive Directory\",\"General Skills\\u002fSpecialised Skills\\u002fActive Directory\",\"General Skills\\u002fCommon Skills\\u002fAdministrative Functions\",\"General Skills\\u002fSpecialised Skills\\u002fAgile Methodology\",\"General Skills\\u002fSoftware Skills\\u002fAmazon Web Services\",\"General Skills\\u002fSpecialised Skills\\u002fAmazon Web Services\",\"General Skills\\u002fCommon Skills\\u002fAnalytical Skills\",\"General Skills\\u002fSoftware Skills\\u002fAnsible\",\"General Skills\\u002fSpecialised Skills\\u002fAnsible\",\"General Skills\\u002fSpecialised Skills\\u002fAuditing\",\"General Skills\\u002fSpecialised Skills\\u002fAutomation\",\"Key Skills\\u002fNecessary Skills\\u002fAutomation  \",\"General Skills\\u002fSoftware Skills\\u002fAzure Active Directory\",\"Key Skills\\u002fDefining Skills\\u002fBackup Devices \",\"General Skills\\u002fSoftware Skills\\u002fDashboard\",\"General Skills\\u002fCommon Skills\\u002fCollaboration\",\"General Skills\\u002fCommon Skills\\u002fDetail Oriented\",\"General Skills\\u002fSoftware Skills\\u002fInformation Technology Infrastructure Library\",\"General Skills\\u002fCommon Skills\\u002fInnovation\",\"General Skills\\u002fCommon Skills\\u002fInterpersonal Communications\",\"General Skills\\u002fSoftware Skills\\u002fJIRA\",\"General Skills\\u002fSoftware Skills\\u002fJava (Programming Language)\",\"General Skills\\u002fSoftware Skills\\u002fKubernetes\",\"General Skills\\u002fCommon Skills\\u002fLeadership\",\"General Skills\\u002fCommon Skills\\u002fLifting Ability\",\"Key Skills\\u002fDistinguishing Skills\\u002fLightweight Directory Access Protocols\",\"General Skills\\u002fSoftware Skills\\u002fLinux\",\"General Skills\\u002fSpecialised Skills\\u002fLinux\",\"General Skills\\u002fCommon Skills\\u002fDecision Making\",\"Key Skills\\u002fDefining Skills\\u002fLocal Area \",\"General Skills\\u002fSpecialised Skills\\u002fLocal Area Networks\",\"General Skills\\u002fCommon Skills\\u002fManagement\",\"General Skills\\u002fCommon Skills\\u002fInformation Technology\",\"Key Skills\\u002fNecessary Skills\\u002fInformation Systems \",\"Key Skills\\u002fDefining Skills\\u002fLinux  \",\"General Skills\\u002fSpecialised Skills\\u002fIT Infrastructure\",\"General Skills\\u002fSpecialised Skills\\u002fInformation Systems\",\"General Skills\\u002fSpecialised Skills\\u002fDisaster Recovery\",\"General Skills\\u002fSoftware Skills\\u002fDynamic Host Configuration Protocol (DHCP)\",\"General Skills\\u002fSpecialised Skills\\u002fDynamic Host Configuration Protocol (DHCP)\",\"General Skills\\u002fCommon Skills\\u002fEnglish Language\",\"General Skills\\u002fSoftware Skills\\u002fEnterprise Application Software\",\"General Skills\\u002fSoftware Skills\\u002fFirewall\",\"General Skills\\u002fSpecialised Skills\\u002fFirewall\",\"General Skills\\u002fSoftware Skills\\u002fDocker (Software)\",\"General Skills\\u002fSoftware Skills\\u002fGit (Version Control System)\",\"General Skills\\u002fCommon Skills\\u002fGovernance\",\"General Skills\\u002fSpecialised Skills\\u002fGroup Policy\",\"Key Skills\\u002fNecessary Skills\\u002fHelp Desk Support\",\"General Skills\\u002fSpecialised Skills\\u002fHelp Desk Support\",\"Key Skills\\u002fDefining Skills\\u002fFirewall  \",\"General Skills\\u002fSoftware Skills\\u002fHyper-V\",\"General Skills\\u002fSpecialised Skills\\u002fVirtual Private Networks (VPN)\",\"General Skills\\u002fSpecialised Skills\\u002fVirtualization\",\"General Skills\\u002fSpecialised Skills\\u002fVulnerability\",\"General Skills\\u002fSpecialised Skills\\u002fWide Area Networks\",\"General Skills\\u002fCommon Skills\\u002fWillingness To Learn\",\"General Skills\\u002fSoftware Skills\\u002fWindows Servers\",\"General Skills\\u002fSpecialised Skills\\u002fWindows PowerShell\",\"General Skills\\u002fSpecialised Skills\\u002fWindows Servers\",\"Key Skills\\u002fDefining Skills\\u002fWindows Servers \",\"Key Skills\\u002fDistinguishing Skills\\u002fWindows System Administration\",\"General Skills\\u002fSoftware Skills\\u002fVirtual Machines\",\"General Skills\\u002fCommon Skills\\u002fWireless Communications\",\"General Skills\\u002fSoftware Skills\\u002fWindows PowerShell\",\"General Skills\\u002fCommon Skills\\u002fVerbal Communication Skills\",\"Key Skills\\u002fNecessary Skills\\u002fTop Secret-Sensitive Compartmented Information (TS\\u002fSCI Clearance)\",\"General Skills\\u002fSoftware Skills\\u002fVMware ESX Servers\",\"Key Skills\\u002fDistinguishing Skills\\u002fVMware ESX Servers\",\"Key Skills\\u002fNecessary Skills\\u002fUnix  \",\"General Skills\\u002fSpecialised Skills\\u002fUnix\",\"General Skills\\u002fSoftware Skills\\u002fUnix\",\"General Skills\\u002fCommon Skills\\u002fTroubleshooting (Problem Solving)\",\"General Skills\\u002fCommon Skills\\u002fTime Management\",\"Key Skills\\u002fNecessary Skills\\u002fTechnical Support \",\"General Skills\\u002fSpecialised Skills\\u002fTechnical Support\",\"General Skills\\u002fCommon Skills\\u002fTeamwork\",\"General Skills\\u002fCommon Skills\\u002fTeam Oriented\",\"General Skills\\u002fSpecialised Skills\\u002fTCP\\u002fIP\",\"General Skills\\u002fSpecialised Skills\\u002fWorkflow Management\",\"General Skills\\u002fSoftware Skills\\u002fVMware VSphere\",\"General Skills\\u002fCommon Skills\\u002fWriting\",\"General Skills\\u002fCommon Skills\",\"Key Skills\\u002fDefining Skills\",\"Key Skills\\u002fDistinguishing Skills\",\"Key Skills\\u002fNecessary Skills\",\"General Skills\\u002fSoftware Skills\",\"General Skills\\u002fSpecialised Skills\",\"General Skills\",\"Key Skills\"],\"labels\":[\"Ability To Meet Deadlines\",\"Microsoft Windows\",\"Microsoft Windows 10\",\"Multitasking\",\"Network  Administration\",\"Network Administration\",\"Network Infrastructure\",\"Network Infrastructure \",\"Network Routing\",\"Network Security\",\"Network Switches\",\"Network Switches \",\"Network Troubleshooting \",\"Networking Hardware\",\"Networking Hardware \",\"Operating Systems\",\"Microsoft Windows\",\"Operating Systems\",\"Microsoft Teams\",\"Microsoft SharePoint\",\"Microsoft Azure\",\"Microsoft Azure\",\"Microsoft Certified Systems Engineer\",\"Microsoft Excel\",\"Microsoft Excel\",\"Microsoft Intune (Mobile Device Management Software)\",\"Microsoft Office\",\"Microsoft Office\",\"Microsoft Office 365\",\"Microsoft Office 365\",\"Microsoft Outlook\",\"Microsoft Outlook\",\"Microsoft PowerPoint\",\"Microsoft SQL Servers\",\"Microsoft Servers\",\"Microsoft SharePoint\",\"Microsoft Access\",\"Operating Systems \",\"Organizational Skills\",\"Sales\",\"Scheduling\",\"Scripting\",\"Scripting  \",\"Security Policies\",\"Self-Motivation\",\"ServiceNow\",\"ServiceNow\",\"Shell Script\",\"Software Installation \",\"Software Systems\",\"Splunk\",\"System Administration\",\"System Administration \",\"Systems Engineering\",\"SQL (Programming Language)\",\"Operations\",\"SQL (Programming Language)\",\"Research\",\"Perl (Programming Language)\",\"Planning\",\"Presentations\",\"Prioritization\",\"Problem Solving\",\"Professionalism\",\"Project Management\",\"Project Management \",\"Puppet (Configuration Management Tool)\",\"Python (Programming Language)\",\"Python (Programming Language)\",\"Quality Assurance\",\"Red Hat Enterprise Linux\",\"Red Hat Enterprise Linux\",\"Red Hat Linux\",\"SQL (Programming Language)\",\"Microsoft 365\",\"Microsoft PowerPoint\",\"Mathematics\",\"CentOS\",\"Change Management\",\"Cisco Certified Network Associate\",\"Mentorship\",\"Communication\",\"CompTIA Security+ \",\"Computer Literacy\",\"Computer Networks\",\"Computer Science\",\"Computer Science \",\"Configuration Management\",\"Consulting\",\"Coordinating\",\"Critical Thinking\",\"Customer Service\",\"Bash (Scripting Language)\",\"Cyber Security\",\"Bash (Scripting Language)\",\"Backup Devices\",\"Accountability\",\"Active Directorv \",\"Active Directory\",\"Active Directory\",\"Administrative Functions\",\"Agile Methodology\",\"Amazon Web Services\",\"Amazon Web Services\",\"Analytical Skills\",\"Ansible\",\"Ansible\",\"Auditing\",\"Automation\",\"Automation  \",\"Azure Active Directory\",\"Backup Devices \",\"Dashboard\",\"Collaboration\",\"Detail Oriented\",\"Information Technology Infrastructure Library\",\"Innovation\",\"Interpersonal Communications\",\"JIRA\",\"Java (Programming Language)\",\"Kubernetes\",\"Leadership\",\"Lifting Ability\",\"Lightweight Directory Access Protocols\",\"Linux\",\"Linux\",\"Decision Making\",\"Local Area \",\"Local Area Networks\",\"Management\",\"Information Technology\",\"Information Systems \",\"Linux  \",\"IT Infrastructure\",\"Information Systems\",\"Disaster Recovery\",\"Dynamic Host Configuration Protocol (DHCP)\",\"Dynamic Host Configuration Protocol (DHCP)\",\"English Language\",\"Enterprise Application Software\",\"Firewall\",\"Firewall\",\"Docker (Software)\",\"Git (Version Control System)\",\"Governance\",\"Group Policy\",\"Help Desk Support\",\"Help Desk Support\",\"Firewall  \",\"Hyper-V\",\"Virtual Private Networks (VPN)\",\"Virtualization\",\"Vulnerability\",\"Wide Area Networks\",\"Willingness To Learn\",\"Windows Servers\",\"Windows PowerShell\",\"Windows Servers\",\"Windows Servers \",\"Windows System Administration\",\"Virtual Machines\",\"Wireless Communications\",\"Windows PowerShell\",\"Verbal Communication Skills\",\"Top Secret-Sensitive Compartmented Information (TS\\u002fSCI Clearance)\",\"VMware ESX Servers\",\"VMware ESX Servers\",\"Unix  \",\"Unix\",\"Unix\",\"Troubleshooting (Problem Solving)\",\"Time Management\",\"Technical Support \",\"Technical Support\",\"Teamwork\",\"Team Oriented\",\"TCP\\u002fIP\",\"Workflow Management\",\"VMware VSphere\",\"Writing\",\"Common Skills\",\"Defining Skills\",\"Distinguishing Skills\",\"Necessary Skills\",\"Software Skills\",\"Specialised Skills\",\"General Skills\",\"Key Skills\"],\"marker\":{\"colors\":[\"#636efa\",\"#636efa\",\"#636efa\",\"#636efa\",\"#EF553B\",\"#636efa\",\"#636efa\",\"#EF553B\",\"#636efa\",\"#636efa\",\"#636efa\",\"#EF553B\",\"#EF553B\",\"#636efa\",\"#EF553B\",\"#636efa\",\"#636efa\",\"#636efa\",\"#636efa\",\"#636efa\",\"#636efa\",\"#636efa\",\"#EF553B\",\"#636efa\",\"#636efa\",\"#636efa\",\"#636efa\",\"#636efa\",\"#636efa\",\"#636efa\",\"#636efa\",\"#636efa\",\"#636efa\",\"#636efa\",\"#636efa\",\"#636efa\",\"#636efa\",\"#EF553B\",\"#636efa\",\"#636efa\",\"#636efa\",\"#636efa\",\"#EF553B\",\"#636efa\",\"#636efa\",\"#636efa\",\"#636efa\",\"#636efa\",\"#EF553B\",\"#636efa\",\"#636efa\",\"#636efa\",\"#EF553B\",\"#636efa\",\"#636efa\",\"#636efa\",\"#636efa\",\"#636efa\",\"#636efa\",\"#636efa\",\"#636efa\",\"#636efa\",\"#636efa\",\"#636efa\",\"#636efa\",\"#EF553B\",\"#636efa\",\"#636efa\",\"#636efa\",\"#636efa\",\"#636efa\",\"#636efa\",\"#636efa\",\"#EF553B\",\"#636efa\",\"#636efa\",\"#636efa\",\"#636efa\",\"#636efa\",\"#EF553B\",\"#636efa\",\"#636efa\",\"#EF553B\",\"#636efa\",\"#636efa\",\"#636efa\",\"#EF553B\",\"#636efa\",\"#636efa\",\"#636efa\",\"#636efa\",\"#636efa\",\"#636efa\",\"#636efa\",\"#636efa\",\"#636efa\",\"#636efa\",\"#EF553B\",\"#636efa\",\"#636efa\",\"#636efa\",\"#636efa\",\"#636efa\",\"#636efa\",\"#636efa\",\"#636efa\",\"#636efa\",\"#636efa\",\"#636efa\",\"#EF553B\",\"#636efa\",\"#EF553B\",\"#636efa\",\"#636efa\",\"#636efa\",\"#636efa\",\"#636efa\",\"#636efa\",\"#636efa\",\"#636efa\",\"#636efa\",\"#636efa\",\"#636efa\",\"#EF553B\",\"#636efa\",\"#636efa\",\"#636efa\",\"#EF553B\",\"#636efa\",\"#636efa\",\"#636efa\",\"#EF553B\",\"#EF553B\",\"#636efa\",\"#636efa\",\"#636efa\",\"#636efa\",\"#636efa\",\"#636efa\",\"#636efa\",\"#636efa\",\"#636efa\",\"#636efa\",\"#636efa\",\"#636efa\",\"#636efa\",\"#EF553B\",\"#636efa\",\"#EF553B\",\"#636efa\",\"#636efa\",\"#636efa\",\"#636efa\",\"#636efa\",\"#636efa\",\"#636efa\",\"#636efa\",\"#636efa\",\"#EF553B\",\"#EF553B\",\"#636efa\",\"#636efa\",\"#636efa\",\"#636efa\",\"#EF553B\",\"#636efa\",\"#EF553B\",\"#EF553B\",\"#636efa\",\"#636efa\",\"#636efa\",\"#636efa\",\"#EF553B\",\"#636efa\",\"#636efa\",\"#636efa\",\"#636efa\",\"#636efa\",\"#636efa\",\"#636efa\",\"#636efa\",\"#EF553B\",\"#EF553B\",\"#EF553B\",\"#636efa\",\"#636efa\",\"#636efa\",\"#EF553B\"]},\"name\":\"\",\"parents\":[\"General Skills\\u002fCommon Skills\",\"General Skills\\u002fSoftware Skills\",\"General Skills\\u002fSoftware Skills\",\"General Skills\\u002fCommon Skills\",\"Key Skills\\u002fDefining Skills\",\"General Skills\\u002fSpecialised Skills\",\"General Skills\\u002fSpecialised Skills\",\"Key Skills\\u002fDistinguishing Skills\",\"General Skills\\u002fSpecialised Skills\",\"General Skills\\u002fSpecialised Skills\",\"General Skills\\u002fSpecialised Skills\",\"Key Skills\\u002fNecessary Skills\",\"Key Skills\\u002fDistinguishing Skills\",\"General Skills\\u002fSpecialised Skills\",\"Key Skills\\u002fDistinguishing Skills\",\"General Skills\\u002fSoftware Skills\",\"General Skills\\u002fCommon Skills\",\"General Skills\\u002fSpecialised Skills\",\"General Skills\\u002fSoftware Skills\",\"General Skills\\u002fSoftware Skills\",\"General Skills\\u002fSoftware Skills\",\"General Skills\\u002fSpecialised Skills\",\"Key Skills\\u002fDistinguishing Skills\",\"General Skills\\u002fCommon Skills\",\"General Skills\\u002fSoftware Skills\",\"General Skills\\u002fSoftware Skills\",\"General Skills\\u002fCommon Skills\",\"General Skills\\u002fSoftware Skills\",\"General Skills\\u002fSoftware Skills\",\"General Skills\\u002fSpecialised Skills\",\"General Skills\\u002fCommon Skills\",\"General Skills\\u002fSoftware Skills\",\"General Skills\\u002fSoftware Skills\",\"General Skills\\u002fSoftware Skills\",\"General Skills\\u002fSoftware Skills\",\"General Skills\\u002fSpecialised Skills\",\"General Skills\\u002fSoftware Skills\",\"Key Skills\\u002fDefining Skills\",\"General Skills\\u002fCommon Skills\",\"General Skills\\u002fCommon Skills\",\"General Skills\\u002fCommon Skills\",\"General Skills\\u002fSpecialised Skills\",\"Key Skills\\u002fNecessary Skills\",\"General Skills\\u002fCommon Skills\",\"General Skills\\u002fCommon Skills\",\"General Skills\\u002fSoftware Skills\",\"General Skills\\u002fSpecialised Skills\",\"General Skills\\u002fSoftware Skills\",\"Key Skills\\u002fDistinguishing Skills\",\"General Skills\\u002fSoftware Skills\",\"General Skills\\u002fSoftware Skills\",\"General Skills\\u002fSpecialised Skills\",\"Key Skills\\u002fDefining Skills\",\"General Skills\\u002fSpecialised Skills\",\"General Skills\\u002fSpecialised Skills\",\"General Skills\\u002fCommon Skills\",\"General Skills\\u002fSoftware Skills\",\"General Skills\\u002fCommon Skills\",\"General Skills\\u002fSoftware Skills\",\"General Skills\\u002fCommon Skills\",\"General Skills\\u002fCommon Skills\",\"General Skills\\u002fCommon Skills\",\"General Skills\\u002fCommon Skills\",\"General Skills\\u002fCommon Skills\",\"General Skills\\u002fSpecialised Skills\",\"Key Skills\\u002fNecessary Skills\",\"General Skills\\u002fSoftware Skills\",\"General Skills\\u002fSoftware Skills\",\"General Skills\\u002fSpecialised Skills\",\"General Skills\\u002fCommon Skills\",\"General Skills\\u002fSoftware Skills\",\"General Skills\\u002fSpecialised Skills\",\"General Skills\\u002fSoftware Skills\",\"Key Skills\\u002fNecessary Skills\",\"General Skills\\u002fSoftware Skills\",\"General Skills\\u002fCommon Skills\",\"General Skills\\u002fCommon Skills\",\"General Skills\\u002fSoftware Skills\",\"General Skills\\u002fSpecialised Skills\",\"Key Skills\\u002fDistinguishing Skills\",\"General Skills\\u002fCommon Skills\",\"General Skills\\u002fCommon Skills\",\"Key Skills\\u002fDistinguishing Skills\",\"General Skills\\u002fCommon Skills\",\"General Skills\\u002fSpecialised Skills\",\"General Skills\\u002fSpecialised Skills\",\"Key Skills\\u002fDefining Skills\",\"General Skills\\u002fSpecialised Skills\",\"General Skills\\u002fCommon Skills\",\"General Skills\\u002fCommon Skills\",\"General Skills\\u002fCommon Skills\",\"General Skills\\u002fCommon Skills\",\"General Skills\\u002fSpecialised Skills\",\"General Skills\\u002fSpecialised Skills\",\"General Skills\\u002fSoftware Skills\",\"General Skills\\u002fSpecialised Skills\",\"General Skills\\u002fCommon Skills\",\"Key Skills\\u002fDefining Skills\",\"General Skills\\u002fSoftware Skills\",\"General Skills\\u002fSpecialised Skills\",\"General Skills\\u002fCommon Skills\",\"General Skills\\u002fSpecialised Skills\",\"General Skills\\u002fSoftware Skills\",\"General Skills\\u002fSpecialised Skills\",\"General Skills\\u002fCommon Skills\",\"General Skills\\u002fSoftware Skills\",\"General Skills\\u002fSpecialised Skills\",\"General Skills\\u002fSpecialised Skills\",\"General Skills\\u002fSpecialised Skills\",\"Key Skills\\u002fNecessary Skills\",\"General Skills\\u002fSoftware Skills\",\"Key Skills\\u002fDefining Skills\",\"General Skills\\u002fSoftware Skills\",\"General Skills\\u002fCommon Skills\",\"General Skills\\u002fCommon Skills\",\"General Skills\\u002fSoftware Skills\",\"General Skills\\u002fCommon Skills\",\"General Skills\\u002fCommon Skills\",\"General Skills\\u002fSoftware Skills\",\"General Skills\\u002fSoftware Skills\",\"General Skills\\u002fSoftware Skills\",\"General Skills\\u002fCommon Skills\",\"General Skills\\u002fCommon Skills\",\"Key Skills\\u002fDistinguishing Skills\",\"General Skills\\u002fSoftware Skills\",\"General Skills\\u002fSpecialised Skills\",\"General Skills\\u002fCommon Skills\",\"Key Skills\\u002fDefining Skills\",\"General Skills\\u002fSpecialised Skills\",\"General Skills\\u002fCommon Skills\",\"General Skills\\u002fCommon Skills\",\"Key Skills\\u002fNecessary Skills\",\"Key Skills\\u002fDefining Skills\",\"General Skills\\u002fSpecialised Skills\",\"General Skills\\u002fSpecialised Skills\",\"General Skills\\u002fSpecialised Skills\",\"General Skills\\u002fSoftware Skills\",\"General Skills\\u002fSpecialised Skills\",\"General Skills\\u002fCommon Skills\",\"General Skills\\u002fSoftware Skills\",\"General Skills\\u002fSoftware Skills\",\"General Skills\\u002fSpecialised Skills\",\"General Skills\\u002fSoftware Skills\",\"General Skills\\u002fSoftware Skills\",\"General Skills\\u002fCommon Skills\",\"General Skills\\u002fSpecialised Skills\",\"Key Skills\\u002fNecessary Skills\",\"General Skills\\u002fSpecialised Skills\",\"Key Skills\\u002fDefining Skills\",\"General Skills\\u002fSoftware Skills\",\"General Skills\\u002fSpecialised Skills\",\"General Skills\\u002fSpecialised Skills\",\"General Skills\\u002fSpecialised Skills\",\"General Skills\\u002fSpecialised Skills\",\"General Skills\\u002fCommon Skills\",\"General Skills\\u002fSoftware Skills\",\"General Skills\\u002fSpecialised Skills\",\"General Skills\\u002fSpecialised Skills\",\"Key Skills\\u002fDefining Skills\",\"Key Skills\\u002fDistinguishing Skills\",\"General Skills\\u002fSoftware Skills\",\"General Skills\\u002fCommon Skills\",\"General Skills\\u002fSoftware Skills\",\"General Skills\\u002fCommon Skills\",\"Key Skills\\u002fNecessary Skills\",\"General Skills\\u002fSoftware Skills\",\"Key Skills\\u002fDistinguishing Skills\",\"Key Skills\\u002fNecessary Skills\",\"General Skills\\u002fSpecialised Skills\",\"General Skills\\u002fSoftware Skills\",\"General Skills\\u002fCommon Skills\",\"General Skills\\u002fCommon Skills\",\"Key Skills\\u002fNecessary Skills\",\"General Skills\\u002fSpecialised Skills\",\"General Skills\\u002fCommon Skills\",\"General Skills\\u002fCommon Skills\",\"General Skills\\u002fSpecialised Skills\",\"General Skills\\u002fSpecialised Skills\",\"General Skills\\u002fSoftware Skills\",\"General Skills\\u002fCommon Skills\",\"General Skills\",\"Key Skills\",\"Key Skills\",\"Key Skills\",\"General Skills\",\"General Skills\",\"\",\"\"],\"values\":[3119,6879,5012,6624,224109,14922,6477,75155,6305,6750,12110,166355,67534,7902,97483,34521,6879,34521,4170,9124,14339,14339,84227,6427,6427,3526,9425,9425,8062,8062,3868,3868,3337,4451,4545,9124,4103,445968,5974,2210,3874,23459,259825,4277,10041,6986,6986,3884,69216,4436,4329,27769,397557,8186,11296,32576,11296,12026,5587,17155,3995,6704,27538,3252,10922,178802,4079,13860,13860,1918,6582,6582,4235,174169,5178,3337,4661,4022,7117,79223,3980,41134,98260,2152,6145,28033,358930,9615,3140,8365,3603,19761,8645,8437,8645,13487,2218,336583,25155,25155,3626,6419,11283,11283,3992,9926,9926,11106,19776,175285,4440,169131,3693,2499,11663,5723,6459,9634,4968,4288,4086,10534,4241,67910,33693,33693,2719,178786,11361,41840,22784,150021,400983,7368,10895,10297,10048,10048,2897,3436,16496,16496,3910,3618,3076,9067,124314,10378,200629,4670,7333,11042,7532,9615,2593,19877,14278,19877,316326,75132,4080,2426,14278,8667,125193,5107,77527,244855,11944,11944,56938,6606,162949,13868,5234,2386,7841,9867,4688,13115,484162,3029002,791667,1761768,414315,627516,1525993,5582437],\"type\":\"treemap\",\"sort\":false}],                        {\"template\":{\"data\":{\"histogram2dcontour\":[{\"type\":\"histogram2dcontour\",\"colorbar\":{\"outlinewidth\":0,\"ticks\":\"\"},\"colorscale\":[[0.0,\"#0d0887\"],[0.1111111111111111,\"#46039f\"],[0.2222222222222222,\"#7201a8\"],[0.3333333333333333,\"#9c179e\"],[0.4444444444444444,\"#bd3786\"],[0.5555555555555556,\"#d8576b\"],[0.6666666666666666,\"#ed7953\"],[0.7777777777777778,\"#fb9f3a\"],[0.8888888888888888,\"#fdca26\"],[1.0,\"#f0f921\"]]}],\"choropleth\":[{\"type\":\"choropleth\",\"colorbar\":{\"outlinewidth\":0,\"ticks\":\"\"}}],\"histogram2d\":[{\"type\":\"histogram2d\",\"colorbar\":{\"outlinewidth\":0,\"ticks\":\"\"},\"colorscale\":[[0.0,\"#0d0887\"],[0.1111111111111111,\"#46039f\"],[0.2222222222222222,\"#7201a8\"],[0.3333333333333333,\"#9c179e\"],[0.4444444444444444,\"#bd3786\"],[0.5555555555555556,\"#d8576b\"],[0.6666666666666666,\"#ed7953\"],[0.7777777777777778,\"#fb9f3a\"],[0.8888888888888888,\"#fdca26\"],[1.0,\"#f0f921\"]]}],\"heatmap\":[{\"type\":\"heatmap\",\"colorbar\":{\"outlinewidth\":0,\"ticks\":\"\"},\"colorscale\":[[0.0,\"#0d0887\"],[0.1111111111111111,\"#46039f\"],[0.2222222222222222,\"#7201a8\"],[0.3333333333333333,\"#9c179e\"],[0.4444444444444444,\"#bd3786\"],[0.5555555555555556,\"#d8576b\"],[0.6666666666666666,\"#ed7953\"],[0.7777777777777778,\"#fb9f3a\"],[0.8888888888888888,\"#fdca26\"],[1.0,\"#f0f921\"]]}],\"heatmapgl\":[{\"type\":\"heatmapgl\",\"colorbar\":{\"outlinewidth\":0,\"ticks\":\"\"},\"colorscale\":[[0.0,\"#0d0887\"],[0.1111111111111111,\"#46039f\"],[0.2222222222222222,\"#7201a8\"],[0.3333333333333333,\"#9c179e\"],[0.4444444444444444,\"#bd3786\"],[0.5555555555555556,\"#d8576b\"],[0.6666666666666666,\"#ed7953\"],[0.7777777777777778,\"#fb9f3a\"],[0.8888888888888888,\"#fdca26\"],[1.0,\"#f0f921\"]]}],\"contourcarpet\":[{\"type\":\"contourcarpet\",\"colorbar\":{\"outlinewidth\":0,\"ticks\":\"\"}}],\"contour\":[{\"type\":\"contour\",\"colorbar\":{\"outlinewidth\":0,\"ticks\":\"\"},\"colorscale\":[[0.0,\"#0d0887\"],[0.1111111111111111,\"#46039f\"],[0.2222222222222222,\"#7201a8\"],[0.3333333333333333,\"#9c179e\"],[0.4444444444444444,\"#bd3786\"],[0.5555555555555556,\"#d8576b\"],[0.6666666666666666,\"#ed7953\"],[0.7777777777777778,\"#fb9f3a\"],[0.8888888888888888,\"#fdca26\"],[1.0,\"#f0f921\"]]}],\"surface\":[{\"type\":\"surface\",\"colorbar\":{\"outlinewidth\":0,\"ticks\":\"\"},\"colorscale\":[[0.0,\"#0d0887\"],[0.1111111111111111,\"#46039f\"],[0.2222222222222222,\"#7201a8\"],[0.3333333333333333,\"#9c179e\"],[0.4444444444444444,\"#bd3786\"],[0.5555555555555556,\"#d8576b\"],[0.6666666666666666,\"#ed7953\"],[0.7777777777777778,\"#fb9f3a\"],[0.8888888888888888,\"#fdca26\"],[1.0,\"#f0f921\"]]}],\"mesh3d\":[{\"type\":\"mesh3d\",\"colorbar\":{\"outlinewidth\":0,\"ticks\":\"\"}}],\"scatter\":[{\"fillpattern\":{\"fillmode\":\"overlay\",\"size\":10,\"solidity\":0.2},\"type\":\"scatter\"}],\"parcoords\":[{\"type\":\"parcoords\",\"line\":{\"colorbar\":{\"outlinewidth\":0,\"ticks\":\"\"}}}],\"scatterpolargl\":[{\"type\":\"scatterpolargl\",\"marker\":{\"colorbar\":{\"outlinewidth\":0,\"ticks\":\"\"}}}],\"bar\":[{\"error_x\":{\"color\":\"#2a3f5f\"},\"error_y\":{\"color\":\"#2a3f5f\"},\"marker\":{\"line\":{\"color\":\"#E5ECF6\",\"width\":0.5},\"pattern\":{\"fillmode\":\"overlay\",\"size\":10,\"solidity\":0.2}},\"type\":\"bar\"}],\"scattergeo\":[{\"type\":\"scattergeo\",\"marker\":{\"colorbar\":{\"outlinewidth\":0,\"ticks\":\"\"}}}],\"scatterpolar\":[{\"type\":\"scatterpolar\",\"marker\":{\"colorbar\":{\"outlinewidth\":0,\"ticks\":\"\"}}}],\"histogram\":[{\"marker\":{\"pattern\":{\"fillmode\":\"overlay\",\"size\":10,\"solidity\":0.2}},\"type\":\"histogram\"}],\"scattergl\":[{\"type\":\"scattergl\",\"marker\":{\"colorbar\":{\"outlinewidth\":0,\"ticks\":\"\"}}}],\"scatter3d\":[{\"type\":\"scatter3d\",\"line\":{\"colorbar\":{\"outlinewidth\":0,\"ticks\":\"\"}},\"marker\":{\"colorbar\":{\"outlinewidth\":0,\"ticks\":\"\"}}}],\"scattermapbox\":[{\"type\":\"scattermapbox\",\"marker\":{\"colorbar\":{\"outlinewidth\":0,\"ticks\":\"\"}}}],\"scatterternary\":[{\"type\":\"scatterternary\",\"marker\":{\"colorbar\":{\"outlinewidth\":0,\"ticks\":\"\"}}}],\"scattercarpet\":[{\"type\":\"scattercarpet\",\"marker\":{\"colorbar\":{\"outlinewidth\":0,\"ticks\":\"\"}}}],\"carpet\":[{\"aaxis\":{\"endlinecolor\":\"#2a3f5f\",\"gridcolor\":\"white\",\"linecolor\":\"white\",\"minorgridcolor\":\"white\",\"startlinecolor\":\"#2a3f5f\"},\"baxis\":{\"endlinecolor\":\"#2a3f5f\",\"gridcolor\":\"white\",\"linecolor\":\"white\",\"minorgridcolor\":\"white\",\"startlinecolor\":\"#2a3f5f\"},\"type\":\"carpet\"}],\"table\":[{\"cells\":{\"fill\":{\"color\":\"#EBF0F8\"},\"line\":{\"color\":\"white\"}},\"header\":{\"fill\":{\"color\":\"#C8D4E3\"},\"line\":{\"color\":\"white\"}},\"type\":\"table\"}],\"barpolar\":[{\"marker\":{\"line\":{\"color\":\"#E5ECF6\",\"width\":0.5},\"pattern\":{\"fillmode\":\"overlay\",\"size\":10,\"solidity\":0.2}},\"type\":\"barpolar\"}],\"pie\":[{\"automargin\":true,\"type\":\"pie\"}]},\"layout\":{\"autotypenumbers\":\"strict\",\"colorway\":[\"#636efa\",\"#EF553B\",\"#00cc96\",\"#ab63fa\",\"#FFA15A\",\"#19d3f3\",\"#FF6692\",\"#B6E880\",\"#FF97FF\",\"#FECB52\"],\"font\":{\"color\":\"#2a3f5f\"},\"hovermode\":\"closest\",\"hoverlabel\":{\"align\":\"left\"},\"paper_bgcolor\":\"white\",\"plot_bgcolor\":\"#E5ECF6\",\"polar\":{\"bgcolor\":\"#E5ECF6\",\"angularaxis\":{\"gridcolor\":\"white\",\"linecolor\":\"white\",\"ticks\":\"\"},\"radialaxis\":{\"gridcolor\":\"white\",\"linecolor\":\"white\",\"ticks\":\"\"}},\"ternary\":{\"bgcolor\":\"#E5ECF6\",\"aaxis\":{\"gridcolor\":\"white\",\"linecolor\":\"white\",\"ticks\":\"\"},\"baxis\":{\"gridcolor\":\"white\",\"linecolor\":\"white\",\"ticks\":\"\"},\"caxis\":{\"gridcolor\":\"white\",\"linecolor\":\"white\",\"ticks\":\"\"}},\"coloraxis\":{\"colorbar\":{\"outlinewidth\":0,\"ticks\":\"\"}},\"colorscale\":{\"sequential\":[[0.0,\"#0d0887\"],[0.1111111111111111,\"#46039f\"],[0.2222222222222222,\"#7201a8\"],[0.3333333333333333,\"#9c179e\"],[0.4444444444444444,\"#bd3786\"],[0.5555555555555556,\"#d8576b\"],[0.6666666666666666,\"#ed7953\"],[0.7777777777777778,\"#fb9f3a\"],[0.8888888888888888,\"#fdca26\"],[1.0,\"#f0f921\"]],\"sequentialminus\":[[0.0,\"#0d0887\"],[0.1111111111111111,\"#46039f\"],[0.2222222222222222,\"#7201a8\"],[0.3333333333333333,\"#9c179e\"],[0.4444444444444444,\"#bd3786\"],[0.5555555555555556,\"#d8576b\"],[0.6666666666666666,\"#ed7953\"],[0.7777777777777778,\"#fb9f3a\"],[0.8888888888888888,\"#fdca26\"],[1.0,\"#f0f921\"]],\"diverging\":[[0,\"#8e0152\"],[0.1,\"#c51b7d\"],[0.2,\"#de77ae\"],[0.3,\"#f1b6da\"],[0.4,\"#fde0ef\"],[0.5,\"#f7f7f7\"],[0.6,\"#e6f5d0\"],[0.7,\"#b8e186\"],[0.8,\"#7fbc41\"],[0.9,\"#4d9221\"],[1,\"#276419\"]]},\"xaxis\":{\"gridcolor\":\"white\",\"linecolor\":\"white\",\"ticks\":\"\",\"title\":{\"standoff\":15},\"zerolinecolor\":\"white\",\"automargin\":true,\"zerolinewidth\":2},\"yaxis\":{\"gridcolor\":\"white\",\"linecolor\":\"white\",\"ticks\":\"\",\"title\":{\"standoff\":15},\"zerolinecolor\":\"white\",\"automargin\":true,\"zerolinewidth\":2},\"scene\":{\"xaxis\":{\"backgroundcolor\":\"#E5ECF6\",\"gridcolor\":\"white\",\"linecolor\":\"white\",\"showbackground\":true,\"ticks\":\"\",\"zerolinecolor\":\"white\",\"gridwidth\":2},\"yaxis\":{\"backgroundcolor\":\"#E5ECF6\",\"gridcolor\":\"white\",\"linecolor\":\"white\",\"showbackground\":true,\"ticks\":\"\",\"zerolinecolor\":\"white\",\"gridwidth\":2},\"zaxis\":{\"backgroundcolor\":\"#E5ECF6\",\"gridcolor\":\"white\",\"linecolor\":\"white\",\"showbackground\":true,\"ticks\":\"\",\"zerolinecolor\":\"white\",\"gridwidth\":2}},\"shapedefaults\":{\"line\":{\"color\":\"#2a3f5f\"}},\"annotationdefaults\":{\"arrowcolor\":\"#2a3f5f\",\"arrowhead\":0,\"arrowwidth\":1},\"geo\":{\"bgcolor\":\"white\",\"landcolor\":\"#E5ECF6\",\"subunitcolor\":\"white\",\"showland\":true,\"showlakes\":true,\"lakecolor\":\"white\"},\"title\":{\"x\":0.05},\"mapbox\":{\"style\":\"light\"}}},\"legend\":{\"tracegroupgap\":0},\"title\":{\"text\":\"Occupational Profiles, Network and Computer Systems Administrators, by Skill Type and Bucket\"}},                        {\"responsive\": true}                    ).then(function(){\n",
       "                            \n",
       "var gd = document.getElementById('8e2ab567-eede-401f-8ab6-c48f171a8f29');\n",
       "var x = new MutationObserver(function (mutations, observer) {{\n",
       "        var display = window.getComputedStyle(gd).display;\n",
       "        if (!display || display === 'none') {{\n",
       "            console.log([gd, 'removed!']);\n",
       "            Plotly.purge(gd);\n",
       "            observer.disconnect();\n",
       "        }}\n",
       "}});\n",
       "\n",
       "// Listen for the removal of the full notebook cells\n",
       "var notebookContainer = gd.closest('#notebook-container');\n",
       "if (notebookContainer) {{\n",
       "    x.observe(notebookContainer, {childList: true});\n",
       "}}\n",
       "\n",
       "// Listen for the clearing of the current output cell\n",
       "var outputEl = gd.closest('.output');\n",
       "if (outputEl) {{\n",
       "    x.observe(outputEl, {childList: true});\n",
       "}}\n",
       "\n",
       "                        })                };                });            </script>        </div>"
      ]
     },
     "metadata": {},
     "output_type": "display_data"
    }
   ],
   "source": [
    "# Treemap\n",
    "today_skill_treemap = px.treemap(\n",
    "    occupationskills_ncsa,\n",
    "    path=['bucket', 'skilltype', 'skills'],  # Path to hierarchy\n",
    "    values='postings',\n",
    "    title='Occupational Profiles, Network and Computer Systems Administrators, by Skill Type and Bucket',\n",
    "    color='bucket',\n",
    "    #color_discrete_sequence=group_colors\n",
    ")\n",
    "today_skill_treemap.update_traces(hovertemplate='%{label}', sort=False)\n",
    "today_skill_treemap.show()"
   ]
  },
  {
   "cell_type": "markdown",
   "id": "5ed2dd40-97e8-4e3c-9ace-4ed4954dfe21",
   "metadata": {},
   "source": [
    "#### Graph showing occupation's skills trends 2018-2023, and their distribution by type"
   ]
  },
  {
   "cell_type": "code",
   "execution_count": 14,
   "id": "c1c851a6-6ecc-4e2d-a54c-5d117271b4b4",
   "metadata": {
    "tags": []
   },
   "outputs": [
    {
     "data": {
      "application/vnd.plotly.v1+json": {
       "config": {
        "plotlyServerURL": "https://plot.ly"
       },
       "data": [
        {
         "alignmentgroup": "True",
         "customdata": [
          [
           "technical"
          ],
          [
           "technical"
          ],
          [
           "technical"
          ],
          [
           "technical"
          ],
          [
           "technical"
          ],
          [
           "technical"
          ],
          [
           "technical"
          ],
          [
           "technical"
          ],
          [
           "technical"
          ],
          [
           "technical"
          ],
          [
           "technical"
          ],
          [
           "technical"
          ],
          [
           "technical"
          ],
          [
           "technical"
          ],
          [
           "technical"
          ],
          [
           "technical"
          ],
          [
           "technical"
          ],
          [
           "technical"
          ],
          [
           "technical"
          ],
          [
           "technical"
          ],
          [
           "technical"
          ],
          [
           "technical"
          ],
          [
           "technical"
          ],
          [
           "technical"
          ],
          [
           "technical"
          ],
          [
           "technical"
          ],
          [
           "technical"
          ],
          [
           "technical"
          ]
         ],
         "hovertemplate": "skills=%{x}<br>propchange_18_23=%{y}<extra></extra>",
         "legendgroup": "technical",
         "marker": {
          "color": "#636efa",
          "pattern": {
           "shape": ""
          }
         },
         "name": "technical",
         "offsetgroup": "technical",
         "orientation": "v",
         "showlegend": true,
         "textposition": "auto",
         "type": "bar",
         "x": [
          "Cloud Solutions",
          "Cybersecurity",
          "Cloud Computing",
          "Identity and Access Management",
          "Basic Technical Knowledge",
          "IT Management",
          "IT Automation",
          "Process Improvement and Optimization",
          "Scripting Languages",
          "Data Storage",
          "Computer Hardware",
          "Database Architecture and Administration",
          "Web Design and Development",
          "Middleware",
          "Enterprise Application Management",
          "System Design and Implementation",
          "Virtualization and Virtual Machines",
          "Software Development",
          "Query Languages",
          "Scripting",
          "Configuration Management",
          "Distributed Computing",
          "Java",
          "Network Protocols",
          "Databases",
          "Systems Administration",
          "Servers",
          "Operating Systems"
         ],
         "xaxis": "x",
         "y": [
          6.58,
          4.93,
          3.67,
          3.08,
          2.97,
          2.82,
          2.75,
          2.6,
          -1.02,
          -1.05,
          -1.06,
          -1.07,
          -1.09,
          -1.15,
          -1.17,
          -1.37,
          -1.44,
          -1.5,
          -1.58,
          -1.76,
          -1.91,
          -2.03,
          -2.49,
          -2.58,
          -2.77,
          -3.92,
          -5.19,
          -7.49
         ],
         "yaxis": "y"
        },
        {
         "alignmentgroup": "True",
         "customdata": [
          [
           "human"
          ],
          [
           "human"
          ],
          [
           "human"
          ],
          [
           "human"
          ]
         ],
         "hovertemplate": "skills=%{x}<br>propchange_18_23=%{y}<extra></extra>",
         "legendgroup": "human",
         "marker": {
          "color": "#EF553B",
          "pattern": {
           "shape": ""
          }
         },
         "name": "human",
         "offsetgroup": "human",
         "orientation": "v",
         "showlegend": true,
         "textposition": "auto",
         "type": "bar",
         "x": [
          "Initiative and Leadership",
          "Communication",
          "Personal Attributes",
          "Critical Thinking and Problem Solving"
         ],
         "xaxis": "x",
         "y": [
          5.98,
          4.73,
          4.43,
          2.87
         ],
         "yaxis": "y"
        },
        {
         "alignmentgroup": "True",
         "customdata": [
          [
           "professional"
          ],
          [
           "professional"
          ],
          [
           "professional"
          ],
          [
           "professional"
          ],
          [
           "professional"
          ],
          [
           "professional"
          ],
          [
           "professional"
          ],
          [
           "professional"
          ]
         ],
         "hovertemplate": "skills=%{x}<br>propchange_18_23=%{y}<extra></extra>",
         "legendgroup": "professional",
         "marker": {
          "color": "#00cc96",
          "pattern": {
           "shape": ""
          }
         },
         "name": "professional",
         "offsetgroup": "professional",
         "orientation": "v",
         "showlegend": true,
         "textposition": "auto",
         "type": "bar",
         "x": [
          "Office and Productivity Equipment and Technology",
          "Business Operations",
          "Project Management",
          "Regulation and Legal Compliance",
          "Customer Service",
          "General Science and Research",
          "Market Analysis",
          "Financial Trading"
         ],
         "xaxis": "x",
         "y": [
          4.19,
          3.78,
          3.66,
          3.61,
          3.48,
          3.24,
          2.56,
          2.54
         ],
         "yaxis": "y"
        }
       ],
       "layout": {
        "autosize": true,
        "barmode": "relative",
        "legend": {
         "title": {
          "text": "type"
         },
         "tracegroupgap": 0
        },
        "template": {
         "data": {
          "bar": [
           {
            "error_x": {
             "color": "#2a3f5f"
            },
            "error_y": {
             "color": "#2a3f5f"
            },
            "marker": {
             "line": {
              "color": "#E5ECF6",
              "width": 0.5
             },
             "pattern": {
              "fillmode": "overlay",
              "size": 10,
              "solidity": 0.2
             }
            },
            "type": "bar"
           }
          ],
          "barpolar": [
           {
            "marker": {
             "line": {
              "color": "#E5ECF6",
              "width": 0.5
             },
             "pattern": {
              "fillmode": "overlay",
              "size": 10,
              "solidity": 0.2
             }
            },
            "type": "barpolar"
           }
          ],
          "carpet": [
           {
            "aaxis": {
             "endlinecolor": "#2a3f5f",
             "gridcolor": "white",
             "linecolor": "white",
             "minorgridcolor": "white",
             "startlinecolor": "#2a3f5f"
            },
            "baxis": {
             "endlinecolor": "#2a3f5f",
             "gridcolor": "white",
             "linecolor": "white",
             "minorgridcolor": "white",
             "startlinecolor": "#2a3f5f"
            },
            "type": "carpet"
           }
          ],
          "choropleth": [
           {
            "colorbar": {
             "outlinewidth": 0,
             "ticks": ""
            },
            "type": "choropleth"
           }
          ],
          "contour": [
           {
            "colorbar": {
             "outlinewidth": 0,
             "ticks": ""
            },
            "colorscale": [
             [
              0,
              "#0d0887"
             ],
             [
              0.1111111111111111,
              "#46039f"
             ],
             [
              0.2222222222222222,
              "#7201a8"
             ],
             [
              0.3333333333333333,
              "#9c179e"
             ],
             [
              0.4444444444444444,
              "#bd3786"
             ],
             [
              0.5555555555555556,
              "#d8576b"
             ],
             [
              0.6666666666666666,
              "#ed7953"
             ],
             [
              0.7777777777777778,
              "#fb9f3a"
             ],
             [
              0.8888888888888888,
              "#fdca26"
             ],
             [
              1,
              "#f0f921"
             ]
            ],
            "type": "contour"
           }
          ],
          "contourcarpet": [
           {
            "colorbar": {
             "outlinewidth": 0,
             "ticks": ""
            },
            "type": "contourcarpet"
           }
          ],
          "heatmap": [
           {
            "colorbar": {
             "outlinewidth": 0,
             "ticks": ""
            },
            "colorscale": [
             [
              0,
              "#0d0887"
             ],
             [
              0.1111111111111111,
              "#46039f"
             ],
             [
              0.2222222222222222,
              "#7201a8"
             ],
             [
              0.3333333333333333,
              "#9c179e"
             ],
             [
              0.4444444444444444,
              "#bd3786"
             ],
             [
              0.5555555555555556,
              "#d8576b"
             ],
             [
              0.6666666666666666,
              "#ed7953"
             ],
             [
              0.7777777777777778,
              "#fb9f3a"
             ],
             [
              0.8888888888888888,
              "#fdca26"
             ],
             [
              1,
              "#f0f921"
             ]
            ],
            "type": "heatmap"
           }
          ],
          "heatmapgl": [
           {
            "colorbar": {
             "outlinewidth": 0,
             "ticks": ""
            },
            "colorscale": [
             [
              0,
              "#0d0887"
             ],
             [
              0.1111111111111111,
              "#46039f"
             ],
             [
              0.2222222222222222,
              "#7201a8"
             ],
             [
              0.3333333333333333,
              "#9c179e"
             ],
             [
              0.4444444444444444,
              "#bd3786"
             ],
             [
              0.5555555555555556,
              "#d8576b"
             ],
             [
              0.6666666666666666,
              "#ed7953"
             ],
             [
              0.7777777777777778,
              "#fb9f3a"
             ],
             [
              0.8888888888888888,
              "#fdca26"
             ],
             [
              1,
              "#f0f921"
             ]
            ],
            "type": "heatmapgl"
           }
          ],
          "histogram": [
           {
            "marker": {
             "pattern": {
              "fillmode": "overlay",
              "size": 10,
              "solidity": 0.2
             }
            },
            "type": "histogram"
           }
          ],
          "histogram2d": [
           {
            "colorbar": {
             "outlinewidth": 0,
             "ticks": ""
            },
            "colorscale": [
             [
              0,
              "#0d0887"
             ],
             [
              0.1111111111111111,
              "#46039f"
             ],
             [
              0.2222222222222222,
              "#7201a8"
             ],
             [
              0.3333333333333333,
              "#9c179e"
             ],
             [
              0.4444444444444444,
              "#bd3786"
             ],
             [
              0.5555555555555556,
              "#d8576b"
             ],
             [
              0.6666666666666666,
              "#ed7953"
             ],
             [
              0.7777777777777778,
              "#fb9f3a"
             ],
             [
              0.8888888888888888,
              "#fdca26"
             ],
             [
              1,
              "#f0f921"
             ]
            ],
            "type": "histogram2d"
           }
          ],
          "histogram2dcontour": [
           {
            "colorbar": {
             "outlinewidth": 0,
             "ticks": ""
            },
            "colorscale": [
             [
              0,
              "#0d0887"
             ],
             [
              0.1111111111111111,
              "#46039f"
             ],
             [
              0.2222222222222222,
              "#7201a8"
             ],
             [
              0.3333333333333333,
              "#9c179e"
             ],
             [
              0.4444444444444444,
              "#bd3786"
             ],
             [
              0.5555555555555556,
              "#d8576b"
             ],
             [
              0.6666666666666666,
              "#ed7953"
             ],
             [
              0.7777777777777778,
              "#fb9f3a"
             ],
             [
              0.8888888888888888,
              "#fdca26"
             ],
             [
              1,
              "#f0f921"
             ]
            ],
            "type": "histogram2dcontour"
           }
          ],
          "mesh3d": [
           {
            "colorbar": {
             "outlinewidth": 0,
             "ticks": ""
            },
            "type": "mesh3d"
           }
          ],
          "parcoords": [
           {
            "line": {
             "colorbar": {
              "outlinewidth": 0,
              "ticks": ""
             }
            },
            "type": "parcoords"
           }
          ],
          "pie": [
           {
            "automargin": true,
            "type": "pie"
           }
          ],
          "scatter": [
           {
            "fillpattern": {
             "fillmode": "overlay",
             "size": 10,
             "solidity": 0.2
            },
            "type": "scatter"
           }
          ],
          "scatter3d": [
           {
            "line": {
             "colorbar": {
              "outlinewidth": 0,
              "ticks": ""
             }
            },
            "marker": {
             "colorbar": {
              "outlinewidth": 0,
              "ticks": ""
             }
            },
            "type": "scatter3d"
           }
          ],
          "scattercarpet": [
           {
            "marker": {
             "colorbar": {
              "outlinewidth": 0,
              "ticks": ""
             }
            },
            "type": "scattercarpet"
           }
          ],
          "scattergeo": [
           {
            "marker": {
             "colorbar": {
              "outlinewidth": 0,
              "ticks": ""
             }
            },
            "type": "scattergeo"
           }
          ],
          "scattergl": [
           {
            "marker": {
             "colorbar": {
              "outlinewidth": 0,
              "ticks": ""
             }
            },
            "type": "scattergl"
           }
          ],
          "scattermapbox": [
           {
            "marker": {
             "colorbar": {
              "outlinewidth": 0,
              "ticks": ""
             }
            },
            "type": "scattermapbox"
           }
          ],
          "scatterpolar": [
           {
            "marker": {
             "colorbar": {
              "outlinewidth": 0,
              "ticks": ""
             }
            },
            "type": "scatterpolar"
           }
          ],
          "scatterpolargl": [
           {
            "marker": {
             "colorbar": {
              "outlinewidth": 0,
              "ticks": ""
             }
            },
            "type": "scatterpolargl"
           }
          ],
          "scatterternary": [
           {
            "marker": {
             "colorbar": {
              "outlinewidth": 0,
              "ticks": ""
             }
            },
            "type": "scatterternary"
           }
          ],
          "surface": [
           {
            "colorbar": {
             "outlinewidth": 0,
             "ticks": ""
            },
            "colorscale": [
             [
              0,
              "#0d0887"
             ],
             [
              0.1111111111111111,
              "#46039f"
             ],
             [
              0.2222222222222222,
              "#7201a8"
             ],
             [
              0.3333333333333333,
              "#9c179e"
             ],
             [
              0.4444444444444444,
              "#bd3786"
             ],
             [
              0.5555555555555556,
              "#d8576b"
             ],
             [
              0.6666666666666666,
              "#ed7953"
             ],
             [
              0.7777777777777778,
              "#fb9f3a"
             ],
             [
              0.8888888888888888,
              "#fdca26"
             ],
             [
              1,
              "#f0f921"
             ]
            ],
            "type": "surface"
           }
          ],
          "table": [
           {
            "cells": {
             "fill": {
              "color": "#EBF0F8"
             },
             "line": {
              "color": "white"
             }
            },
            "header": {
             "fill": {
              "color": "#C8D4E3"
             },
             "line": {
              "color": "white"
             }
            },
            "type": "table"
           }
          ]
         },
         "layout": {
          "annotationdefaults": {
           "arrowcolor": "#2a3f5f",
           "arrowhead": 0,
           "arrowwidth": 1
          },
          "autotypenumbers": "strict",
          "coloraxis": {
           "colorbar": {
            "outlinewidth": 0,
            "ticks": ""
           }
          },
          "colorscale": {
           "diverging": [
            [
             0,
             "#8e0152"
            ],
            [
             0.1,
             "#c51b7d"
            ],
            [
             0.2,
             "#de77ae"
            ],
            [
             0.3,
             "#f1b6da"
            ],
            [
             0.4,
             "#fde0ef"
            ],
            [
             0.5,
             "#f7f7f7"
            ],
            [
             0.6,
             "#e6f5d0"
            ],
            [
             0.7,
             "#b8e186"
            ],
            [
             0.8,
             "#7fbc41"
            ],
            [
             0.9,
             "#4d9221"
            ],
            [
             1,
             "#276419"
            ]
           ],
           "sequential": [
            [
             0,
             "#0d0887"
            ],
            [
             0.1111111111111111,
             "#46039f"
            ],
            [
             0.2222222222222222,
             "#7201a8"
            ],
            [
             0.3333333333333333,
             "#9c179e"
            ],
            [
             0.4444444444444444,
             "#bd3786"
            ],
            [
             0.5555555555555556,
             "#d8576b"
            ],
            [
             0.6666666666666666,
             "#ed7953"
            ],
            [
             0.7777777777777778,
             "#fb9f3a"
            ],
            [
             0.8888888888888888,
             "#fdca26"
            ],
            [
             1,
             "#f0f921"
            ]
           ],
           "sequentialminus": [
            [
             0,
             "#0d0887"
            ],
            [
             0.1111111111111111,
             "#46039f"
            ],
            [
             0.2222222222222222,
             "#7201a8"
            ],
            [
             0.3333333333333333,
             "#9c179e"
            ],
            [
             0.4444444444444444,
             "#bd3786"
            ],
            [
             0.5555555555555556,
             "#d8576b"
            ],
            [
             0.6666666666666666,
             "#ed7953"
            ],
            [
             0.7777777777777778,
             "#fb9f3a"
            ],
            [
             0.8888888888888888,
             "#fdca26"
            ],
            [
             1,
             "#f0f921"
            ]
           ]
          },
          "colorway": [
           "#636efa",
           "#EF553B",
           "#00cc96",
           "#ab63fa",
           "#FFA15A",
           "#19d3f3",
           "#FF6692",
           "#B6E880",
           "#FF97FF",
           "#FECB52"
          ],
          "font": {
           "color": "#2a3f5f"
          },
          "geo": {
           "bgcolor": "white",
           "lakecolor": "white",
           "landcolor": "#E5ECF6",
           "showlakes": true,
           "showland": true,
           "subunitcolor": "white"
          },
          "hoverlabel": {
           "align": "left"
          },
          "hovermode": "closest",
          "mapbox": {
           "style": "light"
          },
          "paper_bgcolor": "white",
          "plot_bgcolor": "#E5ECF6",
          "polar": {
           "angularaxis": {
            "gridcolor": "white",
            "linecolor": "white",
            "ticks": ""
           },
           "bgcolor": "#E5ECF6",
           "radialaxis": {
            "gridcolor": "white",
            "linecolor": "white",
            "ticks": ""
           }
          },
          "scene": {
           "xaxis": {
            "backgroundcolor": "#E5ECF6",
            "gridcolor": "white",
            "gridwidth": 2,
            "linecolor": "white",
            "showbackground": true,
            "ticks": "",
            "zerolinecolor": "white"
           },
           "yaxis": {
            "backgroundcolor": "#E5ECF6",
            "gridcolor": "white",
            "gridwidth": 2,
            "linecolor": "white",
            "showbackground": true,
            "ticks": "",
            "zerolinecolor": "white"
           },
           "zaxis": {
            "backgroundcolor": "#E5ECF6",
            "gridcolor": "white",
            "gridwidth": 2,
            "linecolor": "white",
            "showbackground": true,
            "ticks": "",
            "zerolinecolor": "white"
           }
          },
          "shapedefaults": {
           "line": {
            "color": "#2a3f5f"
           }
          },
          "ternary": {
           "aaxis": {
            "gridcolor": "white",
            "linecolor": "white",
            "ticks": ""
           },
           "baxis": {
            "gridcolor": "white",
            "linecolor": "white",
            "ticks": ""
           },
           "bgcolor": "#E5ECF6",
           "caxis": {
            "gridcolor": "white",
            "linecolor": "white",
            "ticks": ""
           }
          },
          "title": {
           "x": 0.05
          },
          "xaxis": {
           "automargin": true,
           "gridcolor": "white",
           "linecolor": "white",
           "ticks": "",
           "title": {
            "standoff": 15
           },
           "zerolinecolor": "white",
           "zerolinewidth": 2
          },
          "yaxis": {
           "automargin": true,
           "gridcolor": "white",
           "linecolor": "white",
           "ticks": "",
           "title": {
            "standoff": 15
           },
           "zerolinecolor": "white",
           "zerolinewidth": 2
          }
         }
        },
        "title": {
         "text": "Skills Growth, Network and Computer Systems Administrators: Highest 20 and Lowest 20, 2018-2023"
        },
        "xaxis": {
         "anchor": "y",
         "autorange": true,
         "categoryarray": [
          "Cloud Solutions",
          "Initiative and Leadership",
          "Cybersecurity",
          "Communication",
          "Personal Attributes",
          "Office and Productivity Equipment and Technology",
          "Business Operations",
          "Cloud Computing",
          "Project Management",
          "Regulation and Legal Compliance",
          "Customer Service",
          "General Science and Research",
          "Identity and Access Management",
          "Basic Technical Knowledge",
          "Critical Thinking and Problem Solving",
          "IT Management",
          "IT Automation",
          "Process Improvement and Optimization",
          "Market Analysis",
          "Financial Trading",
          "Scripting Languages",
          "Data Storage",
          "Computer Hardware",
          "Database Architecture and Administration",
          "Web Design and Development",
          "Middleware",
          "Enterprise Application Management",
          "System Design and Implementation",
          "Virtualization and Virtual Machines",
          "Software Development",
          "Query Languages",
          "Scripting",
          "Configuration Management",
          "Distributed Computing",
          "Java",
          "Network Protocols",
          "Databases",
          "Systems Administration",
          "Servers",
          "Operating Systems"
         ],
         "categoryorder": "array",
         "domain": [
          0,
          1
         ],
         "range": [
          -0.5,
          39.5
         ],
         "showticklabels": false,
         "title": {
          "text": "skills"
         },
         "type": "category"
        },
        "yaxis": {
         "anchor": "x",
         "autorange": true,
         "domain": [
          0,
          1
         ],
         "range": [
          -8.271666666666667,
          7.361666666666666
         ],
         "title": {
          "text": "PPt change, %"
         },
         "type": "linear"
        }
       }
      },
      "image/png": "[encoded data removed]",
      "text/html": [
       "<div>                            <div id=\"596f5ad0-0ac8-47ef-a3d9-c981413e5e28\" class=\"plotly-graph-div\" style=\"height:525px; width:100%;\"></div>            <script type=\"text/javascript\">                require([\"plotly\"], function(Plotly) {                    window.PLOTLYENV=window.PLOTLYENV || {};                                    if (document.getElementById(\"596f5ad0-0ac8-47ef-a3d9-c981413e5e28\")) {                    Plotly.newPlot(                        \"596f5ad0-0ac8-47ef-a3d9-c981413e5e28\",                        [{\"alignmentgroup\":\"True\",\"customdata\":[[\"technical\"],[\"technical\"],[\"technical\"],[\"technical\"],[\"technical\"],[\"technical\"],[\"technical\"],[\"technical\"],[\"technical\"],[\"technical\"],[\"technical\"],[\"technical\"],[\"technical\"],[\"technical\"],[\"technical\"],[\"technical\"],[\"technical\"],[\"technical\"],[\"technical\"],[\"technical\"],[\"technical\"],[\"technical\"],[\"technical\"],[\"technical\"],[\"technical\"],[\"technical\"],[\"technical\"],[\"technical\"]],\"hovertemplate\":\"skills=%{x}\\u003cbr\\u003epropchange_18_23=%{y}\\u003cextra\\u003e\\u003c\\u002fextra\\u003e\",\"legendgroup\":\"technical\",\"marker\":{\"color\":\"#636efa\",\"pattern\":{\"shape\":\"\"}},\"name\":\"technical\",\"offsetgroup\":\"technical\",\"orientation\":\"v\",\"showlegend\":true,\"textposition\":\"auto\",\"x\":[\"Cloud Solutions\",\"Cybersecurity\",\"Cloud Computing\",\"Identity and Access Management\",\"Basic Technical Knowledge\",\"IT Management\",\"IT Automation\",\"Process Improvement and Optimization\",\"Scripting Languages\",\"Data Storage\",\"Computer Hardware\",\"Database Architecture and Administration\",\"Web Design and Development\",\"Middleware\",\"Enterprise Application Management\",\"System Design and Implementation\",\"Virtualization and Virtual Machines\",\"Software Development\",\"Query Languages\",\"Scripting\",\"Configuration Management\",\"Distributed Computing\",\"Java\",\"Network Protocols\",\"Databases\",\"Systems Administration\",\"Servers\",\"Operating Systems\"],\"xaxis\":\"x\",\"y\":[6.58,4.93,3.67,3.08,2.97,2.82,2.75,2.6,-1.02,-1.05,-1.06,-1.07,-1.09,-1.15,-1.17,-1.37,-1.44,-1.5,-1.58,-1.76,-1.91,-2.03,-2.49,-2.58,-2.77,-3.92,-5.19,-7.49],\"yaxis\":\"y\",\"type\":\"bar\"},{\"alignmentgroup\":\"True\",\"customdata\":[[\"human\"],[\"human\"],[\"human\"],[\"human\"]],\"hovertemplate\":\"skills=%{x}\\u003cbr\\u003epropchange_18_23=%{y}\\u003cextra\\u003e\\u003c\\u002fextra\\u003e\",\"legendgroup\":\"human\",\"marker\":{\"color\":\"#EF553B\",\"pattern\":{\"shape\":\"\"}},\"name\":\"human\",\"offsetgroup\":\"human\",\"orientation\":\"v\",\"showlegend\":true,\"textposition\":\"auto\",\"x\":[\"Initiative and Leadership\",\"Communication\",\"Personal Attributes\",\"Critical Thinking and Problem Solving\"],\"xaxis\":\"x\",\"y\":[5.98,4.73,4.43,2.87],\"yaxis\":\"y\",\"type\":\"bar\"},{\"alignmentgroup\":\"True\",\"customdata\":[[\"professional\"],[\"professional\"],[\"professional\"],[\"professional\"],[\"professional\"],[\"professional\"],[\"professional\"],[\"professional\"]],\"hovertemplate\":\"skills=%{x}\\u003cbr\\u003epropchange_18_23=%{y}\\u003cextra\\u003e\\u003c\\u002fextra\\u003e\",\"legendgroup\":\"professional\",\"marker\":{\"color\":\"#00cc96\",\"pattern\":{\"shape\":\"\"}},\"name\":\"professional\",\"offsetgroup\":\"professional\",\"orientation\":\"v\",\"showlegend\":true,\"textposition\":\"auto\",\"x\":[\"Office and Productivity Equipment and Technology\",\"Business Operations\",\"Project Management\",\"Regulation and Legal Compliance\",\"Customer Service\",\"General Science and Research\",\"Market Analysis\",\"Financial Trading\"],\"xaxis\":\"x\",\"y\":[4.19,3.78,3.66,3.61,3.48,3.24,2.56,2.54],\"yaxis\":\"y\",\"type\":\"bar\"}],                        {\"template\":{\"data\":{\"histogram2dcontour\":[{\"type\":\"histogram2dcontour\",\"colorbar\":{\"outlinewidth\":0,\"ticks\":\"\"},\"colorscale\":[[0.0,\"#0d0887\"],[0.1111111111111111,\"#46039f\"],[0.2222222222222222,\"#7201a8\"],[0.3333333333333333,\"#9c179e\"],[0.4444444444444444,\"#bd3786\"],[0.5555555555555556,\"#d8576b\"],[0.6666666666666666,\"#ed7953\"],[0.7777777777777778,\"#fb9f3a\"],[0.8888888888888888,\"#fdca26\"],[1.0,\"#f0f921\"]]}],\"choropleth\":[{\"type\":\"choropleth\",\"colorbar\":{\"outlinewidth\":0,\"ticks\":\"\"}}],\"histogram2d\":[{\"type\":\"histogram2d\",\"colorbar\":{\"outlinewidth\":0,\"ticks\":\"\"},\"colorscale\":[[0.0,\"#0d0887\"],[0.1111111111111111,\"#46039f\"],[0.2222222222222222,\"#7201a8\"],[0.3333333333333333,\"#9c179e\"],[0.4444444444444444,\"#bd3786\"],[0.5555555555555556,\"#d8576b\"],[0.6666666666666666,\"#ed7953\"],[0.7777777777777778,\"#fb9f3a\"],[0.8888888888888888,\"#fdca26\"],[1.0,\"#f0f921\"]]}],\"heatmap\":[{\"type\":\"heatmap\",\"colorbar\":{\"outlinewidth\":0,\"ticks\":\"\"},\"colorscale\":[[0.0,\"#0d0887\"],[0.1111111111111111,\"#46039f\"],[0.2222222222222222,\"#7201a8\"],[0.3333333333333333,\"#9c179e\"],[0.4444444444444444,\"#bd3786\"],[0.5555555555555556,\"#d8576b\"],[0.6666666666666666,\"#ed7953\"],[0.7777777777777778,\"#fb9f3a\"],[0.8888888888888888,\"#fdca26\"],[1.0,\"#f0f921\"]]}],\"heatmapgl\":[{\"type\":\"heatmapgl\",\"colorbar\":{\"outlinewidth\":0,\"ticks\":\"\"},\"colorscale\":[[0.0,\"#0d0887\"],[0.1111111111111111,\"#46039f\"],[0.2222222222222222,\"#7201a8\"],[0.3333333333333333,\"#9c179e\"],[0.4444444444444444,\"#bd3786\"],[0.5555555555555556,\"#d8576b\"],[0.6666666666666666,\"#ed7953\"],[0.7777777777777778,\"#fb9f3a\"],[0.8888888888888888,\"#fdca26\"],[1.0,\"#f0f921\"]]}],\"contourcarpet\":[{\"type\":\"contourcarpet\",\"colorbar\":{\"outlinewidth\":0,\"ticks\":\"\"}}],\"contour\":[{\"type\":\"contour\",\"colorbar\":{\"outlinewidth\":0,\"ticks\":\"\"},\"colorscale\":[[0.0,\"#0d0887\"],[0.1111111111111111,\"#46039f\"],[0.2222222222222222,\"#7201a8\"],[0.3333333333333333,\"#9c179e\"],[0.4444444444444444,\"#bd3786\"],[0.5555555555555556,\"#d8576b\"],[0.6666666666666666,\"#ed7953\"],[0.7777777777777778,\"#fb9f3a\"],[0.8888888888888888,\"#fdca26\"],[1.0,\"#f0f921\"]]}],\"surface\":[{\"type\":\"surface\",\"colorbar\":{\"outlinewidth\":0,\"ticks\":\"\"},\"colorscale\":[[0.0,\"#0d0887\"],[0.1111111111111111,\"#46039f\"],[0.2222222222222222,\"#7201a8\"],[0.3333333333333333,\"#9c179e\"],[0.4444444444444444,\"#bd3786\"],[0.5555555555555556,\"#d8576b\"],[0.6666666666666666,\"#ed7953\"],[0.7777777777777778,\"#fb9f3a\"],[0.8888888888888888,\"#fdca26\"],[1.0,\"#f0f921\"]]}],\"mesh3d\":[{\"type\":\"mesh3d\",\"colorbar\":{\"outlinewidth\":0,\"ticks\":\"\"}}],\"scatter\":[{\"fillpattern\":{\"fillmode\":\"overlay\",\"size\":10,\"solidity\":0.2},\"type\":\"scatter\"}],\"parcoords\":[{\"type\":\"parcoords\",\"line\":{\"colorbar\":{\"outlinewidth\":0,\"ticks\":\"\"}}}],\"scatterpolargl\":[{\"type\":\"scatterpolargl\",\"marker\":{\"colorbar\":{\"outlinewidth\":0,\"ticks\":\"\"}}}],\"bar\":[{\"error_x\":{\"color\":\"#2a3f5f\"},\"error_y\":{\"color\":\"#2a3f5f\"},\"marker\":{\"line\":{\"color\":\"#E5ECF6\",\"width\":0.5},\"pattern\":{\"fillmode\":\"overlay\",\"size\":10,\"solidity\":0.2}},\"type\":\"bar\"}],\"scattergeo\":[{\"type\":\"scattergeo\",\"marker\":{\"colorbar\":{\"outlinewidth\":0,\"ticks\":\"\"}}}],\"scatterpolar\":[{\"type\":\"scatterpolar\",\"marker\":{\"colorbar\":{\"outlinewidth\":0,\"ticks\":\"\"}}}],\"histogram\":[{\"marker\":{\"pattern\":{\"fillmode\":\"overlay\",\"size\":10,\"solidity\":0.2}},\"type\":\"histogram\"}],\"scattergl\":[{\"type\":\"scattergl\",\"marker\":{\"colorbar\":{\"outlinewidth\":0,\"ticks\":\"\"}}}],\"scatter3d\":[{\"type\":\"scatter3d\",\"line\":{\"colorbar\":{\"outlinewidth\":0,\"ticks\":\"\"}},\"marker\":{\"colorbar\":{\"outlinewidth\":0,\"ticks\":\"\"}}}],\"scattermapbox\":[{\"type\":\"scattermapbox\",\"marker\":{\"colorbar\":{\"outlinewidth\":0,\"ticks\":\"\"}}}],\"scatterternary\":[{\"type\":\"scatterternary\",\"marker\":{\"colorbar\":{\"outlinewidth\":0,\"ticks\":\"\"}}}],\"scattercarpet\":[{\"type\":\"scattercarpet\",\"marker\":{\"colorbar\":{\"outlinewidth\":0,\"ticks\":\"\"}}}],\"carpet\":[{\"aaxis\":{\"endlinecolor\":\"#2a3f5f\",\"gridcolor\":\"white\",\"linecolor\":\"white\",\"minorgridcolor\":\"white\",\"startlinecolor\":\"#2a3f5f\"},\"baxis\":{\"endlinecolor\":\"#2a3f5f\",\"gridcolor\":\"white\",\"linecolor\":\"white\",\"minorgridcolor\":\"white\",\"startlinecolor\":\"#2a3f5f\"},\"type\":\"carpet\"}],\"table\":[{\"cells\":{\"fill\":{\"color\":\"#EBF0F8\"},\"line\":{\"color\":\"white\"}},\"header\":{\"fill\":{\"color\":\"#C8D4E3\"},\"line\":{\"color\":\"white\"}},\"type\":\"table\"}],\"barpolar\":[{\"marker\":{\"line\":{\"color\":\"#E5ECF6\",\"width\":0.5},\"pattern\":{\"fillmode\":\"overlay\",\"size\":10,\"solidity\":0.2}},\"type\":\"barpolar\"}],\"pie\":[{\"automargin\":true,\"type\":\"pie\"}]},\"layout\":{\"autotypenumbers\":\"strict\",\"colorway\":[\"#636efa\",\"#EF553B\",\"#00cc96\",\"#ab63fa\",\"#FFA15A\",\"#19d3f3\",\"#FF6692\",\"#B6E880\",\"#FF97FF\",\"#FECB52\"],\"font\":{\"color\":\"#2a3f5f\"},\"hovermode\":\"closest\",\"hoverlabel\":{\"align\":\"left\"},\"paper_bgcolor\":\"white\",\"plot_bgcolor\":\"#E5ECF6\",\"polar\":{\"bgcolor\":\"#E5ECF6\",\"angularaxis\":{\"gridcolor\":\"white\",\"linecolor\":\"white\",\"ticks\":\"\"},\"radialaxis\":{\"gridcolor\":\"white\",\"linecolor\":\"white\",\"ticks\":\"\"}},\"ternary\":{\"bgcolor\":\"#E5ECF6\",\"aaxis\":{\"gridcolor\":\"white\",\"linecolor\":\"white\",\"ticks\":\"\"},\"baxis\":{\"gridcolor\":\"white\",\"linecolor\":\"white\",\"ticks\":\"\"},\"caxis\":{\"gridcolor\":\"white\",\"linecolor\":\"white\",\"ticks\":\"\"}},\"coloraxis\":{\"colorbar\":{\"outlinewidth\":0,\"ticks\":\"\"}},\"colorscale\":{\"sequential\":[[0.0,\"#0d0887\"],[0.1111111111111111,\"#46039f\"],[0.2222222222222222,\"#7201a8\"],[0.3333333333333333,\"#9c179e\"],[0.4444444444444444,\"#bd3786\"],[0.5555555555555556,\"#d8576b\"],[0.6666666666666666,\"#ed7953\"],[0.7777777777777778,\"#fb9f3a\"],[0.8888888888888888,\"#fdca26\"],[1.0,\"#f0f921\"]],\"sequentialminus\":[[0.0,\"#0d0887\"],[0.1111111111111111,\"#46039f\"],[0.2222222222222222,\"#7201a8\"],[0.3333333333333333,\"#9c179e\"],[0.4444444444444444,\"#bd3786\"],[0.5555555555555556,\"#d8576b\"],[0.6666666666666666,\"#ed7953\"],[0.7777777777777778,\"#fb9f3a\"],[0.8888888888888888,\"#fdca26\"],[1.0,\"#f0f921\"]],\"diverging\":[[0,\"#8e0152\"],[0.1,\"#c51b7d\"],[0.2,\"#de77ae\"],[0.3,\"#f1b6da\"],[0.4,\"#fde0ef\"],[0.5,\"#f7f7f7\"],[0.6,\"#e6f5d0\"],[0.7,\"#b8e186\"],[0.8,\"#7fbc41\"],[0.9,\"#4d9221\"],[1,\"#276419\"]]},\"xaxis\":{\"gridcolor\":\"white\",\"linecolor\":\"white\",\"ticks\":\"\",\"title\":{\"standoff\":15},\"zerolinecolor\":\"white\",\"automargin\":true,\"zerolinewidth\":2},\"yaxis\":{\"gridcolor\":\"white\",\"linecolor\":\"white\",\"ticks\":\"\",\"title\":{\"standoff\":15},\"zerolinecolor\":\"white\",\"automargin\":true,\"zerolinewidth\":2},\"scene\":{\"xaxis\":{\"backgroundcolor\":\"#E5ECF6\",\"gridcolor\":\"white\",\"linecolor\":\"white\",\"showbackground\":true,\"ticks\":\"\",\"zerolinecolor\":\"white\",\"gridwidth\":2},\"yaxis\":{\"backgroundcolor\":\"#E5ECF6\",\"gridcolor\":\"white\",\"linecolor\":\"white\",\"showbackground\":true,\"ticks\":\"\",\"zerolinecolor\":\"white\",\"gridwidth\":2},\"zaxis\":{\"backgroundcolor\":\"#E5ECF6\",\"gridcolor\":\"white\",\"linecolor\":\"white\",\"showbackground\":true,\"ticks\":\"\",\"zerolinecolor\":\"white\",\"gridwidth\":2}},\"shapedefaults\":{\"line\":{\"color\":\"#2a3f5f\"}},\"annotationdefaults\":{\"arrowcolor\":\"#2a3f5f\",\"arrowhead\":0,\"arrowwidth\":1},\"geo\":{\"bgcolor\":\"white\",\"landcolor\":\"#E5ECF6\",\"subunitcolor\":\"white\",\"showland\":true,\"showlakes\":true,\"lakecolor\":\"white\"},\"title\":{\"x\":0.05},\"mapbox\":{\"style\":\"light\"}}},\"xaxis\":{\"anchor\":\"y\",\"domain\":[0.0,1.0],\"title\":{\"text\":\"skills\"},\"categoryorder\":\"array\",\"categoryarray\":[\"Cloud Solutions\",\"Initiative and Leadership\",\"Cybersecurity\",\"Communication\",\"Personal Attributes\",\"Office and Productivity Equipment and Technology\",\"Business Operations\",\"Cloud Computing\",\"Project Management\",\"Regulation and Legal Compliance\",\"Customer Service\",\"General Science and Research\",\"Identity and Access Management\",\"Basic Technical Knowledge\",\"Critical Thinking and Problem Solving\",\"IT Management\",\"IT Automation\",\"Process Improvement and Optimization\",\"Market Analysis\",\"Financial Trading\",\"Scripting Languages\",\"Data Storage\",\"Computer Hardware\",\"Database Architecture and Administration\",\"Web Design and Development\",\"Middleware\",\"Enterprise Application Management\",\"System Design and Implementation\",\"Virtualization and Virtual Machines\",\"Software Development\",\"Query Languages\",\"Scripting\",\"Configuration Management\",\"Distributed Computing\",\"Java\",\"Network Protocols\",\"Databases\",\"Systems Administration\",\"Servers\",\"Operating Systems\"],\"showticklabels\":false},\"yaxis\":{\"anchor\":\"x\",\"domain\":[0.0,1.0],\"title\":{\"text\":\"PPt change, %\"}},\"legend\":{\"title\":{\"text\":\"type\"},\"tracegroupgap\":0},\"title\":{\"text\":\"Skills Growth, Network and Computer Systems Administrators: Highest 20 and Lowest 20, 2018-2023\"},\"barmode\":\"relative\"},                        {\"responsive\": true}                    ).then(function(){\n",
       "                            \n",
       "var gd = document.getElementById('596f5ad0-0ac8-47ef-a3d9-c981413e5e28');\n",
       "var x = new MutationObserver(function (mutations, observer) {{\n",
       "        var display = window.getComputedStyle(gd).display;\n",
       "        if (!display || display === 'none') {{\n",
       "            console.log([gd, 'removed!']);\n",
       "            Plotly.purge(gd);\n",
       "            observer.disconnect();\n",
       "        }}\n",
       "}});\n",
       "\n",
       "// Listen for the removal of the full notebook cells\n",
       "var notebookContainer = gd.closest('#notebook-container');\n",
       "if (notebookContainer) {{\n",
       "    x.observe(notebookContainer, {childList: true});\n",
       "}}\n",
       "\n",
       "// Listen for the clearing of the current output cell\n",
       "var outputEl = gd.closest('.output');\n",
       "if (outputEl) {{\n",
       "    x.observe(outputEl, {childList: true});\n",
       "}}\n",
       "\n",
       "                        })                };                });            </script>        </div>"
      ]
     },
     "metadata": {},
     "output_type": "display_data"
    }
   ],
   "source": [
    "# Manually order the x-axis categories based on the percentage change\n",
    "ordered_x = skills5yr_ncsa.groupby('skills')['propchange_18_23'].max().sort_values(ascending=False).index\n",
    "\n",
    "fig = px.bar(skills5yr_ncsa, x = 'skills', y='propchange_18_23', color = 'type', category_orders={'skills': ordered_x},\n",
    "            hover_data={'type': False},\n",
    "            title = 'Skills Growth, Network and Computer Systems Administrators: Highest 20 and Lowest 20, 2018-2023')\n",
    "\n",
    "# Update layout to hide x-axis labels and customize hover information\n",
    "fig.update_layout(\n",
    "    xaxis=dict(showticklabels=False),  # Hide x-axis labels\n",
    ")\n",
    "# Update layout to set y-axis label\n",
    "fig.update_yaxes(title_text='PPt change, %')\n",
    "\n",
    "fig.show()"
   ]
  },
  {
   "cell_type": "code",
   "execution_count": 185,
   "id": "91b5196a-0d63-4c90-ba86-525cac015f2c",
   "metadata": {
    "tags": []
   },
   "outputs": [
    {
     "data": {
      "application/vnd.plotly.v1+json": {
       "config": {
        "plotlyServerURL": "https://plot.ly"
       },
       "data": [
        {
         "alignmentgroup": "True",
         "hovertemplate": "variable=Top 20<br>type=%{x}<br>value=%{y}<extra></extra>",
         "legendgroup": "Top 20",
         "marker": {
          "color": "#636efa",
          "pattern": {
           "shape": ""
          }
         },
         "name": "Top 20",
         "offsetgroup": "Top 20",
         "orientation": "v",
         "showlegend": true,
         "textposition": "auto",
         "type": "bar",
         "x": [
          "technical",
          "professional",
          "human"
         ],
         "xaxis": "x",
         "y": [
          8,
          8,
          4
         ],
         "yaxis": "y"
        },
        {
         "alignmentgroup": "True",
         "hovertemplate": "variable=Last 20<br>type=%{x}<br>value=%{y}<extra></extra>",
         "legendgroup": "Last 20",
         "marker": {
          "color": "#EF553B",
          "pattern": {
           "shape": ""
          }
         },
         "name": "Last 20",
         "offsetgroup": "Last 20",
         "orientation": "v",
         "showlegend": true,
         "textposition": "auto",
         "type": "bar",
         "x": [
          "technical",
          "professional",
          "human"
         ],
         "xaxis": "x",
         "y": [
          20,
          0,
          0
         ],
         "yaxis": "y"
        }
       ],
       "layout": {
        "autosize": true,
        "barmode": "group",
        "legend": {
         "title": {
          "text": "variable"
         },
         "tracegroupgap": 0
        },
        "margin": {
         "t": 60
        },
        "template": {
         "data": {
          "bar": [
           {
            "error_x": {
             "color": "#2a3f5f"
            },
            "error_y": {
             "color": "#2a3f5f"
            },
            "marker": {
             "line": {
              "color": "#E5ECF6",
              "width": 0.5
             },
             "pattern": {
              "fillmode": "overlay",
              "size": 10,
              "solidity": 0.2
             }
            },
            "type": "bar"
           }
          ],
          "barpolar": [
           {
            "marker": {
             "line": {
              "color": "#E5ECF6",
              "width": 0.5
             },
             "pattern": {
              "fillmode": "overlay",
              "size": 10,
              "solidity": 0.2
             }
            },
            "type": "barpolar"
           }
          ],
          "carpet": [
           {
            "aaxis": {
             "endlinecolor": "#2a3f5f",
             "gridcolor": "white",
             "linecolor": "white",
             "minorgridcolor": "white",
             "startlinecolor": "#2a3f5f"
            },
            "baxis": {
             "endlinecolor": "#2a3f5f",
             "gridcolor": "white",
             "linecolor": "white",
             "minorgridcolor": "white",
             "startlinecolor": "#2a3f5f"
            },
            "type": "carpet"
           }
          ],
          "choropleth": [
           {
            "colorbar": {
             "outlinewidth": 0,
             "ticks": ""
            },
            "type": "choropleth"
           }
          ],
          "contour": [
           {
            "colorbar": {
             "outlinewidth": 0,
             "ticks": ""
            },
            "colorscale": [
             [
              0,
              "#0d0887"
             ],
             [
              0.1111111111111111,
              "#46039f"
             ],
             [
              0.2222222222222222,
              "#7201a8"
             ],
             [
              0.3333333333333333,
              "#9c179e"
             ],
             [
              0.4444444444444444,
              "#bd3786"
             ],
             [
              0.5555555555555556,
              "#d8576b"
             ],
             [
              0.6666666666666666,
              "#ed7953"
             ],
             [
              0.7777777777777778,
              "#fb9f3a"
             ],
             [
              0.8888888888888888,
              "#fdca26"
             ],
             [
              1,
              "#f0f921"
             ]
            ],
            "type": "contour"
           }
          ],
          "contourcarpet": [
           {
            "colorbar": {
             "outlinewidth": 0,
             "ticks": ""
            },
            "type": "contourcarpet"
           }
          ],
          "heatmap": [
           {
            "colorbar": {
             "outlinewidth": 0,
             "ticks": ""
            },
            "colorscale": [
             [
              0,
              "#0d0887"
             ],
             [
              0.1111111111111111,
              "#46039f"
             ],
             [
              0.2222222222222222,
              "#7201a8"
             ],
             [
              0.3333333333333333,
              "#9c179e"
             ],
             [
              0.4444444444444444,
              "#bd3786"
             ],
             [
              0.5555555555555556,
              "#d8576b"
             ],
             [
              0.6666666666666666,
              "#ed7953"
             ],
             [
              0.7777777777777778,
              "#fb9f3a"
             ],
             [
              0.8888888888888888,
              "#fdca26"
             ],
             [
              1,
              "#f0f921"
             ]
            ],
            "type": "heatmap"
           }
          ],
          "heatmapgl": [
           {
            "colorbar": {
             "outlinewidth": 0,
             "ticks": ""
            },
            "colorscale": [
             [
              0,
              "#0d0887"
             ],
             [
              0.1111111111111111,
              "#46039f"
             ],
             [
              0.2222222222222222,
              "#7201a8"
             ],
             [
              0.3333333333333333,
              "#9c179e"
             ],
             [
              0.4444444444444444,
              "#bd3786"
             ],
             [
              0.5555555555555556,
              "#d8576b"
             ],
             [
              0.6666666666666666,
              "#ed7953"
             ],
             [
              0.7777777777777778,
              "#fb9f3a"
             ],
             [
              0.8888888888888888,
              "#fdca26"
             ],
             [
              1,
              "#f0f921"
             ]
            ],
            "type": "heatmapgl"
           }
          ],
          "histogram": [
           {
            "marker": {
             "pattern": {
              "fillmode": "overlay",
              "size": 10,
              "solidity": 0.2
             }
            },
            "type": "histogram"
           }
          ],
          "histogram2d": [
           {
            "colorbar": {
             "outlinewidth": 0,
             "ticks": ""
            },
            "colorscale": [
             [
              0,
              "#0d0887"
             ],
             [
              0.1111111111111111,
              "#46039f"
             ],
             [
              0.2222222222222222,
              "#7201a8"
             ],
             [
              0.3333333333333333,
              "#9c179e"
             ],
             [
              0.4444444444444444,
              "#bd3786"
             ],
             [
              0.5555555555555556,
              "#d8576b"
             ],
             [
              0.6666666666666666,
              "#ed7953"
             ],
             [
              0.7777777777777778,
              "#fb9f3a"
             ],
             [
              0.8888888888888888,
              "#fdca26"
             ],
             [
              1,
              "#f0f921"
             ]
            ],
            "type": "histogram2d"
           }
          ],
          "histogram2dcontour": [
           {
            "colorbar": {
             "outlinewidth": 0,
             "ticks": ""
            },
            "colorscale": [
             [
              0,
              "#0d0887"
             ],
             [
              0.1111111111111111,
              "#46039f"
             ],
             [
              0.2222222222222222,
              "#7201a8"
             ],
             [
              0.3333333333333333,
              "#9c179e"
             ],
             [
              0.4444444444444444,
              "#bd3786"
             ],
             [
              0.5555555555555556,
              "#d8576b"
             ],
             [
              0.6666666666666666,
              "#ed7953"
             ],
             [
              0.7777777777777778,
              "#fb9f3a"
             ],
             [
              0.8888888888888888,
              "#fdca26"
             ],
             [
              1,
              "#f0f921"
             ]
            ],
            "type": "histogram2dcontour"
           }
          ],
          "mesh3d": [
           {
            "colorbar": {
             "outlinewidth": 0,
             "ticks": ""
            },
            "type": "mesh3d"
           }
          ],
          "parcoords": [
           {
            "line": {
             "colorbar": {
              "outlinewidth": 0,
              "ticks": ""
             }
            },
            "type": "parcoords"
           }
          ],
          "pie": [
           {
            "automargin": true,
            "type": "pie"
           }
          ],
          "scatter": [
           {
            "fillpattern": {
             "fillmode": "overlay",
             "size": 10,
             "solidity": 0.2
            },
            "type": "scatter"
           }
          ],
          "scatter3d": [
           {
            "line": {
             "colorbar": {
              "outlinewidth": 0,
              "ticks": ""
             }
            },
            "marker": {
             "colorbar": {
              "outlinewidth": 0,
              "ticks": ""
             }
            },
            "type": "scatter3d"
           }
          ],
          "scattercarpet": [
           {
            "marker": {
             "colorbar": {
              "outlinewidth": 0,
              "ticks": ""
             }
            },
            "type": "scattercarpet"
           }
          ],
          "scattergeo": [
           {
            "marker": {
             "colorbar": {
              "outlinewidth": 0,
              "ticks": ""
             }
            },
            "type": "scattergeo"
           }
          ],
          "scattergl": [
           {
            "marker": {
             "colorbar": {
              "outlinewidth": 0,
              "ticks": ""
             }
            },
            "type": "scattergl"
           }
          ],
          "scattermapbox": [
           {
            "marker": {
             "colorbar": {
              "outlinewidth": 0,
              "ticks": ""
             }
            },
            "type": "scattermapbox"
           }
          ],
          "scatterpolar": [
           {
            "marker": {
             "colorbar": {
              "outlinewidth": 0,
              "ticks": ""
             }
            },
            "type": "scatterpolar"
           }
          ],
          "scatterpolargl": [
           {
            "marker": {
             "colorbar": {
              "outlinewidth": 0,
              "ticks": ""
             }
            },
            "type": "scatterpolargl"
           }
          ],
          "scatterternary": [
           {
            "marker": {
             "colorbar": {
              "outlinewidth": 0,
              "ticks": ""
             }
            },
            "type": "scatterternary"
           }
          ],
          "surface": [
           {
            "colorbar": {
             "outlinewidth": 0,
             "ticks": ""
            },
            "colorscale": [
             [
              0,
              "#0d0887"
             ],
             [
              0.1111111111111111,
              "#46039f"
             ],
             [
              0.2222222222222222,
              "#7201a8"
             ],
             [
              0.3333333333333333,
              "#9c179e"
             ],
             [
              0.4444444444444444,
              "#bd3786"
             ],
             [
              0.5555555555555556,
              "#d8576b"
             ],
             [
              0.6666666666666666,
              "#ed7953"
             ],
             [
              0.7777777777777778,
              "#fb9f3a"
             ],
             [
              0.8888888888888888,
              "#fdca26"
             ],
             [
              1,
              "#f0f921"
             ]
            ],
            "type": "surface"
           }
          ],
          "table": [
           {
            "cells": {
             "fill": {
              "color": "#EBF0F8"
             },
             "line": {
              "color": "white"
             }
            },
            "header": {
             "fill": {
              "color": "#C8D4E3"
             },
             "line": {
              "color": "white"
             }
            },
            "type": "table"
           }
          ]
         },
         "layout": {
          "annotationdefaults": {
           "arrowcolor": "#2a3f5f",
           "arrowhead": 0,
           "arrowwidth": 1
          },
          "autotypenumbers": "strict",
          "coloraxis": {
           "colorbar": {
            "outlinewidth": 0,
            "ticks": ""
           }
          },
          "colorscale": {
           "diverging": [
            [
             0,
             "#8e0152"
            ],
            [
             0.1,
             "#c51b7d"
            ],
            [
             0.2,
             "#de77ae"
            ],
            [
             0.3,
             "#f1b6da"
            ],
            [
             0.4,
             "#fde0ef"
            ],
            [
             0.5,
             "#f7f7f7"
            ],
            [
             0.6,
             "#e6f5d0"
            ],
            [
             0.7,
             "#b8e186"
            ],
            [
             0.8,
             "#7fbc41"
            ],
            [
             0.9,
             "#4d9221"
            ],
            [
             1,
             "#276419"
            ]
           ],
           "sequential": [
            [
             0,
             "#0d0887"
            ],
            [
             0.1111111111111111,
             "#46039f"
            ],
            [
             0.2222222222222222,
             "#7201a8"
            ],
            [
             0.3333333333333333,
             "#9c179e"
            ],
            [
             0.4444444444444444,
             "#bd3786"
            ],
            [
             0.5555555555555556,
             "#d8576b"
            ],
            [
             0.6666666666666666,
             "#ed7953"
            ],
            [
             0.7777777777777778,
             "#fb9f3a"
            ],
            [
             0.8888888888888888,
             "#fdca26"
            ],
            [
             1,
             "#f0f921"
            ]
           ],
           "sequentialminus": [
            [
             0,
             "#0d0887"
            ],
            [
             0.1111111111111111,
             "#46039f"
            ],
            [
             0.2222222222222222,
             "#7201a8"
            ],
            [
             0.3333333333333333,
             "#9c179e"
            ],
            [
             0.4444444444444444,
             "#bd3786"
            ],
            [
             0.5555555555555556,
             "#d8576b"
            ],
            [
             0.6666666666666666,
             "#ed7953"
            ],
            [
             0.7777777777777778,
             "#fb9f3a"
            ],
            [
             0.8888888888888888,
             "#fdca26"
            ],
            [
             1,
             "#f0f921"
            ]
           ]
          },
          "colorway": [
           "#636efa",
           "#EF553B",
           "#00cc96",
           "#ab63fa",
           "#FFA15A",
           "#19d3f3",
           "#FF6692",
           "#B6E880",
           "#FF97FF",
           "#FECB52"
          ],
          "font": {
           "color": "#2a3f5f"
          },
          "geo": {
           "bgcolor": "white",
           "lakecolor": "white",
           "landcolor": "#E5ECF6",
           "showlakes": true,
           "showland": true,
           "subunitcolor": "white"
          },
          "hoverlabel": {
           "align": "left"
          },
          "hovermode": "closest",
          "mapbox": {
           "style": "light"
          },
          "paper_bgcolor": "white",
          "plot_bgcolor": "#E5ECF6",
          "polar": {
           "angularaxis": {
            "gridcolor": "white",
            "linecolor": "white",
            "ticks": ""
           },
           "bgcolor": "#E5ECF6",
           "radialaxis": {
            "gridcolor": "white",
            "linecolor": "white",
            "ticks": ""
           }
          },
          "scene": {
           "xaxis": {
            "backgroundcolor": "#E5ECF6",
            "gridcolor": "white",
            "gridwidth": 2,
            "linecolor": "white",
            "showbackground": true,
            "ticks": "",
            "zerolinecolor": "white"
           },
           "yaxis": {
            "backgroundcolor": "#E5ECF6",
            "gridcolor": "white",
            "gridwidth": 2,
            "linecolor": "white",
            "showbackground": true,
            "ticks": "",
            "zerolinecolor": "white"
           },
           "zaxis": {
            "backgroundcolor": "#E5ECF6",
            "gridcolor": "white",
            "gridwidth": 2,
            "linecolor": "white",
            "showbackground": true,
            "ticks": "",
            "zerolinecolor": "white"
           }
          },
          "shapedefaults": {
           "line": {
            "color": "#2a3f5f"
           }
          },
          "ternary": {
           "aaxis": {
            "gridcolor": "white",
            "linecolor": "white",
            "ticks": ""
           },
           "baxis": {
            "gridcolor": "white",
            "linecolor": "white",
            "ticks": ""
           },
           "bgcolor": "#E5ECF6",
           "caxis": {
            "gridcolor": "white",
            "linecolor": "white",
            "ticks": ""
           }
          },
          "title": {
           "x": 0.05
          },
          "xaxis": {
           "automargin": true,
           "gridcolor": "white",
           "linecolor": "white",
           "ticks": "",
           "title": {
            "standoff": 15
           },
           "zerolinecolor": "white",
           "zerolinewidth": 2
          },
          "yaxis": {
           "automargin": true,
           "gridcolor": "white",
           "linecolor": "white",
           "ticks": "",
           "title": {
            "standoff": 15
           },
           "zerolinecolor": "white",
           "zerolinewidth": 2
          }
         }
        },
        "title": {
         "text": "Distribution of Growing/Decreasing skills, 2018-2023"
        },
        "xaxis": {
         "anchor": "y",
         "autorange": true,
         "domain": [
          0,
          1
         ],
         "range": [
          -0.5,
          2.5
         ],
         "title": {
          "text": "Bucket"
         },
         "type": "category"
        },
        "yaxis": {
         "anchor": "x",
         "autorange": true,
         "domain": [
          0,
          1
         ],
         "range": [
          0,
          21.05263157894737
         ],
         "title": {
          "text": "Frequency"
         },
         "type": "linear"
        }
       }
      },
      "image/png": "[encoded data removed]",
      "text/html": [
       "<div>                            <div id=\"068beaa9-6196-426e-a53f-cbd6a3822b23\" class=\"plotly-graph-div\" style=\"height:525px; width:100%;\"></div>            <script type=\"text/javascript\">                require([\"plotly\"], function(Plotly) {                    window.PLOTLYENV=window.PLOTLYENV || {};                                    if (document.getElementById(\"068beaa9-6196-426e-a53f-cbd6a3822b23\")) {                    Plotly.newPlot(                        \"068beaa9-6196-426e-a53f-cbd6a3822b23\",                        [{\"alignmentgroup\":\"True\",\"hovertemplate\":\"variable=Top 20\\u003cbr\\u003etype=%{x}\\u003cbr\\u003evalue=%{y}\\u003cextra\\u003e\\u003c\\u002fextra\\u003e\",\"legendgroup\":\"Top 20\",\"marker\":{\"color\":\"#636efa\",\"pattern\":{\"shape\":\"\"}},\"name\":\"Top 20\",\"offsetgroup\":\"Top 20\",\"orientation\":\"v\",\"showlegend\":true,\"textposition\":\"auto\",\"x\":[\"technical\",\"professional\",\"human\"],\"xaxis\":\"x\",\"y\":[8.0,8.0,4.0],\"yaxis\":\"y\",\"type\":\"bar\"},{\"alignmentgroup\":\"True\",\"hovertemplate\":\"variable=Last 20\\u003cbr\\u003etype=%{x}\\u003cbr\\u003evalue=%{y}\\u003cextra\\u003e\\u003c\\u002fextra\\u003e\",\"legendgroup\":\"Last 20\",\"marker\":{\"color\":\"#EF553B\",\"pattern\":{\"shape\":\"\"}},\"name\":\"Last 20\",\"offsetgroup\":\"Last 20\",\"orientation\":\"v\",\"showlegend\":true,\"textposition\":\"auto\",\"x\":[\"technical\",\"professional\",\"human\"],\"xaxis\":\"x\",\"y\":[20.0,0.0,0.0],\"yaxis\":\"y\",\"type\":\"bar\"}],                        {\"template\":{\"data\":{\"histogram2dcontour\":[{\"type\":\"histogram2dcontour\",\"colorbar\":{\"outlinewidth\":0,\"ticks\":\"\"},\"colorscale\":[[0.0,\"#0d0887\"],[0.1111111111111111,\"#46039f\"],[0.2222222222222222,\"#7201a8\"],[0.3333333333333333,\"#9c179e\"],[0.4444444444444444,\"#bd3786\"],[0.5555555555555556,\"#d8576b\"],[0.6666666666666666,\"#ed7953\"],[0.7777777777777778,\"#fb9f3a\"],[0.8888888888888888,\"#fdca26\"],[1.0,\"#f0f921\"]]}],\"choropleth\":[{\"type\":\"choropleth\",\"colorbar\":{\"outlinewidth\":0,\"ticks\":\"\"}}],\"histogram2d\":[{\"type\":\"histogram2d\",\"colorbar\":{\"outlinewidth\":0,\"ticks\":\"\"},\"colorscale\":[[0.0,\"#0d0887\"],[0.1111111111111111,\"#46039f\"],[0.2222222222222222,\"#7201a8\"],[0.3333333333333333,\"#9c179e\"],[0.4444444444444444,\"#bd3786\"],[0.5555555555555556,\"#d8576b\"],[0.6666666666666666,\"#ed7953\"],[0.7777777777777778,\"#fb9f3a\"],[0.8888888888888888,\"#fdca26\"],[1.0,\"#f0f921\"]]}],\"heatmap\":[{\"type\":\"heatmap\",\"colorbar\":{\"outlinewidth\":0,\"ticks\":\"\"},\"colorscale\":[[0.0,\"#0d0887\"],[0.1111111111111111,\"#46039f\"],[0.2222222222222222,\"#7201a8\"],[0.3333333333333333,\"#9c179e\"],[0.4444444444444444,\"#bd3786\"],[0.5555555555555556,\"#d8576b\"],[0.6666666666666666,\"#ed7953\"],[0.7777777777777778,\"#fb9f3a\"],[0.8888888888888888,\"#fdca26\"],[1.0,\"#f0f921\"]]}],\"heatmapgl\":[{\"type\":\"heatmapgl\",\"colorbar\":{\"outlinewidth\":0,\"ticks\":\"\"},\"colorscale\":[[0.0,\"#0d0887\"],[0.1111111111111111,\"#46039f\"],[0.2222222222222222,\"#7201a8\"],[0.3333333333333333,\"#9c179e\"],[0.4444444444444444,\"#bd3786\"],[0.5555555555555556,\"#d8576b\"],[0.6666666666666666,\"#ed7953\"],[0.7777777777777778,\"#fb9f3a\"],[0.8888888888888888,\"#fdca26\"],[1.0,\"#f0f921\"]]}],\"contourcarpet\":[{\"type\":\"contourcarpet\",\"colorbar\":{\"outlinewidth\":0,\"ticks\":\"\"}}],\"contour\":[{\"type\":\"contour\",\"colorbar\":{\"outlinewidth\":0,\"ticks\":\"\"},\"colorscale\":[[0.0,\"#0d0887\"],[0.1111111111111111,\"#46039f\"],[0.2222222222222222,\"#7201a8\"],[0.3333333333333333,\"#9c179e\"],[0.4444444444444444,\"#bd3786\"],[0.5555555555555556,\"#d8576b\"],[0.6666666666666666,\"#ed7953\"],[0.7777777777777778,\"#fb9f3a\"],[0.8888888888888888,\"#fdca26\"],[1.0,\"#f0f921\"]]}],\"surface\":[{\"type\":\"surface\",\"colorbar\":{\"outlinewidth\":0,\"ticks\":\"\"},\"colorscale\":[[0.0,\"#0d0887\"],[0.1111111111111111,\"#46039f\"],[0.2222222222222222,\"#7201a8\"],[0.3333333333333333,\"#9c179e\"],[0.4444444444444444,\"#bd3786\"],[0.5555555555555556,\"#d8576b\"],[0.6666666666666666,\"#ed7953\"],[0.7777777777777778,\"#fb9f3a\"],[0.8888888888888888,\"#fdca26\"],[1.0,\"#f0f921\"]]}],\"mesh3d\":[{\"type\":\"mesh3d\",\"colorbar\":{\"outlinewidth\":0,\"ticks\":\"\"}}],\"scatter\":[{\"fillpattern\":{\"fillmode\":\"overlay\",\"size\":10,\"solidity\":0.2},\"type\":\"scatter\"}],\"parcoords\":[{\"type\":\"parcoords\",\"line\":{\"colorbar\":{\"outlinewidth\":0,\"ticks\":\"\"}}}],\"scatterpolargl\":[{\"type\":\"scatterpolargl\",\"marker\":{\"colorbar\":{\"outlinewidth\":0,\"ticks\":\"\"}}}],\"bar\":[{\"error_x\":{\"color\":\"#2a3f5f\"},\"error_y\":{\"color\":\"#2a3f5f\"},\"marker\":{\"line\":{\"color\":\"#E5ECF6\",\"width\":0.5},\"pattern\":{\"fillmode\":\"overlay\",\"size\":10,\"solidity\":0.2}},\"type\":\"bar\"}],\"scattergeo\":[{\"type\":\"scattergeo\",\"marker\":{\"colorbar\":{\"outlinewidth\":0,\"ticks\":\"\"}}}],\"scatterpolar\":[{\"type\":\"scatterpolar\",\"marker\":{\"colorbar\":{\"outlinewidth\":0,\"ticks\":\"\"}}}],\"histogram\":[{\"marker\":{\"pattern\":{\"fillmode\":\"overlay\",\"size\":10,\"solidity\":0.2}},\"type\":\"histogram\"}],\"scattergl\":[{\"type\":\"scattergl\",\"marker\":{\"colorbar\":{\"outlinewidth\":0,\"ticks\":\"\"}}}],\"scatter3d\":[{\"type\":\"scatter3d\",\"line\":{\"colorbar\":{\"outlinewidth\":0,\"ticks\":\"\"}},\"marker\":{\"colorbar\":{\"outlinewidth\":0,\"ticks\":\"\"}}}],\"scattermapbox\":[{\"type\":\"scattermapbox\",\"marker\":{\"colorbar\":{\"outlinewidth\":0,\"ticks\":\"\"}}}],\"scatterternary\":[{\"type\":\"scatterternary\",\"marker\":{\"colorbar\":{\"outlinewidth\":0,\"ticks\":\"\"}}}],\"scattercarpet\":[{\"type\":\"scattercarpet\",\"marker\":{\"colorbar\":{\"outlinewidth\":0,\"ticks\":\"\"}}}],\"carpet\":[{\"aaxis\":{\"endlinecolor\":\"#2a3f5f\",\"gridcolor\":\"white\",\"linecolor\":\"white\",\"minorgridcolor\":\"white\",\"startlinecolor\":\"#2a3f5f\"},\"baxis\":{\"endlinecolor\":\"#2a3f5f\",\"gridcolor\":\"white\",\"linecolor\":\"white\",\"minorgridcolor\":\"white\",\"startlinecolor\":\"#2a3f5f\"},\"type\":\"carpet\"}],\"table\":[{\"cells\":{\"fill\":{\"color\":\"#EBF0F8\"},\"line\":{\"color\":\"white\"}},\"header\":{\"fill\":{\"color\":\"#C8D4E3\"},\"line\":{\"color\":\"white\"}},\"type\":\"table\"}],\"barpolar\":[{\"marker\":{\"line\":{\"color\":\"#E5ECF6\",\"width\":0.5},\"pattern\":{\"fillmode\":\"overlay\",\"size\":10,\"solidity\":0.2}},\"type\":\"barpolar\"}],\"pie\":[{\"automargin\":true,\"type\":\"pie\"}]},\"layout\":{\"autotypenumbers\":\"strict\",\"colorway\":[\"#636efa\",\"#EF553B\",\"#00cc96\",\"#ab63fa\",\"#FFA15A\",\"#19d3f3\",\"#FF6692\",\"#B6E880\",\"#FF97FF\",\"#FECB52\"],\"font\":{\"color\":\"#2a3f5f\"},\"hovermode\":\"closest\",\"hoverlabel\":{\"align\":\"left\"},\"paper_bgcolor\":\"white\",\"plot_bgcolor\":\"#E5ECF6\",\"polar\":{\"bgcolor\":\"#E5ECF6\",\"angularaxis\":{\"gridcolor\":\"white\",\"linecolor\":\"white\",\"ticks\":\"\"},\"radialaxis\":{\"gridcolor\":\"white\",\"linecolor\":\"white\",\"ticks\":\"\"}},\"ternary\":{\"bgcolor\":\"#E5ECF6\",\"aaxis\":{\"gridcolor\":\"white\",\"linecolor\":\"white\",\"ticks\":\"\"},\"baxis\":{\"gridcolor\":\"white\",\"linecolor\":\"white\",\"ticks\":\"\"},\"caxis\":{\"gridcolor\":\"white\",\"linecolor\":\"white\",\"ticks\":\"\"}},\"coloraxis\":{\"colorbar\":{\"outlinewidth\":0,\"ticks\":\"\"}},\"colorscale\":{\"sequential\":[[0.0,\"#0d0887\"],[0.1111111111111111,\"#46039f\"],[0.2222222222222222,\"#7201a8\"],[0.3333333333333333,\"#9c179e\"],[0.4444444444444444,\"#bd3786\"],[0.5555555555555556,\"#d8576b\"],[0.6666666666666666,\"#ed7953\"],[0.7777777777777778,\"#fb9f3a\"],[0.8888888888888888,\"#fdca26\"],[1.0,\"#f0f921\"]],\"sequentialminus\":[[0.0,\"#0d0887\"],[0.1111111111111111,\"#46039f\"],[0.2222222222222222,\"#7201a8\"],[0.3333333333333333,\"#9c179e\"],[0.4444444444444444,\"#bd3786\"],[0.5555555555555556,\"#d8576b\"],[0.6666666666666666,\"#ed7953\"],[0.7777777777777778,\"#fb9f3a\"],[0.8888888888888888,\"#fdca26\"],[1.0,\"#f0f921\"]],\"diverging\":[[0,\"#8e0152\"],[0.1,\"#c51b7d\"],[0.2,\"#de77ae\"],[0.3,\"#f1b6da\"],[0.4,\"#fde0ef\"],[0.5,\"#f7f7f7\"],[0.6,\"#e6f5d0\"],[0.7,\"#b8e186\"],[0.8,\"#7fbc41\"],[0.9,\"#4d9221\"],[1,\"#276419\"]]},\"xaxis\":{\"gridcolor\":\"white\",\"linecolor\":\"white\",\"ticks\":\"\",\"title\":{\"standoff\":15},\"zerolinecolor\":\"white\",\"automargin\":true,\"zerolinewidth\":2},\"yaxis\":{\"gridcolor\":\"white\",\"linecolor\":\"white\",\"ticks\":\"\",\"title\":{\"standoff\":15},\"zerolinecolor\":\"white\",\"automargin\":true,\"zerolinewidth\":2},\"scene\":{\"xaxis\":{\"backgroundcolor\":\"#E5ECF6\",\"gridcolor\":\"white\",\"linecolor\":\"white\",\"showbackground\":true,\"ticks\":\"\",\"zerolinecolor\":\"white\",\"gridwidth\":2},\"yaxis\":{\"backgroundcolor\":\"#E5ECF6\",\"gridcolor\":\"white\",\"linecolor\":\"white\",\"showbackground\":true,\"ticks\":\"\",\"zerolinecolor\":\"white\",\"gridwidth\":2},\"zaxis\":{\"backgroundcolor\":\"#E5ECF6\",\"gridcolor\":\"white\",\"linecolor\":\"white\",\"showbackground\":true,\"ticks\":\"\",\"zerolinecolor\":\"white\",\"gridwidth\":2}},\"shapedefaults\":{\"line\":{\"color\":\"#2a3f5f\"}},\"annotationdefaults\":{\"arrowcolor\":\"#2a3f5f\",\"arrowhead\":0,\"arrowwidth\":1},\"geo\":{\"bgcolor\":\"white\",\"landcolor\":\"#E5ECF6\",\"subunitcolor\":\"white\",\"showland\":true,\"showlakes\":true,\"lakecolor\":\"white\"},\"title\":{\"x\":0.05},\"mapbox\":{\"style\":\"light\"}}},\"xaxis\":{\"anchor\":\"y\",\"domain\":[0.0,1.0],\"title\":{\"text\":\"Bucket\"}},\"yaxis\":{\"anchor\":\"x\",\"domain\":[0.0,1.0],\"title\":{\"text\":\"Frequency\"}},\"legend\":{\"title\":{\"text\":\"variable\"},\"tracegroupgap\":0},\"margin\":{\"t\":60},\"barmode\":\"group\",\"title\":{\"text\":\"Distribution of Growing\\u002fDecreasing skills, 2018-2023\"}},                        {\"responsive\": true}                    ).then(function(){\n",
       "                            \n",
       "var gd = document.getElementById('068beaa9-6196-426e-a53f-cbd6a3822b23');\n",
       "var x = new MutationObserver(function (mutations, observer) {{\n",
       "        var display = window.getComputedStyle(gd).display;\n",
       "        if (!display || display === 'none') {{\n",
       "            console.log([gd, 'removed!']);\n",
       "            Plotly.purge(gd);\n",
       "            observer.disconnect();\n",
       "        }}\n",
       "}});\n",
       "\n",
       "// Listen for the removal of the full notebook cells\n",
       "var notebookContainer = gd.closest('#notebook-container');\n",
       "if (notebookContainer) {{\n",
       "    x.observe(notebookContainer, {childList: true});\n",
       "}}\n",
       "\n",
       "// Listen for the clearing of the current output cell\n",
       "var outputEl = gd.closest('.output');\n",
       "if (outputEl) {{\n",
       "    x.observe(outputEl, {childList: true});\n",
       "}}\n",
       "\n",
       "                        })                };                });            </script>        </div>"
      ]
     },
     "metadata": {},
     "output_type": "display_data"
    }
   ],
   "source": [
    "worst_20 = skills5yr_ncsa.tail(20)\n",
    "worst_20_counts = worst_20['type'].value_counts()\n",
    "\n",
    "top_20 = skills5yr_ncsa.head(20)\n",
    "top_20_counts = top_20['type'].value_counts()\n",
    "\n",
    "counts_combined = pd.concat([top_20_counts, worst_20_counts], axis=1, keys=['Top 20', 'Last 20'])\n",
    "\n",
    "# Fill NaN values with 0 if a category is not present in one of the subsets\n",
    "counts_combined = counts_combined.fillna(0)\n",
    "\n",
    "\n",
    "# Create a bar chart for counts\n",
    "fig = px.bar(counts_combined, x=counts_combined.index, y=['Top 20', 'Last 20'], barmode='group')\n",
    "\n",
    "# Update layout to set axis labels and title\n",
    "fig.update_layout(xaxis_title='Bucket', yaxis_title='Frequency', title='Distribution of Growing/Decreasing skills, 2018-2023')\n",
    "fig.show()"
   ]
  },
  {
   "cell_type": "markdown",
   "id": "99c92634-f8ad-4294-ad92-ab95e0c2ab8f",
   "metadata": {},
   "source": [
    "## Common Skills\n",
    "\n",
    "Specific dive into the occupation's Common Skills, those prevalent across many different occupations and industries, including both personal attributes and learned skills."
   ]
  },
  {
   "cell_type": "code",
   "execution_count": 15,
   "id": "47684a86-001b-432c-9738-e1a46981092c",
   "metadata": {},
   "outputs": [
    {
     "data": {
      "text/html": [
       "<div>\n",
       "<style scoped>\n",
       "    .dataframe tbody tr th:only-of-type {\n",
       "        vertical-align: middle;\n",
       "    }\n",
       "\n",
       "    .dataframe tbody tr th {\n",
       "        vertical-align: top;\n",
       "    }\n",
       "\n",
       "    .dataframe thead th {\n",
       "        text-align: right;\n",
       "    }\n",
       "</style>\n",
       "<table border=\"1\" class=\"dataframe\">\n",
       "  <thead>\n",
       "    <tr style=\"text-align: right;\">\n",
       "      <th></th>\n",
       "      <th>skills</th>\n",
       "      <th>postings</th>\n",
       "      <th>postings_prop</th>\n",
       "      <th>profiles</th>\n",
       "      <th>profiles_prop</th>\n",
       "      <th>skillgrowth_proj</th>\n",
       "      <th>skillgrowth_market</th>\n",
       "      <th>skillgrowth_market_num</th>\n",
       "      <th>type</th>\n",
       "      <th>skilltype</th>\n",
       "    </tr>\n",
       "  </thead>\n",
       "  <tbody>\n",
       "    <tr>\n",
       "      <th>0</th>\n",
       "      <td>Troubleshooting (Problem Solving)</td>\n",
       "      <td>56938</td>\n",
       "      <td>52.0</td>\n",
       "      <td>161049</td>\n",
       "      <td>24.0</td>\n",
       "      <td>19.0</td>\n",
       "      <td>Growing</td>\n",
       "      <td>3</td>\n",
       "      <td>human</td>\n",
       "      <td>Common Skills</td>\n",
       "    </tr>\n",
       "    <tr>\n",
       "      <th>1</th>\n",
       "      <td>Management</td>\n",
       "      <td>41840</td>\n",
       "      <td>38.0</td>\n",
       "      <td>128575</td>\n",
       "      <td>19.0</td>\n",
       "      <td>5.3</td>\n",
       "      <td>Stable</td>\n",
       "      <td>2</td>\n",
       "      <td>human</td>\n",
       "      <td>Common Skills</td>\n",
       "    </tr>\n",
       "    <tr>\n",
       "      <th>2</th>\n",
       "      <td>Communication</td>\n",
       "      <td>41134</td>\n",
       "      <td>37.0</td>\n",
       "      <td>67650</td>\n",
       "      <td>10.0</td>\n",
       "      <td>3.6</td>\n",
       "      <td>Lagging</td>\n",
       "      <td>1</td>\n",
       "      <td>human</td>\n",
       "      <td>Common Skills</td>\n",
       "    </tr>\n",
       "    <tr>\n",
       "      <th>3</th>\n",
       "      <td>Operations</td>\n",
       "      <td>32576</td>\n",
       "      <td>30.0</td>\n",
       "      <td>105587</td>\n",
       "      <td>16.0</td>\n",
       "      <td>8.1</td>\n",
       "      <td>Stable</td>\n",
       "      <td>2</td>\n",
       "      <td>professional</td>\n",
       "      <td>Common Skills</td>\n",
       "    </tr>\n",
       "    <tr>\n",
       "      <th>4</th>\n",
       "      <td>Problem Solving</td>\n",
       "      <td>27538</td>\n",
       "      <td>25.0</td>\n",
       "      <td>26240</td>\n",
       "      <td>4.0</td>\n",
       "      <td>11.3</td>\n",
       "      <td>Growing</td>\n",
       "      <td>3</td>\n",
       "      <td>human</td>\n",
       "      <td>Common Skills</td>\n",
       "    </tr>\n",
       "  </tbody>\n",
       "</table>\n",
       "</div>"
      ],
      "text/plain": [
       "                              skills  postings  postings_prop  profiles   \n",
       "0  Troubleshooting (Problem Solving)     56938           52.0    161049  \\\n",
       "1                         Management     41840           38.0    128575   \n",
       "2                      Communication     41134           37.0     67650   \n",
       "3                         Operations     32576           30.0    105587   \n",
       "4                    Problem Solving     27538           25.0     26240   \n",
       "\n",
       "   profiles_prop  skillgrowth_proj skillgrowth_market  skillgrowth_market_num   \n",
       "0           24.0              19.0            Growing                       3  \\\n",
       "1           19.0               5.3             Stable                       2   \n",
       "2           10.0               3.6            Lagging                       1   \n",
       "3           16.0               8.1             Stable                       2   \n",
       "4            4.0              11.3            Growing                       3   \n",
       "\n",
       "           type      skilltype  \n",
       "0         human  Common Skills  \n",
       "1         human  Common Skills  \n",
       "2         human  Common Skills  \n",
       "3  professional  Common Skills  \n",
       "4         human  Common Skills  "
      ]
     },
     "execution_count": 15,
     "metadata": {},
     "output_type": "execute_result"
    }
   ],
   "source": [
    "common_ncsa.head()"
   ]
  },
  {
   "cell_type": "markdown",
   "id": "580807c7-f9ba-433c-949a-0dfb03b1358f",
   "metadata": {},
   "source": [
    "#### Graph showing proportions of type in Common Skills"
   ]
  },
  {
   "cell_type": "code",
   "execution_count": 11,
   "id": "dfa7c7c0-3009-4ea2-981f-dee938fecec1",
   "metadata": {
    "tags": []
   },
   "outputs": [
    {
     "data": {
      "application/vnd.plotly.v1+json": {
       "config": {
        "plotlyServerURL": "https://plot.ly"
       },
       "data": [
        {
         "domain": {
          "x": [
           0,
           1
          ],
          "y": [
           0,
           1
          ]
         },
         "hole": 0.4,
         "hovertemplate": "label=%{label}<br>value=%{value}<extra></extra>",
         "labels": [
          "human",
          "professional",
          "technical"
         ],
         "legendgroup": "",
         "name": "",
         "showlegend": true,
         "type": "pie",
         "values": [
          0.46,
          0.38,
          0.16
         ]
        }
       ],
       "layout": {
        "autosize": true,
        "legend": {
         "tracegroupgap": 0
        },
        "template": {
         "data": {
          "bar": [
           {
            "error_x": {
             "color": "#2a3f5f"
            },
            "error_y": {
             "color": "#2a3f5f"
            },
            "marker": {
             "line": {
              "color": "#E5ECF6",
              "width": 0.5
             },
             "pattern": {
              "fillmode": "overlay",
              "size": 10,
              "solidity": 0.2
             }
            },
            "type": "bar"
           }
          ],
          "barpolar": [
           {
            "marker": {
             "line": {
              "color": "#E5ECF6",
              "width": 0.5
             },
             "pattern": {
              "fillmode": "overlay",
              "size": 10,
              "solidity": 0.2
             }
            },
            "type": "barpolar"
           }
          ],
          "carpet": [
           {
            "aaxis": {
             "endlinecolor": "#2a3f5f",
             "gridcolor": "white",
             "linecolor": "white",
             "minorgridcolor": "white",
             "startlinecolor": "#2a3f5f"
            },
            "baxis": {
             "endlinecolor": "#2a3f5f",
             "gridcolor": "white",
             "linecolor": "white",
             "minorgridcolor": "white",
             "startlinecolor": "#2a3f5f"
            },
            "type": "carpet"
           }
          ],
          "choropleth": [
           {
            "colorbar": {
             "outlinewidth": 0,
             "ticks": ""
            },
            "type": "choropleth"
           }
          ],
          "contour": [
           {
            "colorbar": {
             "outlinewidth": 0,
             "ticks": ""
            },
            "colorscale": [
             [
              0,
              "#0d0887"
             ],
             [
              0.1111111111111111,
              "#46039f"
             ],
             [
              0.2222222222222222,
              "#7201a8"
             ],
             [
              0.3333333333333333,
              "#9c179e"
             ],
             [
              0.4444444444444444,
              "#bd3786"
             ],
             [
              0.5555555555555556,
              "#d8576b"
             ],
             [
              0.6666666666666666,
              "#ed7953"
             ],
             [
              0.7777777777777778,
              "#fb9f3a"
             ],
             [
              0.8888888888888888,
              "#fdca26"
             ],
             [
              1,
              "#f0f921"
             ]
            ],
            "type": "contour"
           }
          ],
          "contourcarpet": [
           {
            "colorbar": {
             "outlinewidth": 0,
             "ticks": ""
            },
            "type": "contourcarpet"
           }
          ],
          "heatmap": [
           {
            "colorbar": {
             "outlinewidth": 0,
             "ticks": ""
            },
            "colorscale": [
             [
              0,
              "#0d0887"
             ],
             [
              0.1111111111111111,
              "#46039f"
             ],
             [
              0.2222222222222222,
              "#7201a8"
             ],
             [
              0.3333333333333333,
              "#9c179e"
             ],
             [
              0.4444444444444444,
              "#bd3786"
             ],
             [
              0.5555555555555556,
              "#d8576b"
             ],
             [
              0.6666666666666666,
              "#ed7953"
             ],
             [
              0.7777777777777778,
              "#fb9f3a"
             ],
             [
              0.8888888888888888,
              "#fdca26"
             ],
             [
              1,
              "#f0f921"
             ]
            ],
            "type": "heatmap"
           }
          ],
          "heatmapgl": [
           {
            "colorbar": {
             "outlinewidth": 0,
             "ticks": ""
            },
            "colorscale": [
             [
              0,
              "#0d0887"
             ],
             [
              0.1111111111111111,
              "#46039f"
             ],
             [
              0.2222222222222222,
              "#7201a8"
             ],
             [
              0.3333333333333333,
              "#9c179e"
             ],
             [
              0.4444444444444444,
              "#bd3786"
             ],
             [
              0.5555555555555556,
              "#d8576b"
             ],
             [
              0.6666666666666666,
              "#ed7953"
             ],
             [
              0.7777777777777778,
              "#fb9f3a"
             ],
             [
              0.8888888888888888,
              "#fdca26"
             ],
             [
              1,
              "#f0f921"
             ]
            ],
            "type": "heatmapgl"
           }
          ],
          "histogram": [
           {
            "marker": {
             "pattern": {
              "fillmode": "overlay",
              "size": 10,
              "solidity": 0.2
             }
            },
            "type": "histogram"
           }
          ],
          "histogram2d": [
           {
            "colorbar": {
             "outlinewidth": 0,
             "ticks": ""
            },
            "colorscale": [
             [
              0,
              "#0d0887"
             ],
             [
              0.1111111111111111,
              "#46039f"
             ],
             [
              0.2222222222222222,
              "#7201a8"
             ],
             [
              0.3333333333333333,
              "#9c179e"
             ],
             [
              0.4444444444444444,
              "#bd3786"
             ],
             [
              0.5555555555555556,
              "#d8576b"
             ],
             [
              0.6666666666666666,
              "#ed7953"
             ],
             [
              0.7777777777777778,
              "#fb9f3a"
             ],
             [
              0.8888888888888888,
              "#fdca26"
             ],
             [
              1,
              "#f0f921"
             ]
            ],
            "type": "histogram2d"
           }
          ],
          "histogram2dcontour": [
           {
            "colorbar": {
             "outlinewidth": 0,
             "ticks": ""
            },
            "colorscale": [
             [
              0,
              "#0d0887"
             ],
             [
              0.1111111111111111,
              "#46039f"
             ],
             [
              0.2222222222222222,
              "#7201a8"
             ],
             [
              0.3333333333333333,
              "#9c179e"
             ],
             [
              0.4444444444444444,
              "#bd3786"
             ],
             [
              0.5555555555555556,
              "#d8576b"
             ],
             [
              0.6666666666666666,
              "#ed7953"
             ],
             [
              0.7777777777777778,
              "#fb9f3a"
             ],
             [
              0.8888888888888888,
              "#fdca26"
             ],
             [
              1,
              "#f0f921"
             ]
            ],
            "type": "histogram2dcontour"
           }
          ],
          "mesh3d": [
           {
            "colorbar": {
             "outlinewidth": 0,
             "ticks": ""
            },
            "type": "mesh3d"
           }
          ],
          "parcoords": [
           {
            "line": {
             "colorbar": {
              "outlinewidth": 0,
              "ticks": ""
             }
            },
            "type": "parcoords"
           }
          ],
          "pie": [
           {
            "automargin": true,
            "type": "pie"
           }
          ],
          "scatter": [
           {
            "fillpattern": {
             "fillmode": "overlay",
             "size": 10,
             "solidity": 0.2
            },
            "type": "scatter"
           }
          ],
          "scatter3d": [
           {
            "line": {
             "colorbar": {
              "outlinewidth": 0,
              "ticks": ""
             }
            },
            "marker": {
             "colorbar": {
              "outlinewidth": 0,
              "ticks": ""
             }
            },
            "type": "scatter3d"
           }
          ],
          "scattercarpet": [
           {
            "marker": {
             "colorbar": {
              "outlinewidth": 0,
              "ticks": ""
             }
            },
            "type": "scattercarpet"
           }
          ],
          "scattergeo": [
           {
            "marker": {
             "colorbar": {
              "outlinewidth": 0,
              "ticks": ""
             }
            },
            "type": "scattergeo"
           }
          ],
          "scattergl": [
           {
            "marker": {
             "colorbar": {
              "outlinewidth": 0,
              "ticks": ""
             }
            },
            "type": "scattergl"
           }
          ],
          "scattermapbox": [
           {
            "marker": {
             "colorbar": {
              "outlinewidth": 0,
              "ticks": ""
             }
            },
            "type": "scattermapbox"
           }
          ],
          "scatterpolar": [
           {
            "marker": {
             "colorbar": {
              "outlinewidth": 0,
              "ticks": ""
             }
            },
            "type": "scatterpolar"
           }
          ],
          "scatterpolargl": [
           {
            "marker": {
             "colorbar": {
              "outlinewidth": 0,
              "ticks": ""
             }
            },
            "type": "scatterpolargl"
           }
          ],
          "scatterternary": [
           {
            "marker": {
             "colorbar": {
              "outlinewidth": 0,
              "ticks": ""
             }
            },
            "type": "scatterternary"
           }
          ],
          "surface": [
           {
            "colorbar": {
             "outlinewidth": 0,
             "ticks": ""
            },
            "colorscale": [
             [
              0,
              "#0d0887"
             ],
             [
              0.1111111111111111,
              "#46039f"
             ],
             [
              0.2222222222222222,
              "#7201a8"
             ],
             [
              0.3333333333333333,
              "#9c179e"
             ],
             [
              0.4444444444444444,
              "#bd3786"
             ],
             [
              0.5555555555555556,
              "#d8576b"
             ],
             [
              0.6666666666666666,
              "#ed7953"
             ],
             [
              0.7777777777777778,
              "#fb9f3a"
             ],
             [
              0.8888888888888888,
              "#fdca26"
             ],
             [
              1,
              "#f0f921"
             ]
            ],
            "type": "surface"
           }
          ],
          "table": [
           {
            "cells": {
             "fill": {
              "color": "#EBF0F8"
             },
             "line": {
              "color": "white"
             }
            },
            "header": {
             "fill": {
              "color": "#C8D4E3"
             },
             "line": {
              "color": "white"
             }
            },
            "type": "table"
           }
          ]
         },
         "layout": {
          "annotationdefaults": {
           "arrowcolor": "#2a3f5f",
           "arrowhead": 0,
           "arrowwidth": 1
          },
          "autotypenumbers": "strict",
          "coloraxis": {
           "colorbar": {
            "outlinewidth": 0,
            "ticks": ""
           }
          },
          "colorscale": {
           "diverging": [
            [
             0,
             "#8e0152"
            ],
            [
             0.1,
             "#c51b7d"
            ],
            [
             0.2,
             "#de77ae"
            ],
            [
             0.3,
             "#f1b6da"
            ],
            [
             0.4,
             "#fde0ef"
            ],
            [
             0.5,
             "#f7f7f7"
            ],
            [
             0.6,
             "#e6f5d0"
            ],
            [
             0.7,
             "#b8e186"
            ],
            [
             0.8,
             "#7fbc41"
            ],
            [
             0.9,
             "#4d9221"
            ],
            [
             1,
             "#276419"
            ]
           ],
           "sequential": [
            [
             0,
             "#0d0887"
            ],
            [
             0.1111111111111111,
             "#46039f"
            ],
            [
             0.2222222222222222,
             "#7201a8"
            ],
            [
             0.3333333333333333,
             "#9c179e"
            ],
            [
             0.4444444444444444,
             "#bd3786"
            ],
            [
             0.5555555555555556,
             "#d8576b"
            ],
            [
             0.6666666666666666,
             "#ed7953"
            ],
            [
             0.7777777777777778,
             "#fb9f3a"
            ],
            [
             0.8888888888888888,
             "#fdca26"
            ],
            [
             1,
             "#f0f921"
            ]
           ],
           "sequentialminus": [
            [
             0,
             "#0d0887"
            ],
            [
             0.1111111111111111,
             "#46039f"
            ],
            [
             0.2222222222222222,
             "#7201a8"
            ],
            [
             0.3333333333333333,
             "#9c179e"
            ],
            [
             0.4444444444444444,
             "#bd3786"
            ],
            [
             0.5555555555555556,
             "#d8576b"
            ],
            [
             0.6666666666666666,
             "#ed7953"
            ],
            [
             0.7777777777777778,
             "#fb9f3a"
            ],
            [
             0.8888888888888888,
             "#fdca26"
            ],
            [
             1,
             "#f0f921"
            ]
           ]
          },
          "colorway": [
           "#636efa",
           "#EF553B",
           "#00cc96",
           "#ab63fa",
           "#FFA15A",
           "#19d3f3",
           "#FF6692",
           "#B6E880",
           "#FF97FF",
           "#FECB52"
          ],
          "font": {
           "color": "#2a3f5f"
          },
          "geo": {
           "bgcolor": "white",
           "lakecolor": "white",
           "landcolor": "#E5ECF6",
           "showlakes": true,
           "showland": true,
           "subunitcolor": "white"
          },
          "hoverlabel": {
           "align": "left"
          },
          "hovermode": "closest",
          "mapbox": {
           "style": "light"
          },
          "paper_bgcolor": "white",
          "plot_bgcolor": "#E5ECF6",
          "polar": {
           "angularaxis": {
            "gridcolor": "white",
            "linecolor": "white",
            "ticks": ""
           },
           "bgcolor": "#E5ECF6",
           "radialaxis": {
            "gridcolor": "white",
            "linecolor": "white",
            "ticks": ""
           }
          },
          "scene": {
           "xaxis": {
            "backgroundcolor": "#E5ECF6",
            "gridcolor": "white",
            "gridwidth": 2,
            "linecolor": "white",
            "showbackground": true,
            "ticks": "",
            "zerolinecolor": "white"
           },
           "yaxis": {
            "backgroundcolor": "#E5ECF6",
            "gridcolor": "white",
            "gridwidth": 2,
            "linecolor": "white",
            "showbackground": true,
            "ticks": "",
            "zerolinecolor": "white"
           },
           "zaxis": {
            "backgroundcolor": "#E5ECF6",
            "gridcolor": "white",
            "gridwidth": 2,
            "linecolor": "white",
            "showbackground": true,
            "ticks": "",
            "zerolinecolor": "white"
           }
          },
          "shapedefaults": {
           "line": {
            "color": "#2a3f5f"
           }
          },
          "ternary": {
           "aaxis": {
            "gridcolor": "white",
            "linecolor": "white",
            "ticks": ""
           },
           "baxis": {
            "gridcolor": "white",
            "linecolor": "white",
            "ticks": ""
           },
           "bgcolor": "#E5ECF6",
           "caxis": {
            "gridcolor": "white",
            "linecolor": "white",
            "ticks": ""
           }
          },
          "title": {
           "x": 0.05
          },
          "xaxis": {
           "automargin": true,
           "gridcolor": "white",
           "linecolor": "white",
           "ticks": "",
           "title": {
            "standoff": 15
           },
           "zerolinecolor": "white",
           "zerolinewidth": 2
          },
          "yaxis": {
           "automargin": true,
           "gridcolor": "white",
           "linecolor": "white",
           "ticks": "",
           "title": {
            "standoff": 15
           },
           "zerolinecolor": "white",
           "zerolinewidth": 2
          }
         }
        },
        "title": {
         "text": "Proportion of Skill Types for Network and Computer Systems Administrators"
        }
       }
      },
      "image/png": "[encoded data removed]",
      "text/html": [
       "<div>                            <div id=\"221607b6-17f7-4ccc-bbee-31810992b395\" class=\"plotly-graph-div\" style=\"height:525px; width:100%;\"></div>            <script type=\"text/javascript\">                require([\"plotly\"], function(Plotly) {                    window.PLOTLYENV=window.PLOTLYENV || {};                                    if (document.getElementById(\"221607b6-17f7-4ccc-bbee-31810992b395\")) {                    Plotly.newPlot(                        \"221607b6-17f7-4ccc-bbee-31810992b395\",                        [{\"domain\":{\"x\":[0.0,1.0],\"y\":[0.0,1.0]},\"hole\":0.4,\"hovertemplate\":\"label=%{label}\\u003cbr\\u003evalue=%{value}\\u003cextra\\u003e\\u003c\\u002fextra\\u003e\",\"labels\":[\"human\",\"professional\",\"technical\"],\"legendgroup\":\"\",\"name\":\"\",\"showlegend\":true,\"values\":[0.46,0.38,0.16],\"type\":\"pie\"}],                        {\"template\":{\"data\":{\"histogram2dcontour\":[{\"type\":\"histogram2dcontour\",\"colorbar\":{\"outlinewidth\":0,\"ticks\":\"\"},\"colorscale\":[[0.0,\"#0d0887\"],[0.1111111111111111,\"#46039f\"],[0.2222222222222222,\"#7201a8\"],[0.3333333333333333,\"#9c179e\"],[0.4444444444444444,\"#bd3786\"],[0.5555555555555556,\"#d8576b\"],[0.6666666666666666,\"#ed7953\"],[0.7777777777777778,\"#fb9f3a\"],[0.8888888888888888,\"#fdca26\"],[1.0,\"#f0f921\"]]}],\"choropleth\":[{\"type\":\"choropleth\",\"colorbar\":{\"outlinewidth\":0,\"ticks\":\"\"}}],\"histogram2d\":[{\"type\":\"histogram2d\",\"colorbar\":{\"outlinewidth\":0,\"ticks\":\"\"},\"colorscale\":[[0.0,\"#0d0887\"],[0.1111111111111111,\"#46039f\"],[0.2222222222222222,\"#7201a8\"],[0.3333333333333333,\"#9c179e\"],[0.4444444444444444,\"#bd3786\"],[0.5555555555555556,\"#d8576b\"],[0.6666666666666666,\"#ed7953\"],[0.7777777777777778,\"#fb9f3a\"],[0.8888888888888888,\"#fdca26\"],[1.0,\"#f0f921\"]]}],\"heatmap\":[{\"type\":\"heatmap\",\"colorbar\":{\"outlinewidth\":0,\"ticks\":\"\"},\"colorscale\":[[0.0,\"#0d0887\"],[0.1111111111111111,\"#46039f\"],[0.2222222222222222,\"#7201a8\"],[0.3333333333333333,\"#9c179e\"],[0.4444444444444444,\"#bd3786\"],[0.5555555555555556,\"#d8576b\"],[0.6666666666666666,\"#ed7953\"],[0.7777777777777778,\"#fb9f3a\"],[0.8888888888888888,\"#fdca26\"],[1.0,\"#f0f921\"]]}],\"heatmapgl\":[{\"type\":\"heatmapgl\",\"colorbar\":{\"outlinewidth\":0,\"ticks\":\"\"},\"colorscale\":[[0.0,\"#0d0887\"],[0.1111111111111111,\"#46039f\"],[0.2222222222222222,\"#7201a8\"],[0.3333333333333333,\"#9c179e\"],[0.4444444444444444,\"#bd3786\"],[0.5555555555555556,\"#d8576b\"],[0.6666666666666666,\"#ed7953\"],[0.7777777777777778,\"#fb9f3a\"],[0.8888888888888888,\"#fdca26\"],[1.0,\"#f0f921\"]]}],\"contourcarpet\":[{\"type\":\"contourcarpet\",\"colorbar\":{\"outlinewidth\":0,\"ticks\":\"\"}}],\"contour\":[{\"type\":\"contour\",\"colorbar\":{\"outlinewidth\":0,\"ticks\":\"\"},\"colorscale\":[[0.0,\"#0d0887\"],[0.1111111111111111,\"#46039f\"],[0.2222222222222222,\"#7201a8\"],[0.3333333333333333,\"#9c179e\"],[0.4444444444444444,\"#bd3786\"],[0.5555555555555556,\"#d8576b\"],[0.6666666666666666,\"#ed7953\"],[0.7777777777777778,\"#fb9f3a\"],[0.8888888888888888,\"#fdca26\"],[1.0,\"#f0f921\"]]}],\"surface\":[{\"type\":\"surface\",\"colorbar\":{\"outlinewidth\":0,\"ticks\":\"\"},\"colorscale\":[[0.0,\"#0d0887\"],[0.1111111111111111,\"#46039f\"],[0.2222222222222222,\"#7201a8\"],[0.3333333333333333,\"#9c179e\"],[0.4444444444444444,\"#bd3786\"],[0.5555555555555556,\"#d8576b\"],[0.6666666666666666,\"#ed7953\"],[0.7777777777777778,\"#fb9f3a\"],[0.8888888888888888,\"#fdca26\"],[1.0,\"#f0f921\"]]}],\"mesh3d\":[{\"type\":\"mesh3d\",\"colorbar\":{\"outlinewidth\":0,\"ticks\":\"\"}}],\"scatter\":[{\"fillpattern\":{\"fillmode\":\"overlay\",\"size\":10,\"solidity\":0.2},\"type\":\"scatter\"}],\"parcoords\":[{\"type\":\"parcoords\",\"line\":{\"colorbar\":{\"outlinewidth\":0,\"ticks\":\"\"}}}],\"scatterpolargl\":[{\"type\":\"scatterpolargl\",\"marker\":{\"colorbar\":{\"outlinewidth\":0,\"ticks\":\"\"}}}],\"bar\":[{\"error_x\":{\"color\":\"#2a3f5f\"},\"error_y\":{\"color\":\"#2a3f5f\"},\"marker\":{\"line\":{\"color\":\"#E5ECF6\",\"width\":0.5},\"pattern\":{\"fillmode\":\"overlay\",\"size\":10,\"solidity\":0.2}},\"type\":\"bar\"}],\"scattergeo\":[{\"type\":\"scattergeo\",\"marker\":{\"colorbar\":{\"outlinewidth\":0,\"ticks\":\"\"}}}],\"scatterpolar\":[{\"type\":\"scatterpolar\",\"marker\":{\"colorbar\":{\"outlinewidth\":0,\"ticks\":\"\"}}}],\"histogram\":[{\"marker\":{\"pattern\":{\"fillmode\":\"overlay\",\"size\":10,\"solidity\":0.2}},\"type\":\"histogram\"}],\"scattergl\":[{\"type\":\"scattergl\",\"marker\":{\"colorbar\":{\"outlinewidth\":0,\"ticks\":\"\"}}}],\"scatter3d\":[{\"type\":\"scatter3d\",\"line\":{\"colorbar\":{\"outlinewidth\":0,\"ticks\":\"\"}},\"marker\":{\"colorbar\":{\"outlinewidth\":0,\"ticks\":\"\"}}}],\"scattermapbox\":[{\"type\":\"scattermapbox\",\"marker\":{\"colorbar\":{\"outlinewidth\":0,\"ticks\":\"\"}}}],\"scatterternary\":[{\"type\":\"scatterternary\",\"marker\":{\"colorbar\":{\"outlinewidth\":0,\"ticks\":\"\"}}}],\"scattercarpet\":[{\"type\":\"scattercarpet\",\"marker\":{\"colorbar\":{\"outlinewidth\":0,\"ticks\":\"\"}}}],\"carpet\":[{\"aaxis\":{\"endlinecolor\":\"#2a3f5f\",\"gridcolor\":\"white\",\"linecolor\":\"white\",\"minorgridcolor\":\"white\",\"startlinecolor\":\"#2a3f5f\"},\"baxis\":{\"endlinecolor\":\"#2a3f5f\",\"gridcolor\":\"white\",\"linecolor\":\"white\",\"minorgridcolor\":\"white\",\"startlinecolor\":\"#2a3f5f\"},\"type\":\"carpet\"}],\"table\":[{\"cells\":{\"fill\":{\"color\":\"#EBF0F8\"},\"line\":{\"color\":\"white\"}},\"header\":{\"fill\":{\"color\":\"#C8D4E3\"},\"line\":{\"color\":\"white\"}},\"type\":\"table\"}],\"barpolar\":[{\"marker\":{\"line\":{\"color\":\"#E5ECF6\",\"width\":0.5},\"pattern\":{\"fillmode\":\"overlay\",\"size\":10,\"solidity\":0.2}},\"type\":\"barpolar\"}],\"pie\":[{\"automargin\":true,\"type\":\"pie\"}]},\"layout\":{\"autotypenumbers\":\"strict\",\"colorway\":[\"#636efa\",\"#EF553B\",\"#00cc96\",\"#ab63fa\",\"#FFA15A\",\"#19d3f3\",\"#FF6692\",\"#B6E880\",\"#FF97FF\",\"#FECB52\"],\"font\":{\"color\":\"#2a3f5f\"},\"hovermode\":\"closest\",\"hoverlabel\":{\"align\":\"left\"},\"paper_bgcolor\":\"white\",\"plot_bgcolor\":\"#E5ECF6\",\"polar\":{\"bgcolor\":\"#E5ECF6\",\"angularaxis\":{\"gridcolor\":\"white\",\"linecolor\":\"white\",\"ticks\":\"\"},\"radialaxis\":{\"gridcolor\":\"white\",\"linecolor\":\"white\",\"ticks\":\"\"}},\"ternary\":{\"bgcolor\":\"#E5ECF6\",\"aaxis\":{\"gridcolor\":\"white\",\"linecolor\":\"white\",\"ticks\":\"\"},\"baxis\":{\"gridcolor\":\"white\",\"linecolor\":\"white\",\"ticks\":\"\"},\"caxis\":{\"gridcolor\":\"white\",\"linecolor\":\"white\",\"ticks\":\"\"}},\"coloraxis\":{\"colorbar\":{\"outlinewidth\":0,\"ticks\":\"\"}},\"colorscale\":{\"sequential\":[[0.0,\"#0d0887\"],[0.1111111111111111,\"#46039f\"],[0.2222222222222222,\"#7201a8\"],[0.3333333333333333,\"#9c179e\"],[0.4444444444444444,\"#bd3786\"],[0.5555555555555556,\"#d8576b\"],[0.6666666666666666,\"#ed7953\"],[0.7777777777777778,\"#fb9f3a\"],[0.8888888888888888,\"#fdca26\"],[1.0,\"#f0f921\"]],\"sequentialminus\":[[0.0,\"#0d0887\"],[0.1111111111111111,\"#46039f\"],[0.2222222222222222,\"#7201a8\"],[0.3333333333333333,\"#9c179e\"],[0.4444444444444444,\"#bd3786\"],[0.5555555555555556,\"#d8576b\"],[0.6666666666666666,\"#ed7953\"],[0.7777777777777778,\"#fb9f3a\"],[0.8888888888888888,\"#fdca26\"],[1.0,\"#f0f921\"]],\"diverging\":[[0,\"#8e0152\"],[0.1,\"#c51b7d\"],[0.2,\"#de77ae\"],[0.3,\"#f1b6da\"],[0.4,\"#fde0ef\"],[0.5,\"#f7f7f7\"],[0.6,\"#e6f5d0\"],[0.7,\"#b8e186\"],[0.8,\"#7fbc41\"],[0.9,\"#4d9221\"],[1,\"#276419\"]]},\"xaxis\":{\"gridcolor\":\"white\",\"linecolor\":\"white\",\"ticks\":\"\",\"title\":{\"standoff\":15},\"zerolinecolor\":\"white\",\"automargin\":true,\"zerolinewidth\":2},\"yaxis\":{\"gridcolor\":\"white\",\"linecolor\":\"white\",\"ticks\":\"\",\"title\":{\"standoff\":15},\"zerolinecolor\":\"white\",\"automargin\":true,\"zerolinewidth\":2},\"scene\":{\"xaxis\":{\"backgroundcolor\":\"#E5ECF6\",\"gridcolor\":\"white\",\"linecolor\":\"white\",\"showbackground\":true,\"ticks\":\"\",\"zerolinecolor\":\"white\",\"gridwidth\":2},\"yaxis\":{\"backgroundcolor\":\"#E5ECF6\",\"gridcolor\":\"white\",\"linecolor\":\"white\",\"showbackground\":true,\"ticks\":\"\",\"zerolinecolor\":\"white\",\"gridwidth\":2},\"zaxis\":{\"backgroundcolor\":\"#E5ECF6\",\"gridcolor\":\"white\",\"linecolor\":\"white\",\"showbackground\":true,\"ticks\":\"\",\"zerolinecolor\":\"white\",\"gridwidth\":2}},\"shapedefaults\":{\"line\":{\"color\":\"#2a3f5f\"}},\"annotationdefaults\":{\"arrowcolor\":\"#2a3f5f\",\"arrowhead\":0,\"arrowwidth\":1},\"geo\":{\"bgcolor\":\"white\",\"landcolor\":\"#E5ECF6\",\"subunitcolor\":\"white\",\"showland\":true,\"showlakes\":true,\"lakecolor\":\"white\"},\"title\":{\"x\":0.05},\"mapbox\":{\"style\":\"light\"}}},\"legend\":{\"tracegroupgap\":0},\"title\":{\"text\":\"Proportion of Skill Types for Network and Computer Systems Administrators\"}},                        {\"responsive\": true}                    ).then(function(){\n",
       "                            \n",
       "var gd = document.getElementById('221607b6-17f7-4ccc-bbee-31810992b395');\n",
       "var x = new MutationObserver(function (mutations, observer) {{\n",
       "        var display = window.getComputedStyle(gd).display;\n",
       "        if (!display || display === 'none') {{\n",
       "            console.log([gd, 'removed!']);\n",
       "            Plotly.purge(gd);\n",
       "            observer.disconnect();\n",
       "        }}\n",
       "}});\n",
       "\n",
       "// Listen for the removal of the full notebook cells\n",
       "var notebookContainer = gd.closest('#notebook-container');\n",
       "if (notebookContainer) {{\n",
       "    x.observe(notebookContainer, {childList: true});\n",
       "}}\n",
       "\n",
       "// Listen for the clearing of the current output cell\n",
       "var outputEl = gd.closest('.output');\n",
       "if (outputEl) {{\n",
       "    x.observe(outputEl, {childList: true});\n",
       "}}\n",
       "\n",
       "                        })                };                });            </script>        </div>"
      ]
     },
     "metadata": {},
     "output_type": "display_data"
    }
   ],
   "source": [
    "# Calculate the proportion of each skill type\n",
    "common_skill_type_counts = common_ncsa['type'].value_counts(normalize=True)\n",
    "\n",
    "# Create a donut chart\n",
    "fig = px.pie(\n",
    "    values=common_skill_type_counts.values,\n",
    "    names=common_skill_type_counts.index,\n",
    "    hole=0.4,\n",
    "    title='Proportion of Skill Types for Network and Computer Systems Administrators'\n",
    ")\n",
    "fig.show()"
   ]
  },
  {
   "cell_type": "markdown",
   "id": "1ed32089-5beb-4ab3-a06f-de5848973153",
   "metadata": {},
   "source": [
    "#### Comparing Demand (job posting frequency) and Growth (projections)"
   ]
  },
  {
   "cell_type": "code",
   "execution_count": 17,
   "id": "6fd7c119-fb66-407a-9fac-caabbc00947f",
   "metadata": {
    "tags": []
   },
   "outputs": [
    {
     "data": {
      "application/vnd.plotly.v1+json": {
       "config": {
        "plotlyServerURL": "https://plot.ly"
       },
       "data": [
        {
         "name": "Frequency",
         "type": "bar",
         "x": [
          "Troubleshooting (Problem Solving)",
          "Management",
          "Communication",
          "Operations",
          "Problem Solving",
          "Information Technology",
          "Customer Service",
          "Planning",
          "Writing",
          "Research",
          "Detail Oriented",
          "Leadership",
          "Self-Motivation",
          "Interpersonal Communications",
          "Microsoft Office",
          "Verbal Communication Skills",
          "Coordinating",
          "Microsoft Windows",
          "Prioritization",
          "Multitasking",
          "Time Management",
          "Innovation",
          "Microsoft Excel",
          "Organizational Skills",
          "Teamwork",
          "Mathematics",
          "Security Policies",
          "Lifting Ability",
          "Presentations",
          "Analytical Skills",
          "Mentorship",
          "Scheduling",
          "Microsoft Outlook",
          "Administrative Functions",
          "Critical Thinking",
          "Microsoft PowerPoint",
          "Professionalism",
          "Consulting",
          "Ability To Meet Deadlines",
          "Governance",
          "English Language",
          "Decision Making",
          "Willingness To Learn",
          "Collaboration",
          "Wireless Communications",
          "Team Oriented",
          "Accountability",
          "Sales",
          "Computer Literacy",
          "Quality Assurance"
         ],
         "xaxis": "x",
         "y": [
          52,
          38,
          37,
          30,
          25,
          21,
          18,
          16,
          12,
          11,
          11,
          10,
          9,
          9,
          9,
          8,
          8,
          6,
          6,
          6,
          6,
          6,
          6,
          5,
          5,
          4,
          4,
          4,
          4,
          4,
          4,
          4,
          4,
          3,
          3,
          3,
          3,
          3,
          3,
          3,
          3,
          2,
          2,
          2,
          2,
          2,
          2,
          2,
          2,
          2
         ],
         "yaxis": "y"
        },
        {
         "name": "Growth Relative",
         "type": "bar",
         "x": [
          "Operating Systems",
          "Linux",
          "Computer Science",
          "System Administration",
          "Active Directory",
          "Scripting",
          "Windows Servers",
          "Automation",
          "Firewall",
          "Network Administration",
          "Microsoft Azure",
          "Windows PowerShell",
          "Technical Support",
          "Python (Programming Language)",
          "Backup Devices",
          "Network Switches",
          "Unix",
          "Local Area Networks",
          "SQL (Programming Language)",
          "Amazon Web Services",
          "Auditing",
          "Virtualization",
          "Project Management",
          "Information Systems",
          "Help Desk Support",
          "Disaster Recovery",
          "Dynamic Host Configuration Protocol (DHCP)",
          "Ansible",
          "Workflow Management",
          "Configuration Management",
          "Wide Area Networks",
          "Microsoft SharePoint",
          "Group Policy",
          "Bash (Scripting Language)",
          "Cyber Security",
          "Systems Engineering",
          "Microsoft Office 365",
          "Networking Hardware",
          "TCP/IP",
          "Vulnerability",
          "IT Infrastructure",
          "Virtual Private Networks (VPN)",
          "Change Management",
          "ServiceNow",
          "Network Security",
          "Red Hat Enterprise Linux",
          "Network Infrastructure",
          "Agile Methodology",
          "Network Routing",
          "Computer Networks"
         ],
         "xaxis": "x2",
         "y": [
          22.6,
          8.9,
          26.8,
          2.7,
          -1.7999999999999998,
          7.9,
          2,
          30.5,
          20.4,
          null,
          28.9,
          17.4,
          24.099999999999998,
          24.5,
          19.400000000000002,
          14.499999999999998,
          14.000000000000002,
          18.6,
          6.4,
          24,
          21.8,
          7.1,
          19.8,
          21.6,
          20.7,
          16.5,
          11.799999999999999,
          15.4,
          18,
          2.7,
          14.099999999999998,
          2.4,
          10.9,
          13.5,
          14.2,
          20.9,
          24.2,
          21.099999999999998,
          3.4000000000000004,
          16,
          11.899999999999999,
          13,
          23.200000000000003,
          22.8,
          13.4,
          7.6,
          9.2,
          19.8,
          12.4,
          10.6
         ],
         "yaxis": "y2"
        }
       ],
       "layout": {
        "annotations": [
         {
          "font": {
           "size": 16
          },
          "showarrow": false,
          "text": "Skill Frequency",
          "x": 0.225,
          "xanchor": "center",
          "xref": "paper",
          "y": 1,
          "yanchor": "bottom",
          "yref": "paper"
         },
         {
          "font": {
           "size": 16
          },
          "showarrow": false,
          "text": "Growth Relative to Market",
          "x": 0.775,
          "xanchor": "center",
          "xref": "paper",
          "y": 1,
          "yanchor": "bottom",
          "yref": "paper"
         }
        ],
        "autosize": true,
        "showlegend": false,
        "template": {
         "data": {
          "bar": [
           {
            "error_x": {
             "color": "#2a3f5f"
            },
            "error_y": {
             "color": "#2a3f5f"
            },
            "marker": {
             "line": {
              "color": "#E5ECF6",
              "width": 0.5
             },
             "pattern": {
              "fillmode": "overlay",
              "size": 10,
              "solidity": 0.2
             }
            },
            "type": "bar"
           }
          ],
          "barpolar": [
           {
            "marker": {
             "line": {
              "color": "#E5ECF6",
              "width": 0.5
             },
             "pattern": {
              "fillmode": "overlay",
              "size": 10,
              "solidity": 0.2
             }
            },
            "type": "barpolar"
           }
          ],
          "carpet": [
           {
            "aaxis": {
             "endlinecolor": "#2a3f5f",
             "gridcolor": "white",
             "linecolor": "white",
             "minorgridcolor": "white",
             "startlinecolor": "#2a3f5f"
            },
            "baxis": {
             "endlinecolor": "#2a3f5f",
             "gridcolor": "white",
             "linecolor": "white",
             "minorgridcolor": "white",
             "startlinecolor": "#2a3f5f"
            },
            "type": "carpet"
           }
          ],
          "choropleth": [
           {
            "colorbar": {
             "outlinewidth": 0,
             "ticks": ""
            },
            "type": "choropleth"
           }
          ],
          "contour": [
           {
            "colorbar": {
             "outlinewidth": 0,
             "ticks": ""
            },
            "colorscale": [
             [
              0,
              "#0d0887"
             ],
             [
              0.1111111111111111,
              "#46039f"
             ],
             [
              0.2222222222222222,
              "#7201a8"
             ],
             [
              0.3333333333333333,
              "#9c179e"
             ],
             [
              0.4444444444444444,
              "#bd3786"
             ],
             [
              0.5555555555555556,
              "#d8576b"
             ],
             [
              0.6666666666666666,
              "#ed7953"
             ],
             [
              0.7777777777777778,
              "#fb9f3a"
             ],
             [
              0.8888888888888888,
              "#fdca26"
             ],
             [
              1,
              "#f0f921"
             ]
            ],
            "type": "contour"
           }
          ],
          "contourcarpet": [
           {
            "colorbar": {
             "outlinewidth": 0,
             "ticks": ""
            },
            "type": "contourcarpet"
           }
          ],
          "heatmap": [
           {
            "colorbar": {
             "outlinewidth": 0,
             "ticks": ""
            },
            "colorscale": [
             [
              0,
              "#0d0887"
             ],
             [
              0.1111111111111111,
              "#46039f"
             ],
             [
              0.2222222222222222,
              "#7201a8"
             ],
             [
              0.3333333333333333,
              "#9c179e"
             ],
             [
              0.4444444444444444,
              "#bd3786"
             ],
             [
              0.5555555555555556,
              "#d8576b"
             ],
             [
              0.6666666666666666,
              "#ed7953"
             ],
             [
              0.7777777777777778,
              "#fb9f3a"
             ],
             [
              0.8888888888888888,
              "#fdca26"
             ],
             [
              1,
              "#f0f921"
             ]
            ],
            "type": "heatmap"
           }
          ],
          "heatmapgl": [
           {
            "colorbar": {
             "outlinewidth": 0,
             "ticks": ""
            },
            "colorscale": [
             [
              0,
              "#0d0887"
             ],
             [
              0.1111111111111111,
              "#46039f"
             ],
             [
              0.2222222222222222,
              "#7201a8"
             ],
             [
              0.3333333333333333,
              "#9c179e"
             ],
             [
              0.4444444444444444,
              "#bd3786"
             ],
             [
              0.5555555555555556,
              "#d8576b"
             ],
             [
              0.6666666666666666,
              "#ed7953"
             ],
             [
              0.7777777777777778,
              "#fb9f3a"
             ],
             [
              0.8888888888888888,
              "#fdca26"
             ],
             [
              1,
              "#f0f921"
             ]
            ],
            "type": "heatmapgl"
           }
          ],
          "histogram": [
           {
            "marker": {
             "pattern": {
              "fillmode": "overlay",
              "size": 10,
              "solidity": 0.2
             }
            },
            "type": "histogram"
           }
          ],
          "histogram2d": [
           {
            "colorbar": {
             "outlinewidth": 0,
             "ticks": ""
            },
            "colorscale": [
             [
              0,
              "#0d0887"
             ],
             [
              0.1111111111111111,
              "#46039f"
             ],
             [
              0.2222222222222222,
              "#7201a8"
             ],
             [
              0.3333333333333333,
              "#9c179e"
             ],
             [
              0.4444444444444444,
              "#bd3786"
             ],
             [
              0.5555555555555556,
              "#d8576b"
             ],
             [
              0.6666666666666666,
              "#ed7953"
             ],
             [
              0.7777777777777778,
              "#fb9f3a"
             ],
             [
              0.8888888888888888,
              "#fdca26"
             ],
             [
              1,
              "#f0f921"
             ]
            ],
            "type": "histogram2d"
           }
          ],
          "histogram2dcontour": [
           {
            "colorbar": {
             "outlinewidth": 0,
             "ticks": ""
            },
            "colorscale": [
             [
              0,
              "#0d0887"
             ],
             [
              0.1111111111111111,
              "#46039f"
             ],
             [
              0.2222222222222222,
              "#7201a8"
             ],
             [
              0.3333333333333333,
              "#9c179e"
             ],
             [
              0.4444444444444444,
              "#bd3786"
             ],
             [
              0.5555555555555556,
              "#d8576b"
             ],
             [
              0.6666666666666666,
              "#ed7953"
             ],
             [
              0.7777777777777778,
              "#fb9f3a"
             ],
             [
              0.8888888888888888,
              "#fdca26"
             ],
             [
              1,
              "#f0f921"
             ]
            ],
            "type": "histogram2dcontour"
           }
          ],
          "mesh3d": [
           {
            "colorbar": {
             "outlinewidth": 0,
             "ticks": ""
            },
            "type": "mesh3d"
           }
          ],
          "parcoords": [
           {
            "line": {
             "colorbar": {
              "outlinewidth": 0,
              "ticks": ""
             }
            },
            "type": "parcoords"
           }
          ],
          "pie": [
           {
            "automargin": true,
            "type": "pie"
           }
          ],
          "scatter": [
           {
            "fillpattern": {
             "fillmode": "overlay",
             "size": 10,
             "solidity": 0.2
            },
            "type": "scatter"
           }
          ],
          "scatter3d": [
           {
            "line": {
             "colorbar": {
              "outlinewidth": 0,
              "ticks": ""
             }
            },
            "marker": {
             "colorbar": {
              "outlinewidth": 0,
              "ticks": ""
             }
            },
            "type": "scatter3d"
           }
          ],
          "scattercarpet": [
           {
            "marker": {
             "colorbar": {
              "outlinewidth": 0,
              "ticks": ""
             }
            },
            "type": "scattercarpet"
           }
          ],
          "scattergeo": [
           {
            "marker": {
             "colorbar": {
              "outlinewidth": 0,
              "ticks": ""
             }
            },
            "type": "scattergeo"
           }
          ],
          "scattergl": [
           {
            "marker": {
             "colorbar": {
              "outlinewidth": 0,
              "ticks": ""
             }
            },
            "type": "scattergl"
           }
          ],
          "scattermapbox": [
           {
            "marker": {
             "colorbar": {
              "outlinewidth": 0,
              "ticks": ""
             }
            },
            "type": "scattermapbox"
           }
          ],
          "scatterpolar": [
           {
            "marker": {
             "colorbar": {
              "outlinewidth": 0,
              "ticks": ""
             }
            },
            "type": "scatterpolar"
           }
          ],
          "scatterpolargl": [
           {
            "marker": {
             "colorbar": {
              "outlinewidth": 0,
              "ticks": ""
             }
            },
            "type": "scatterpolargl"
           }
          ],
          "scatterternary": [
           {
            "marker": {
             "colorbar": {
              "outlinewidth": 0,
              "ticks": ""
             }
            },
            "type": "scatterternary"
           }
          ],
          "surface": [
           {
            "colorbar": {
             "outlinewidth": 0,
             "ticks": ""
            },
            "colorscale": [
             [
              0,
              "#0d0887"
             ],
             [
              0.1111111111111111,
              "#46039f"
             ],
             [
              0.2222222222222222,
              "#7201a8"
             ],
             [
              0.3333333333333333,
              "#9c179e"
             ],
             [
              0.4444444444444444,
              "#bd3786"
             ],
             [
              0.5555555555555556,
              "#d8576b"
             ],
             [
              0.6666666666666666,
              "#ed7953"
             ],
             [
              0.7777777777777778,
              "#fb9f3a"
             ],
             [
              0.8888888888888888,
              "#fdca26"
             ],
             [
              1,
              "#f0f921"
             ]
            ],
            "type": "surface"
           }
          ],
          "table": [
           {
            "cells": {
             "fill": {
              "color": "#EBF0F8"
             },
             "line": {
              "color": "white"
             }
            },
            "header": {
             "fill": {
              "color": "#C8D4E3"
             },
             "line": {
              "color": "white"
             }
            },
            "type": "table"
           }
          ]
         },
         "layout": {
          "annotationdefaults": {
           "arrowcolor": "#2a3f5f",
           "arrowhead": 0,
           "arrowwidth": 1
          },
          "autotypenumbers": "strict",
          "coloraxis": {
           "colorbar": {
            "outlinewidth": 0,
            "ticks": ""
           }
          },
          "colorscale": {
           "diverging": [
            [
             0,
             "#8e0152"
            ],
            [
             0.1,
             "#c51b7d"
            ],
            [
             0.2,
             "#de77ae"
            ],
            [
             0.3,
             "#f1b6da"
            ],
            [
             0.4,
             "#fde0ef"
            ],
            [
             0.5,
             "#f7f7f7"
            ],
            [
             0.6,
             "#e6f5d0"
            ],
            [
             0.7,
             "#b8e186"
            ],
            [
             0.8,
             "#7fbc41"
            ],
            [
             0.9,
             "#4d9221"
            ],
            [
             1,
             "#276419"
            ]
           ],
           "sequential": [
            [
             0,
             "#0d0887"
            ],
            [
             0.1111111111111111,
             "#46039f"
            ],
            [
             0.2222222222222222,
             "#7201a8"
            ],
            [
             0.3333333333333333,
             "#9c179e"
            ],
            [
             0.4444444444444444,
             "#bd3786"
            ],
            [
             0.5555555555555556,
             "#d8576b"
            ],
            [
             0.6666666666666666,
             "#ed7953"
            ],
            [
             0.7777777777777778,
             "#fb9f3a"
            ],
            [
             0.8888888888888888,
             "#fdca26"
            ],
            [
             1,
             "#f0f921"
            ]
           ],
           "sequentialminus": [
            [
             0,
             "#0d0887"
            ],
            [
             0.1111111111111111,
             "#46039f"
            ],
            [
             0.2222222222222222,
             "#7201a8"
            ],
            [
             0.3333333333333333,
             "#9c179e"
            ],
            [
             0.4444444444444444,
             "#bd3786"
            ],
            [
             0.5555555555555556,
             "#d8576b"
            ],
            [
             0.6666666666666666,
             "#ed7953"
            ],
            [
             0.7777777777777778,
             "#fb9f3a"
            ],
            [
             0.8888888888888888,
             "#fdca26"
            ],
            [
             1,
             "#f0f921"
            ]
           ]
          },
          "colorway": [
           "#636efa",
           "#EF553B",
           "#00cc96",
           "#ab63fa",
           "#FFA15A",
           "#19d3f3",
           "#FF6692",
           "#B6E880",
           "#FF97FF",
           "#FECB52"
          ],
          "font": {
           "color": "#2a3f5f"
          },
          "geo": {
           "bgcolor": "white",
           "lakecolor": "white",
           "landcolor": "#E5ECF6",
           "showlakes": true,
           "showland": true,
           "subunitcolor": "white"
          },
          "hoverlabel": {
           "align": "left"
          },
          "hovermode": "closest",
          "mapbox": {
           "style": "light"
          },
          "paper_bgcolor": "white",
          "plot_bgcolor": "#E5ECF6",
          "polar": {
           "angularaxis": {
            "gridcolor": "white",
            "linecolor": "white",
            "ticks": ""
           },
           "bgcolor": "#E5ECF6",
           "radialaxis": {
            "gridcolor": "white",
            "linecolor": "white",
            "ticks": ""
           }
          },
          "scene": {
           "xaxis": {
            "backgroundcolor": "#E5ECF6",
            "gridcolor": "white",
            "gridwidth": 2,
            "linecolor": "white",
            "showbackground": true,
            "ticks": "",
            "zerolinecolor": "white"
           },
           "yaxis": {
            "backgroundcolor": "#E5ECF6",
            "gridcolor": "white",
            "gridwidth": 2,
            "linecolor": "white",
            "showbackground": true,
            "ticks": "",
            "zerolinecolor": "white"
           },
           "zaxis": {
            "backgroundcolor": "#E5ECF6",
            "gridcolor": "white",
            "gridwidth": 2,
            "linecolor": "white",
            "showbackground": true,
            "ticks": "",
            "zerolinecolor": "white"
           }
          },
          "shapedefaults": {
           "line": {
            "color": "#2a3f5f"
           }
          },
          "ternary": {
           "aaxis": {
            "gridcolor": "white",
            "linecolor": "white",
            "ticks": ""
           },
           "baxis": {
            "gridcolor": "white",
            "linecolor": "white",
            "ticks": ""
           },
           "bgcolor": "#E5ECF6",
           "caxis": {
            "gridcolor": "white",
            "linecolor": "white",
            "ticks": ""
           }
          },
          "title": {
           "x": 0.05
          },
          "xaxis": {
           "automargin": true,
           "gridcolor": "white",
           "linecolor": "white",
           "ticks": "",
           "title": {
            "standoff": 15
           },
           "zerolinecolor": "white",
           "zerolinewidth": 2
          },
          "yaxis": {
           "automargin": true,
           "gridcolor": "white",
           "linecolor": "white",
           "ticks": "",
           "title": {
            "standoff": 15
           },
           "zerolinecolor": "white",
           "zerolinewidth": 2
          }
         }
        },
        "title": {
         "text": "Skill Frequency and Growth Relative to Market"
        },
        "xaxis": {
         "anchor": "y",
         "autorange": true,
         "domain": [
          0,
          0.45
         ],
         "range": [
          -0.5,
          49.5
         ],
         "title": {
          "text": "Skill"
         },
         "type": "category"
        },
        "xaxis2": {
         "anchor": "y2",
         "autorange": true,
         "domain": [
          0.55,
          1
         ],
         "range": [
          -0.5,
          49.5
         ],
         "type": "category"
        },
        "yaxis": {
         "anchor": "x",
         "autorange": true,
         "domain": [
          0,
          1
         ],
         "range": [
          0,
          54.73684210526316
         ],
         "title": {
          "text": "Frequency / Growth Relative to Market"
         },
         "type": "linear"
        },
        "yaxis2": {
         "anchor": "x2",
         "autorange": true,
         "domain": [
          0,
          1
         ],
         "range": [
          -3.594444444444444,
          32.294444444444444
         ],
         "type": "linear"
        }
       }
      },
      "image/png": "[encoded data removed]",
      "text/html": [
       "<div>                            <div id=\"cadaa7d3-8b7f-4d91-b341-36cca3583d2f\" class=\"plotly-graph-div\" style=\"height:525px; width:100%;\"></div>            <script type=\"text/javascript\">                require([\"plotly\"], function(Plotly) {                    window.PLOTLYENV=window.PLOTLYENV || {};                                    if (document.getElementById(\"cadaa7d3-8b7f-4d91-b341-36cca3583d2f\")) {                    Plotly.newPlot(                        \"cadaa7d3-8b7f-4d91-b341-36cca3583d2f\",                        [{\"name\":\"Frequency\",\"x\":[\"Troubleshooting (Problem Solving)\",\"Management\",\"Communication\",\"Operations\",\"Problem Solving\",\"Information Technology\",\"Customer Service\",\"Planning\",\"Writing\",\"Research\",\"Detail Oriented\",\"Leadership\",\"Self-Motivation\",\"Interpersonal Communications\",\"Microsoft Office\",\"Verbal Communication Skills\",\"Coordinating\",\"Microsoft Windows\",\"Prioritization\",\"Multitasking\",\"Time Management\",\"Innovation\",\"Microsoft Excel\",\"Organizational Skills\",\"Teamwork\",\"Mathematics\",\"Security Policies\",\"Lifting Ability\",\"Presentations\",\"Analytical Skills\",\"Mentorship\",\"Scheduling\",\"Microsoft Outlook\",\"Administrative Functions\",\"Critical Thinking\",\"Microsoft PowerPoint\",\"Professionalism\",\"Consulting\",\"Ability To Meet Deadlines\",\"Governance\",\"English Language\",\"Decision Making\",\"Willingness To Learn\",\"Collaboration\",\"Wireless Communications\",\"Team Oriented\",\"Accountability\",\"Sales\",\"Computer Literacy\",\"Quality Assurance\"],\"y\":[52.0,38.0,37.0,30.0,25.0,21.0,18.0,16.0,12.0,11.0,11.0,10.0,9.0,9.0,9.0,8.0,8.0,6.0,6.0,6.0,6.0,6.0,6.0,5.0,5.0,4.0,4.0,4.0,4.0,4.0,4.0,4.0,4.0,3.0,3.0,3.0,3.0,3.0,3.0,3.0,3.0,2.0,2.0,2.0,2.0,2.0,2.0,2.0,2.0,2.0],\"type\":\"bar\",\"xaxis\":\"x\",\"yaxis\":\"y\"},{\"name\":\"Growth Relative\",\"x\":[\"Operating Systems\",\"Linux\",\"Computer Science\",\"System Administration\",\"Active Directory\",\"Scripting\",\"Windows Servers\",\"Automation\",\"Firewall\",\"Network Administration\",\"Microsoft Azure\",\"Windows PowerShell\",\"Technical Support\",\"Python (Programming Language)\",\"Backup Devices\",\"Network Switches\",\"Unix\",\"Local Area Networks\",\"SQL (Programming Language)\",\"Amazon Web Services\",\"Auditing\",\"Virtualization\",\"Project Management\",\"Information Systems\",\"Help Desk Support\",\"Disaster Recovery\",\"Dynamic Host Configuration Protocol (DHCP)\",\"Ansible\",\"Workflow Management\",\"Configuration Management\",\"Wide Area Networks\",\"Microsoft SharePoint\",\"Group Policy\",\"Bash (Scripting Language)\",\"Cyber Security\",\"Systems Engineering\",\"Microsoft Office 365\",\"Networking Hardware\",\"TCP\\u002fIP\",\"Vulnerability\",\"IT Infrastructure\",\"Virtual Private Networks (VPN)\",\"Change Management\",\"ServiceNow\",\"Network Security\",\"Red Hat Enterprise Linux\",\"Network Infrastructure\",\"Agile Methodology\",\"Network Routing\",\"Computer Networks\"],\"y\":[22.6,8.9,26.8,2.7,-1.7999999999999998,7.9,2.0,30.5,20.4,null,28.9,17.4,24.099999999999998,24.5,19.400000000000002,14.499999999999998,14.000000000000002,18.6,6.4,24.0,21.8,7.1,19.8,21.6,20.7,16.5,11.799999999999999,15.4,18.0,2.7,14.099999999999998,2.4,10.9,13.5,14.2,20.9,24.2,21.099999999999998,3.4000000000000004,16.0,11.899999999999999,13.0,23.200000000000003,22.8,13.4,7.6,9.2,19.8,12.4,10.6],\"type\":\"bar\",\"xaxis\":\"x2\",\"yaxis\":\"y2\"}],                        {\"template\":{\"data\":{\"histogram2dcontour\":[{\"type\":\"histogram2dcontour\",\"colorbar\":{\"outlinewidth\":0,\"ticks\":\"\"},\"colorscale\":[[0.0,\"#0d0887\"],[0.1111111111111111,\"#46039f\"],[0.2222222222222222,\"#7201a8\"],[0.3333333333333333,\"#9c179e\"],[0.4444444444444444,\"#bd3786\"],[0.5555555555555556,\"#d8576b\"],[0.6666666666666666,\"#ed7953\"],[0.7777777777777778,\"#fb9f3a\"],[0.8888888888888888,\"#fdca26\"],[1.0,\"#f0f921\"]]}],\"choropleth\":[{\"type\":\"choropleth\",\"colorbar\":{\"outlinewidth\":0,\"ticks\":\"\"}}],\"histogram2d\":[{\"type\":\"histogram2d\",\"colorbar\":{\"outlinewidth\":0,\"ticks\":\"\"},\"colorscale\":[[0.0,\"#0d0887\"],[0.1111111111111111,\"#46039f\"],[0.2222222222222222,\"#7201a8\"],[0.3333333333333333,\"#9c179e\"],[0.4444444444444444,\"#bd3786\"],[0.5555555555555556,\"#d8576b\"],[0.6666666666666666,\"#ed7953\"],[0.7777777777777778,\"#fb9f3a\"],[0.8888888888888888,\"#fdca26\"],[1.0,\"#f0f921\"]]}],\"heatmap\":[{\"type\":\"heatmap\",\"colorbar\":{\"outlinewidth\":0,\"ticks\":\"\"},\"colorscale\":[[0.0,\"#0d0887\"],[0.1111111111111111,\"#46039f\"],[0.2222222222222222,\"#7201a8\"],[0.3333333333333333,\"#9c179e\"],[0.4444444444444444,\"#bd3786\"],[0.5555555555555556,\"#d8576b\"],[0.6666666666666666,\"#ed7953\"],[0.7777777777777778,\"#fb9f3a\"],[0.8888888888888888,\"#fdca26\"],[1.0,\"#f0f921\"]]}],\"heatmapgl\":[{\"type\":\"heatmapgl\",\"colorbar\":{\"outlinewidth\":0,\"ticks\":\"\"},\"colorscale\":[[0.0,\"#0d0887\"],[0.1111111111111111,\"#46039f\"],[0.2222222222222222,\"#7201a8\"],[0.3333333333333333,\"#9c179e\"],[0.4444444444444444,\"#bd3786\"],[0.5555555555555556,\"#d8576b\"],[0.6666666666666666,\"#ed7953\"],[0.7777777777777778,\"#fb9f3a\"],[0.8888888888888888,\"#fdca26\"],[1.0,\"#f0f921\"]]}],\"contourcarpet\":[{\"type\":\"contourcarpet\",\"colorbar\":{\"outlinewidth\":0,\"ticks\":\"\"}}],\"contour\":[{\"type\":\"contour\",\"colorbar\":{\"outlinewidth\":0,\"ticks\":\"\"},\"colorscale\":[[0.0,\"#0d0887\"],[0.1111111111111111,\"#46039f\"],[0.2222222222222222,\"#7201a8\"],[0.3333333333333333,\"#9c179e\"],[0.4444444444444444,\"#bd3786\"],[0.5555555555555556,\"#d8576b\"],[0.6666666666666666,\"#ed7953\"],[0.7777777777777778,\"#fb9f3a\"],[0.8888888888888888,\"#fdca26\"],[1.0,\"#f0f921\"]]}],\"surface\":[{\"type\":\"surface\",\"colorbar\":{\"outlinewidth\":0,\"ticks\":\"\"},\"colorscale\":[[0.0,\"#0d0887\"],[0.1111111111111111,\"#46039f\"],[0.2222222222222222,\"#7201a8\"],[0.3333333333333333,\"#9c179e\"],[0.4444444444444444,\"#bd3786\"],[0.5555555555555556,\"#d8576b\"],[0.6666666666666666,\"#ed7953\"],[0.7777777777777778,\"#fb9f3a\"],[0.8888888888888888,\"#fdca26\"],[1.0,\"#f0f921\"]]}],\"mesh3d\":[{\"type\":\"mesh3d\",\"colorbar\":{\"outlinewidth\":0,\"ticks\":\"\"}}],\"scatter\":[{\"fillpattern\":{\"fillmode\":\"overlay\",\"size\":10,\"solidity\":0.2},\"type\":\"scatter\"}],\"parcoords\":[{\"type\":\"parcoords\",\"line\":{\"colorbar\":{\"outlinewidth\":0,\"ticks\":\"\"}}}],\"scatterpolargl\":[{\"type\":\"scatterpolargl\",\"marker\":{\"colorbar\":{\"outlinewidth\":0,\"ticks\":\"\"}}}],\"bar\":[{\"error_x\":{\"color\":\"#2a3f5f\"},\"error_y\":{\"color\":\"#2a3f5f\"},\"marker\":{\"line\":{\"color\":\"#E5ECF6\",\"width\":0.5},\"pattern\":{\"fillmode\":\"overlay\",\"size\":10,\"solidity\":0.2}},\"type\":\"bar\"}],\"scattergeo\":[{\"type\":\"scattergeo\",\"marker\":{\"colorbar\":{\"outlinewidth\":0,\"ticks\":\"\"}}}],\"scatterpolar\":[{\"type\":\"scatterpolar\",\"marker\":{\"colorbar\":{\"outlinewidth\":0,\"ticks\":\"\"}}}],\"histogram\":[{\"marker\":{\"pattern\":{\"fillmode\":\"overlay\",\"size\":10,\"solidity\":0.2}},\"type\":\"histogram\"}],\"scattergl\":[{\"type\":\"scattergl\",\"marker\":{\"colorbar\":{\"outlinewidth\":0,\"ticks\":\"\"}}}],\"scatter3d\":[{\"type\":\"scatter3d\",\"line\":{\"colorbar\":{\"outlinewidth\":0,\"ticks\":\"\"}},\"marker\":{\"colorbar\":{\"outlinewidth\":0,\"ticks\":\"\"}}}],\"scattermapbox\":[{\"type\":\"scattermapbox\",\"marker\":{\"colorbar\":{\"outlinewidth\":0,\"ticks\":\"\"}}}],\"scatterternary\":[{\"type\":\"scatterternary\",\"marker\":{\"colorbar\":{\"outlinewidth\":0,\"ticks\":\"\"}}}],\"scattercarpet\":[{\"type\":\"scattercarpet\",\"marker\":{\"colorbar\":{\"outlinewidth\":0,\"ticks\":\"\"}}}],\"carpet\":[{\"aaxis\":{\"endlinecolor\":\"#2a3f5f\",\"gridcolor\":\"white\",\"linecolor\":\"white\",\"minorgridcolor\":\"white\",\"startlinecolor\":\"#2a3f5f\"},\"baxis\":{\"endlinecolor\":\"#2a3f5f\",\"gridcolor\":\"white\",\"linecolor\":\"white\",\"minorgridcolor\":\"white\",\"startlinecolor\":\"#2a3f5f\"},\"type\":\"carpet\"}],\"table\":[{\"cells\":{\"fill\":{\"color\":\"#EBF0F8\"},\"line\":{\"color\":\"white\"}},\"header\":{\"fill\":{\"color\":\"#C8D4E3\"},\"line\":{\"color\":\"white\"}},\"type\":\"table\"}],\"barpolar\":[{\"marker\":{\"line\":{\"color\":\"#E5ECF6\",\"width\":0.5},\"pattern\":{\"fillmode\":\"overlay\",\"size\":10,\"solidity\":0.2}},\"type\":\"barpolar\"}],\"pie\":[{\"automargin\":true,\"type\":\"pie\"}]},\"layout\":{\"autotypenumbers\":\"strict\",\"colorway\":[\"#636efa\",\"#EF553B\",\"#00cc96\",\"#ab63fa\",\"#FFA15A\",\"#19d3f3\",\"#FF6692\",\"#B6E880\",\"#FF97FF\",\"#FECB52\"],\"font\":{\"color\":\"#2a3f5f\"},\"hovermode\":\"closest\",\"hoverlabel\":{\"align\":\"left\"},\"paper_bgcolor\":\"white\",\"plot_bgcolor\":\"#E5ECF6\",\"polar\":{\"bgcolor\":\"#E5ECF6\",\"angularaxis\":{\"gridcolor\":\"white\",\"linecolor\":\"white\",\"ticks\":\"\"},\"radialaxis\":{\"gridcolor\":\"white\",\"linecolor\":\"white\",\"ticks\":\"\"}},\"ternary\":{\"bgcolor\":\"#E5ECF6\",\"aaxis\":{\"gridcolor\":\"white\",\"linecolor\":\"white\",\"ticks\":\"\"},\"baxis\":{\"gridcolor\":\"white\",\"linecolor\":\"white\",\"ticks\":\"\"},\"caxis\":{\"gridcolor\":\"white\",\"linecolor\":\"white\",\"ticks\":\"\"}},\"coloraxis\":{\"colorbar\":{\"outlinewidth\":0,\"ticks\":\"\"}},\"colorscale\":{\"sequential\":[[0.0,\"#0d0887\"],[0.1111111111111111,\"#46039f\"],[0.2222222222222222,\"#7201a8\"],[0.3333333333333333,\"#9c179e\"],[0.4444444444444444,\"#bd3786\"],[0.5555555555555556,\"#d8576b\"],[0.6666666666666666,\"#ed7953\"],[0.7777777777777778,\"#fb9f3a\"],[0.8888888888888888,\"#fdca26\"],[1.0,\"#f0f921\"]],\"sequentialminus\":[[0.0,\"#0d0887\"],[0.1111111111111111,\"#46039f\"],[0.2222222222222222,\"#7201a8\"],[0.3333333333333333,\"#9c179e\"],[0.4444444444444444,\"#bd3786\"],[0.5555555555555556,\"#d8576b\"],[0.6666666666666666,\"#ed7953\"],[0.7777777777777778,\"#fb9f3a\"],[0.8888888888888888,\"#fdca26\"],[1.0,\"#f0f921\"]],\"diverging\":[[0,\"#8e0152\"],[0.1,\"#c51b7d\"],[0.2,\"#de77ae\"],[0.3,\"#f1b6da\"],[0.4,\"#fde0ef\"],[0.5,\"#f7f7f7\"],[0.6,\"#e6f5d0\"],[0.7,\"#b8e186\"],[0.8,\"#7fbc41\"],[0.9,\"#4d9221\"],[1,\"#276419\"]]},\"xaxis\":{\"gridcolor\":\"white\",\"linecolor\":\"white\",\"ticks\":\"\",\"title\":{\"standoff\":15},\"zerolinecolor\":\"white\",\"automargin\":true,\"zerolinewidth\":2},\"yaxis\":{\"gridcolor\":\"white\",\"linecolor\":\"white\",\"ticks\":\"\",\"title\":{\"standoff\":15},\"zerolinecolor\":\"white\",\"automargin\":true,\"zerolinewidth\":2},\"scene\":{\"xaxis\":{\"backgroundcolor\":\"#E5ECF6\",\"gridcolor\":\"white\",\"linecolor\":\"white\",\"showbackground\":true,\"ticks\":\"\",\"zerolinecolor\":\"white\",\"gridwidth\":2},\"yaxis\":{\"backgroundcolor\":\"#E5ECF6\",\"gridcolor\":\"white\",\"linecolor\":\"white\",\"showbackground\":true,\"ticks\":\"\",\"zerolinecolor\":\"white\",\"gridwidth\":2},\"zaxis\":{\"backgroundcolor\":\"#E5ECF6\",\"gridcolor\":\"white\",\"linecolor\":\"white\",\"showbackground\":true,\"ticks\":\"\",\"zerolinecolor\":\"white\",\"gridwidth\":2}},\"shapedefaults\":{\"line\":{\"color\":\"#2a3f5f\"}},\"annotationdefaults\":{\"arrowcolor\":\"#2a3f5f\",\"arrowhead\":0,\"arrowwidth\":1},\"geo\":{\"bgcolor\":\"white\",\"landcolor\":\"#E5ECF6\",\"subunitcolor\":\"white\",\"showland\":true,\"showlakes\":true,\"lakecolor\":\"white\"},\"title\":{\"x\":0.05},\"mapbox\":{\"style\":\"light\"}}},\"xaxis\":{\"anchor\":\"y\",\"domain\":[0.0,0.45],\"title\":{\"text\":\"Skill\"}},\"yaxis\":{\"anchor\":\"x\",\"domain\":[0.0,1.0],\"title\":{\"text\":\"Frequency \\u002f Growth Relative to Market\"}},\"xaxis2\":{\"anchor\":\"y2\",\"domain\":[0.55,1.0]},\"yaxis2\":{\"anchor\":\"x2\",\"domain\":[0.0,1.0]},\"annotations\":[{\"font\":{\"size\":16},\"showarrow\":false,\"text\":\"Skill Frequency\",\"x\":0.225,\"xanchor\":\"center\",\"xref\":\"paper\",\"y\":1.0,\"yanchor\":\"bottom\",\"yref\":\"paper\"},{\"font\":{\"size\":16},\"showarrow\":false,\"text\":\"Growth Relative to Market\",\"x\":0.775,\"xanchor\":\"center\",\"xref\":\"paper\",\"y\":1.0,\"yanchor\":\"bottom\",\"yref\":\"paper\"}],\"title\":{\"text\":\"Skill Frequency and Growth Relative to Market\"},\"showlegend\":false},                        {\"responsive\": true}                    ).then(function(){\n",
       "                            \n",
       "var gd = document.getElementById('cadaa7d3-8b7f-4d91-b341-36cca3583d2f');\n",
       "var x = new MutationObserver(function (mutations, observer) {{\n",
       "        var display = window.getComputedStyle(gd).display;\n",
       "        if (!display || display === 'none') {{\n",
       "            console.log([gd, 'removed!']);\n",
       "            Plotly.purge(gd);\n",
       "            observer.disconnect();\n",
       "        }}\n",
       "}});\n",
       "\n",
       "// Listen for the removal of the full notebook cells\n",
       "var notebookContainer = gd.closest('#notebook-container');\n",
       "if (notebookContainer) {{\n",
       "    x.observe(notebookContainer, {childList: true});\n",
       "}}\n",
       "\n",
       "// Listen for the clearing of the current output cell\n",
       "var outputEl = gd.closest('.output');\n",
       "if (outputEl) {{\n",
       "    x.observe(outputEl, {childList: true});\n",
       "}}\n",
       "\n",
       "                        })                };                });            </script>        </div>"
      ]
     },
     "metadata": {},
     "output_type": "display_data"
    }
   ],
   "source": [
    "# Create subplots\n",
    "fig = make_subplots(rows=1, cols=2, subplot_titles=(\"Skill Frequency\", \"Growth Relative to Market\"))\n",
    "\n",
    "# Add trace for skill frequency\n",
    "fig.add_trace(\n",
    "    go.Bar(x=common_ncsa['skills'], y=common_ncsa['postings_prop'], name='Frequency'),\n",
    "    row=1, col=1\n",
    ")\n",
    "\n",
    "# Add trace for growth relative to the market\n",
    "fig.add_trace(\n",
    "    go.Bar(x=specialised_ncsa['skills'], y=specialised_ncsa['skillgrowth_proj'], name='Growth Relative'),\n",
    "    row=1, col=2\n",
    ")\n",
    "\n",
    "# Update layout\n",
    "fig.update_layout(\n",
    "    title='Skill Frequency and Growth Relative to Market',\n",
    "    xaxis=dict(title='Skill'),\n",
    "    yaxis=dict(title='Frequency / Growth Relative to Market'),\n",
    "    showlegend=False  # Hide legend as it's not necessary in this case\n",
    ")\n",
    "\n",
    "# Show the figure\n",
    "fig.show()"
   ]
  },
  {
   "cell_type": "code",
   "execution_count": 18,
   "id": "651c04f3-a565-49ba-979a-66fa3a16bcb4",
   "metadata": {
    "tags": []
   },
   "outputs": [
    {
     "data": {
      "application/vnd.plotly.v1+json": {
       "config": {
        "plotlyServerURL": "https://plot.ly"
       },
       "data": [
        {
         "hovertemplate": "<b>%{hovertext}</b><br><br>type=human<br>Proportional Demand (%)=%{x}<br>Growth Relative to Market (%)=%{y}<br>postings=%{marker.size}<extra></extra>",
         "hovertext": [
          "Troubleshooting (Problem Solving)",
          "Management",
          "Communication",
          "Problem Solving",
          "Planning",
          "Writing",
          "Detail Oriented",
          "Leadership",
          "Self-Motivation",
          "Interpersonal Communications",
          "Verbal Communication Skills",
          "Prioritization",
          "Multitasking",
          "Time Management",
          "Organizational Skills",
          "Teamwork",
          "Lifting Ability",
          "Scheduling",
          "Critical Thinking",
          "Decision Making",
          "Willingness To Learn",
          "Collaboration",
          "Team Oriented"
         ],
         "legendgroup": "human",
         "marker": {
          "color": "#636efa",
          "size": [
           56938,
           41840,
           41134,
           27538,
           17155,
           13115,
           11663,
           10534,
           10041,
           9634,
           8667,
           6704,
           6624,
           6606,
           5974,
           5234,
           4241,
           3874,
           3603,
           2719,
           2593,
           2499,
           2386
          ],
          "sizemode": "area",
          "sizeref": 142.345,
          "symbol": "circle"
         },
         "mode": "markers",
         "name": "human",
         "orientation": "v",
         "showlegend": true,
         "type": "scatter",
         "x": [
          52,
          38,
          37,
          25,
          16,
          12,
          11,
          10,
          9,
          9,
          8,
          6,
          6,
          6,
          5,
          5,
          4,
          4,
          3,
          2,
          2,
          2,
          2
         ],
         "xaxis": "x",
         "y": [
          19,
          5.3,
          3.5999999999999996,
          11.3,
          10.9,
          11.8,
          7.1,
          8.5,
          22.7,
          12.5,
          4.1000000000000005,
          20.5,
          18.4,
          14.499999999999998,
          14.3,
          16.5,
          10.6,
          16.400000000000002,
          23.4,
          13.5,
          12,
          11.2,
          16.7
         ],
         "yaxis": "y"
        },
        {
         "hovertemplate": "<b>%{hovertext}</b><br><br>type=professional<br>Proportional Demand (%)=%{x}<br>Growth Relative to Market (%)=%{y}<br>postings=%{marker.size}<extra></extra>",
         "hovertext": [
          "Operations",
          "Customer Service",
          "Research",
          "Coordinating",
          "Innovation",
          "Mathematics",
          "Security Policies",
          "Presentations",
          "Analytical Skills",
          "Mentorship",
          "Administrative Functions",
          "Professionalism",
          "Consulting",
          "Ability To Meet Deadlines",
          "Governance",
          "English Language",
          "Accountability",
          "Sales",
          "Quality Assurance"
         ],
         "legendgroup": "professional",
         "marker": {
          "color": "#EF553B",
          "size": [
           32576,
           19761,
           12026,
           8365,
           6459,
           4661,
           4277,
           3995,
           3992,
           3980,
           3626,
           3252,
           3140,
           3119,
           3076,
           2897,
           2218,
           2210,
           1918
          ],
          "sizemode": "area",
          "sizeref": 142.345,
          "symbol": "circle"
         },
         "mode": "markers",
         "name": "professional",
         "orientation": "v",
         "showlegend": true,
         "type": "scatter",
         "x": [
          30,
          18,
          11,
          8,
          6,
          4,
          4,
          4,
          4,
          4,
          3,
          3,
          3,
          3,
          3,
          3,
          2,
          2,
          2
         ],
         "xaxis": "x",
         "y": [
          8.1,
          5.2,
          17.2,
          14.7,
          25.8,
          20.200000000000003,
          18.4,
          23,
          3.4000000000000004,
          16.5,
          13.6,
          15.1,
          24.6,
          12.8,
          22.7,
          15.3,
          18.7,
          7.8,
          15.4
         ],
         "yaxis": "y"
        },
        {
         "hovertemplate": "<b>%{hovertext}</b><br><br>type=technical<br>Proportional Demand (%)=%{x}<br>Growth Relative to Market (%)=%{y}<br>postings=%{marker.size}<extra></extra>",
         "hovertext": [
          "Information Technology",
          "Microsoft Office",
          "Microsoft Windows",
          "Microsoft Excel",
          "Microsoft Outlook",
          "Microsoft PowerPoint",
          "Wireless Communications",
          "Computer Literacy"
         ],
         "legendgroup": "technical",
         "marker": {
          "color": "#00cc96",
          "size": [
           22784,
           9425,
           6879,
           6427,
           3868,
           3337,
           2426,
           2152
          ],
          "sizemode": "area",
          "sizeref": 142.345,
          "symbol": "circle"
         },
         "mode": "markers",
         "name": "technical",
         "orientation": "v",
         "showlegend": true,
         "type": "scatter",
         "x": [
          21,
          9,
          6,
          6,
          4,
          3,
          2,
          2
         ],
         "xaxis": "x",
         "y": [
          24.8,
          18.5,
          2.9000000000000004,
          17.7,
          25,
          26.1,
          15.6,
          3.2
         ],
         "yaxis": "y"
        }
       ],
       "layout": {
        "annotations": [
         {
          "showarrow": false,
          "text": "Growing relative to market",
          "x": 1,
          "xanchor": "right",
          "xref": "x domain",
          "y": 10,
          "yanchor": "bottom",
          "yref": "y"
         },
         {
          "showarrow": false,
          "text": "Mean growth 14.742%",
          "x": 1,
          "xanchor": "right",
          "xref": "x domain",
          "y": 14.742,
          "yanchor": "bottom",
          "yref": "y"
         },
         {
          "showarrow": false,
          "text": "Mean demand 8.88%",
          "x": 8.88,
          "xanchor": "left",
          "xref": "x",
          "y": 1,
          "yanchor": "top",
          "yref": "y domain"
         }
        ],
        "autosize": true,
        "legend": {
         "itemsizing": "constant",
         "title": {
          "text": "type"
         },
         "tracegroupgap": 0
        },
        "shapes": [
         {
          "line": {
           "color": "grey",
           "dash": "dot"
          },
          "type": "line",
          "x0": 0,
          "x1": 1,
          "xref": "x domain",
          "y0": 10,
          "y1": 10,
          "yref": "y"
         },
         {
          "line": {
           "color": "red",
           "dash": "dot"
          },
          "type": "line",
          "x0": 0,
          "x1": 1,
          "xref": "x domain",
          "y0": 14.742,
          "y1": 14.742,
          "yref": "y"
         },
         {
          "line": {
           "color": "red",
           "dash": "dot"
          },
          "type": "line",
          "x0": 8.88,
          "x1": 8.88,
          "xref": "x",
          "y0": 0,
          "y1": 1,
          "yref": "y domain"
         }
        ],
        "template": {
         "data": {
          "bar": [
           {
            "error_x": {
             "color": "#2a3f5f"
            },
            "error_y": {
             "color": "#2a3f5f"
            },
            "marker": {
             "line": {
              "color": "#E5ECF6",
              "width": 0.5
             },
             "pattern": {
              "fillmode": "overlay",
              "size": 10,
              "solidity": 0.2
             }
            },
            "type": "bar"
           }
          ],
          "barpolar": [
           {
            "marker": {
             "line": {
              "color": "#E5ECF6",
              "width": 0.5
             },
             "pattern": {
              "fillmode": "overlay",
              "size": 10,
              "solidity": 0.2
             }
            },
            "type": "barpolar"
           }
          ],
          "carpet": [
           {
            "aaxis": {
             "endlinecolor": "#2a3f5f",
             "gridcolor": "white",
             "linecolor": "white",
             "minorgridcolor": "white",
             "startlinecolor": "#2a3f5f"
            },
            "baxis": {
             "endlinecolor": "#2a3f5f",
             "gridcolor": "white",
             "linecolor": "white",
             "minorgridcolor": "white",
             "startlinecolor": "#2a3f5f"
            },
            "type": "carpet"
           }
          ],
          "choropleth": [
           {
            "colorbar": {
             "outlinewidth": 0,
             "ticks": ""
            },
            "type": "choropleth"
           }
          ],
          "contour": [
           {
            "colorbar": {
             "outlinewidth": 0,
             "ticks": ""
            },
            "colorscale": [
             [
              0,
              "#0d0887"
             ],
             [
              0.1111111111111111,
              "#46039f"
             ],
             [
              0.2222222222222222,
              "#7201a8"
             ],
             [
              0.3333333333333333,
              "#9c179e"
             ],
             [
              0.4444444444444444,
              "#bd3786"
             ],
             [
              0.5555555555555556,
              "#d8576b"
             ],
             [
              0.6666666666666666,
              "#ed7953"
             ],
             [
              0.7777777777777778,
              "#fb9f3a"
             ],
             [
              0.8888888888888888,
              "#fdca26"
             ],
             [
              1,
              "#f0f921"
             ]
            ],
            "type": "contour"
           }
          ],
          "contourcarpet": [
           {
            "colorbar": {
             "outlinewidth": 0,
             "ticks": ""
            },
            "type": "contourcarpet"
           }
          ],
          "heatmap": [
           {
            "colorbar": {
             "outlinewidth": 0,
             "ticks": ""
            },
            "colorscale": [
             [
              0,
              "#0d0887"
             ],
             [
              0.1111111111111111,
              "#46039f"
             ],
             [
              0.2222222222222222,
              "#7201a8"
             ],
             [
              0.3333333333333333,
              "#9c179e"
             ],
             [
              0.4444444444444444,
              "#bd3786"
             ],
             [
              0.5555555555555556,
              "#d8576b"
             ],
             [
              0.6666666666666666,
              "#ed7953"
             ],
             [
              0.7777777777777778,
              "#fb9f3a"
             ],
             [
              0.8888888888888888,
              "#fdca26"
             ],
             [
              1,
              "#f0f921"
             ]
            ],
            "type": "heatmap"
           }
          ],
          "heatmapgl": [
           {
            "colorbar": {
             "outlinewidth": 0,
             "ticks": ""
            },
            "colorscale": [
             [
              0,
              "#0d0887"
             ],
             [
              0.1111111111111111,
              "#46039f"
             ],
             [
              0.2222222222222222,
              "#7201a8"
             ],
             [
              0.3333333333333333,
              "#9c179e"
             ],
             [
              0.4444444444444444,
              "#bd3786"
             ],
             [
              0.5555555555555556,
              "#d8576b"
             ],
             [
              0.6666666666666666,
              "#ed7953"
             ],
             [
              0.7777777777777778,
              "#fb9f3a"
             ],
             [
              0.8888888888888888,
              "#fdca26"
             ],
             [
              1,
              "#f0f921"
             ]
            ],
            "type": "heatmapgl"
           }
          ],
          "histogram": [
           {
            "marker": {
             "pattern": {
              "fillmode": "overlay",
              "size": 10,
              "solidity": 0.2
             }
            },
            "type": "histogram"
           }
          ],
          "histogram2d": [
           {
            "colorbar": {
             "outlinewidth": 0,
             "ticks": ""
            },
            "colorscale": [
             [
              0,
              "#0d0887"
             ],
             [
              0.1111111111111111,
              "#46039f"
             ],
             [
              0.2222222222222222,
              "#7201a8"
             ],
             [
              0.3333333333333333,
              "#9c179e"
             ],
             [
              0.4444444444444444,
              "#bd3786"
             ],
             [
              0.5555555555555556,
              "#d8576b"
             ],
             [
              0.6666666666666666,
              "#ed7953"
             ],
             [
              0.7777777777777778,
              "#fb9f3a"
             ],
             [
              0.8888888888888888,
              "#fdca26"
             ],
             [
              1,
              "#f0f921"
             ]
            ],
            "type": "histogram2d"
           }
          ],
          "histogram2dcontour": [
           {
            "colorbar": {
             "outlinewidth": 0,
             "ticks": ""
            },
            "colorscale": [
             [
              0,
              "#0d0887"
             ],
             [
              0.1111111111111111,
              "#46039f"
             ],
             [
              0.2222222222222222,
              "#7201a8"
             ],
             [
              0.3333333333333333,
              "#9c179e"
             ],
             [
              0.4444444444444444,
              "#bd3786"
             ],
             [
              0.5555555555555556,
              "#d8576b"
             ],
             [
              0.6666666666666666,
              "#ed7953"
             ],
             [
              0.7777777777777778,
              "#fb9f3a"
             ],
             [
              0.8888888888888888,
              "#fdca26"
             ],
             [
              1,
              "#f0f921"
             ]
            ],
            "type": "histogram2dcontour"
           }
          ],
          "mesh3d": [
           {
            "colorbar": {
             "outlinewidth": 0,
             "ticks": ""
            },
            "type": "mesh3d"
           }
          ],
          "parcoords": [
           {
            "line": {
             "colorbar": {
              "outlinewidth": 0,
              "ticks": ""
             }
            },
            "type": "parcoords"
           }
          ],
          "pie": [
           {
            "automargin": true,
            "type": "pie"
           }
          ],
          "scatter": [
           {
            "fillpattern": {
             "fillmode": "overlay",
             "size": 10,
             "solidity": 0.2
            },
            "type": "scatter"
           }
          ],
          "scatter3d": [
           {
            "line": {
             "colorbar": {
              "outlinewidth": 0,
              "ticks": ""
             }
            },
            "marker": {
             "colorbar": {
              "outlinewidth": 0,
              "ticks": ""
             }
            },
            "type": "scatter3d"
           }
          ],
          "scattercarpet": [
           {
            "marker": {
             "colorbar": {
              "outlinewidth": 0,
              "ticks": ""
             }
            },
            "type": "scattercarpet"
           }
          ],
          "scattergeo": [
           {
            "marker": {
             "colorbar": {
              "outlinewidth": 0,
              "ticks": ""
             }
            },
            "type": "scattergeo"
           }
          ],
          "scattergl": [
           {
            "marker": {
             "colorbar": {
              "outlinewidth": 0,
              "ticks": ""
             }
            },
            "type": "scattergl"
           }
          ],
          "scattermapbox": [
           {
            "marker": {
             "colorbar": {
              "outlinewidth": 0,
              "ticks": ""
             }
            },
            "type": "scattermapbox"
           }
          ],
          "scatterpolar": [
           {
            "marker": {
             "colorbar": {
              "outlinewidth": 0,
              "ticks": ""
             }
            },
            "type": "scatterpolar"
           }
          ],
          "scatterpolargl": [
           {
            "marker": {
             "colorbar": {
              "outlinewidth": 0,
              "ticks": ""
             }
            },
            "type": "scatterpolargl"
           }
          ],
          "scatterternary": [
           {
            "marker": {
             "colorbar": {
              "outlinewidth": 0,
              "ticks": ""
             }
            },
            "type": "scatterternary"
           }
          ],
          "surface": [
           {
            "colorbar": {
             "outlinewidth": 0,
             "ticks": ""
            },
            "colorscale": [
             [
              0,
              "#0d0887"
             ],
             [
              0.1111111111111111,
              "#46039f"
             ],
             [
              0.2222222222222222,
              "#7201a8"
             ],
             [
              0.3333333333333333,
              "#9c179e"
             ],
             [
              0.4444444444444444,
              "#bd3786"
             ],
             [
              0.5555555555555556,
              "#d8576b"
             ],
             [
              0.6666666666666666,
              "#ed7953"
             ],
             [
              0.7777777777777778,
              "#fb9f3a"
             ],
             [
              0.8888888888888888,
              "#fdca26"
             ],
             [
              1,
              "#f0f921"
             ]
            ],
            "type": "surface"
           }
          ],
          "table": [
           {
            "cells": {
             "fill": {
              "color": "#EBF0F8"
             },
             "line": {
              "color": "white"
             }
            },
            "header": {
             "fill": {
              "color": "#C8D4E3"
             },
             "line": {
              "color": "white"
             }
            },
            "type": "table"
           }
          ]
         },
         "layout": {
          "annotationdefaults": {
           "arrowcolor": "#2a3f5f",
           "arrowhead": 0,
           "arrowwidth": 1
          },
          "autotypenumbers": "strict",
          "coloraxis": {
           "colorbar": {
            "outlinewidth": 0,
            "ticks": ""
           }
          },
          "colorscale": {
           "diverging": [
            [
             0,
             "#8e0152"
            ],
            [
             0.1,
             "#c51b7d"
            ],
            [
             0.2,
             "#de77ae"
            ],
            [
             0.3,
             "#f1b6da"
            ],
            [
             0.4,
             "#fde0ef"
            ],
            [
             0.5,
             "#f7f7f7"
            ],
            [
             0.6,
             "#e6f5d0"
            ],
            [
             0.7,
             "#b8e186"
            ],
            [
             0.8,
             "#7fbc41"
            ],
            [
             0.9,
             "#4d9221"
            ],
            [
             1,
             "#276419"
            ]
           ],
           "sequential": [
            [
             0,
             "#0d0887"
            ],
            [
             0.1111111111111111,
             "#46039f"
            ],
            [
             0.2222222222222222,
             "#7201a8"
            ],
            [
             0.3333333333333333,
             "#9c179e"
            ],
            [
             0.4444444444444444,
             "#bd3786"
            ],
            [
             0.5555555555555556,
             "#d8576b"
            ],
            [
             0.6666666666666666,
             "#ed7953"
            ],
            [
             0.7777777777777778,
             "#fb9f3a"
            ],
            [
             0.8888888888888888,
             "#fdca26"
            ],
            [
             1,
             "#f0f921"
            ]
           ],
           "sequentialminus": [
            [
             0,
             "#0d0887"
            ],
            [
             0.1111111111111111,
             "#46039f"
            ],
            [
             0.2222222222222222,
             "#7201a8"
            ],
            [
             0.3333333333333333,
             "#9c179e"
            ],
            [
             0.4444444444444444,
             "#bd3786"
            ],
            [
             0.5555555555555556,
             "#d8576b"
            ],
            [
             0.6666666666666666,
             "#ed7953"
            ],
            [
             0.7777777777777778,
             "#fb9f3a"
            ],
            [
             0.8888888888888888,
             "#fdca26"
            ],
            [
             1,
             "#f0f921"
            ]
           ]
          },
          "colorway": [
           "#636efa",
           "#EF553B",
           "#00cc96",
           "#ab63fa",
           "#FFA15A",
           "#19d3f3",
           "#FF6692",
           "#B6E880",
           "#FF97FF",
           "#FECB52"
          ],
          "font": {
           "color": "#2a3f5f"
          },
          "geo": {
           "bgcolor": "white",
           "lakecolor": "white",
           "landcolor": "#E5ECF6",
           "showlakes": true,
           "showland": true,
           "subunitcolor": "white"
          },
          "hoverlabel": {
           "align": "left"
          },
          "hovermode": "closest",
          "mapbox": {
           "style": "light"
          },
          "paper_bgcolor": "white",
          "plot_bgcolor": "#E5ECF6",
          "polar": {
           "angularaxis": {
            "gridcolor": "white",
            "linecolor": "white",
            "ticks": ""
           },
           "bgcolor": "#E5ECF6",
           "radialaxis": {
            "gridcolor": "white",
            "linecolor": "white",
            "ticks": ""
           }
          },
          "scene": {
           "xaxis": {
            "backgroundcolor": "#E5ECF6",
            "gridcolor": "white",
            "gridwidth": 2,
            "linecolor": "white",
            "showbackground": true,
            "ticks": "",
            "zerolinecolor": "white"
           },
           "yaxis": {
            "backgroundcolor": "#E5ECF6",
            "gridcolor": "white",
            "gridwidth": 2,
            "linecolor": "white",
            "showbackground": true,
            "ticks": "",
            "zerolinecolor": "white"
           },
           "zaxis": {
            "backgroundcolor": "#E5ECF6",
            "gridcolor": "white",
            "gridwidth": 2,
            "linecolor": "white",
            "showbackground": true,
            "ticks": "",
            "zerolinecolor": "white"
           }
          },
          "shapedefaults": {
           "line": {
            "color": "#2a3f5f"
           }
          },
          "ternary": {
           "aaxis": {
            "gridcolor": "white",
            "linecolor": "white",
            "ticks": ""
           },
           "baxis": {
            "gridcolor": "white",
            "linecolor": "white",
            "ticks": ""
           },
           "bgcolor": "#E5ECF6",
           "caxis": {
            "gridcolor": "white",
            "linecolor": "white",
            "ticks": ""
           }
          },
          "title": {
           "x": 0.05
          },
          "xaxis": {
           "automargin": true,
           "gridcolor": "white",
           "linecolor": "white",
           "ticks": "",
           "title": {
            "standoff": 15
           },
           "zerolinecolor": "white",
           "zerolinewidth": 2
          },
          "yaxis": {
           "automargin": true,
           "gridcolor": "white",
           "linecolor": "white",
           "ticks": "",
           "title": {
            "standoff": 15
           },
           "zerolinecolor": "white",
           "zerolinewidth": 2
          }
         }
        },
        "title": {
         "text": "Skills Proportional Demand vs. Growth Relative to Market"
        },
        "xaxis": {
         "anchor": "y",
         "autorange": true,
         "domain": [
          0,
          1
         ],
         "range": [
          -1.149375770039799,
          56.16395188159828
         ],
         "title": {
          "text": "Proportional Demand (%)"
         },
         "type": "linear"
        },
        "yaxis": {
         "anchor": "x",
         "autorange": true,
         "domain": [
          0,
          1
         ],
         "range": [
          0.11165471346033318,
          28.094187697302843
         ],
         "title": {
          "text": "Growth Relative to Market (%)"
         },
         "type": "linear"
        }
       }
      },
      "image/png": "[encoded data removed]",
      "text/html": [
       "<div>                            <div id=\"85dd4c93-e523-48be-999d-7b79de14ed0b\" class=\"plotly-graph-div\" style=\"height:525px; width:100%;\"></div>            <script type=\"text/javascript\">                require([\"plotly\"], function(Plotly) {                    window.PLOTLYENV=window.PLOTLYENV || {};                                    if (document.getElementById(\"85dd4c93-e523-48be-999d-7b79de14ed0b\")) {                    Plotly.newPlot(                        \"85dd4c93-e523-48be-999d-7b79de14ed0b\",                        [{\"hovertemplate\":\"\\u003cb\\u003e%{hovertext}\\u003c\\u002fb\\u003e\\u003cbr\\u003e\\u003cbr\\u003etype=human\\u003cbr\\u003eProportional Demand (%)=%{x}\\u003cbr\\u003eGrowth Relative to Market (%)=%{y}\\u003cbr\\u003epostings=%{marker.size}\\u003cextra\\u003e\\u003c\\u002fextra\\u003e\",\"hovertext\":[\"Troubleshooting (Problem Solving)\",\"Management\",\"Communication\",\"Problem Solving\",\"Planning\",\"Writing\",\"Detail Oriented\",\"Leadership\",\"Self-Motivation\",\"Interpersonal Communications\",\"Verbal Communication Skills\",\"Prioritization\",\"Multitasking\",\"Time Management\",\"Organizational Skills\",\"Teamwork\",\"Lifting Ability\",\"Scheduling\",\"Critical Thinking\",\"Decision Making\",\"Willingness To Learn\",\"Collaboration\",\"Team Oriented\"],\"legendgroup\":\"human\",\"marker\":{\"color\":\"#636efa\",\"size\":[56938,41840,41134,27538,17155,13115,11663,10534,10041,9634,8667,6704,6624,6606,5974,5234,4241,3874,3603,2719,2593,2499,2386],\"sizemode\":\"area\",\"sizeref\":142.345,\"symbol\":\"circle\"},\"mode\":\"markers\",\"name\":\"human\",\"orientation\":\"v\",\"showlegend\":true,\"x\":[52.0,38.0,37.0,25.0,16.0,12.0,11.0,10.0,9.0,9.0,8.0,6.0,6.0,6.0,5.0,5.0,4.0,4.0,3.0,2.0,2.0,2.0,2.0],\"xaxis\":\"x\",\"y\":[19.0,5.3,3.5999999999999996,11.3,10.9,11.8,7.1,8.5,22.7,12.5,4.1000000000000005,20.5,18.4,14.499999999999998,14.3,16.5,10.6,16.400000000000002,23.4,13.5,12.0,11.2,16.7],\"yaxis\":\"y\",\"type\":\"scatter\"},{\"hovertemplate\":\"\\u003cb\\u003e%{hovertext}\\u003c\\u002fb\\u003e\\u003cbr\\u003e\\u003cbr\\u003etype=professional\\u003cbr\\u003eProportional Demand (%)=%{x}\\u003cbr\\u003eGrowth Relative to Market (%)=%{y}\\u003cbr\\u003epostings=%{marker.size}\\u003cextra\\u003e\\u003c\\u002fextra\\u003e\",\"hovertext\":[\"Operations\",\"Customer Service\",\"Research\",\"Coordinating\",\"Innovation\",\"Mathematics\",\"Security Policies\",\"Presentations\",\"Analytical Skills\",\"Mentorship\",\"Administrative Functions\",\"Professionalism\",\"Consulting\",\"Ability To Meet Deadlines\",\"Governance\",\"English Language\",\"Accountability\",\"Sales\",\"Quality Assurance\"],\"legendgroup\":\"professional\",\"marker\":{\"color\":\"#EF553B\",\"size\":[32576,19761,12026,8365,6459,4661,4277,3995,3992,3980,3626,3252,3140,3119,3076,2897,2218,2210,1918],\"sizemode\":\"area\",\"sizeref\":142.345,\"symbol\":\"circle\"},\"mode\":\"markers\",\"name\":\"professional\",\"orientation\":\"v\",\"showlegend\":true,\"x\":[30.0,18.0,11.0,8.0,6.0,4.0,4.0,4.0,4.0,4.0,3.0,3.0,3.0,3.0,3.0,3.0,2.0,2.0,2.0],\"xaxis\":\"x\",\"y\":[8.1,5.2,17.2,14.7,25.8,20.200000000000003,18.4,23.0,3.4000000000000004,16.5,13.6,15.1,24.6,12.8,22.7,15.3,18.7,7.8,15.4],\"yaxis\":\"y\",\"type\":\"scatter\"},{\"hovertemplate\":\"\\u003cb\\u003e%{hovertext}\\u003c\\u002fb\\u003e\\u003cbr\\u003e\\u003cbr\\u003etype=technical\\u003cbr\\u003eProportional Demand (%)=%{x}\\u003cbr\\u003eGrowth Relative to Market (%)=%{y}\\u003cbr\\u003epostings=%{marker.size}\\u003cextra\\u003e\\u003c\\u002fextra\\u003e\",\"hovertext\":[\"Information Technology\",\"Microsoft Office\",\"Microsoft Windows\",\"Microsoft Excel\",\"Microsoft Outlook\",\"Microsoft PowerPoint\",\"Wireless Communications\",\"Computer Literacy\"],\"legendgroup\":\"technical\",\"marker\":{\"color\":\"#00cc96\",\"size\":[22784,9425,6879,6427,3868,3337,2426,2152],\"sizemode\":\"area\",\"sizeref\":142.345,\"symbol\":\"circle\"},\"mode\":\"markers\",\"name\":\"technical\",\"orientation\":\"v\",\"showlegend\":true,\"x\":[21.0,9.0,6.0,6.0,4.0,3.0,2.0,2.0],\"xaxis\":\"x\",\"y\":[24.8,18.5,2.9000000000000004,17.7,25.0,26.1,15.6,3.2],\"yaxis\":\"y\",\"type\":\"scatter\"}],                        {\"template\":{\"data\":{\"histogram2dcontour\":[{\"type\":\"histogram2dcontour\",\"colorbar\":{\"outlinewidth\":0,\"ticks\":\"\"},\"colorscale\":[[0.0,\"#0d0887\"],[0.1111111111111111,\"#46039f\"],[0.2222222222222222,\"#7201a8\"],[0.3333333333333333,\"#9c179e\"],[0.4444444444444444,\"#bd3786\"],[0.5555555555555556,\"#d8576b\"],[0.6666666666666666,\"#ed7953\"],[0.7777777777777778,\"#fb9f3a\"],[0.8888888888888888,\"#fdca26\"],[1.0,\"#f0f921\"]]}],\"choropleth\":[{\"type\":\"choropleth\",\"colorbar\":{\"outlinewidth\":0,\"ticks\":\"\"}}],\"histogram2d\":[{\"type\":\"histogram2d\",\"colorbar\":{\"outlinewidth\":0,\"ticks\":\"\"},\"colorscale\":[[0.0,\"#0d0887\"],[0.1111111111111111,\"#46039f\"],[0.2222222222222222,\"#7201a8\"],[0.3333333333333333,\"#9c179e\"],[0.4444444444444444,\"#bd3786\"],[0.5555555555555556,\"#d8576b\"],[0.6666666666666666,\"#ed7953\"],[0.7777777777777778,\"#fb9f3a\"],[0.8888888888888888,\"#fdca26\"],[1.0,\"#f0f921\"]]}],\"heatmap\":[{\"type\":\"heatmap\",\"colorbar\":{\"outlinewidth\":0,\"ticks\":\"\"},\"colorscale\":[[0.0,\"#0d0887\"],[0.1111111111111111,\"#46039f\"],[0.2222222222222222,\"#7201a8\"],[0.3333333333333333,\"#9c179e\"],[0.4444444444444444,\"#bd3786\"],[0.5555555555555556,\"#d8576b\"],[0.6666666666666666,\"#ed7953\"],[0.7777777777777778,\"#fb9f3a\"],[0.8888888888888888,\"#fdca26\"],[1.0,\"#f0f921\"]]}],\"heatmapgl\":[{\"type\":\"heatmapgl\",\"colorbar\":{\"outlinewidth\":0,\"ticks\":\"\"},\"colorscale\":[[0.0,\"#0d0887\"],[0.1111111111111111,\"#46039f\"],[0.2222222222222222,\"#7201a8\"],[0.3333333333333333,\"#9c179e\"],[0.4444444444444444,\"#bd3786\"],[0.5555555555555556,\"#d8576b\"],[0.6666666666666666,\"#ed7953\"],[0.7777777777777778,\"#fb9f3a\"],[0.8888888888888888,\"#fdca26\"],[1.0,\"#f0f921\"]]}],\"contourcarpet\":[{\"type\":\"contourcarpet\",\"colorbar\":{\"outlinewidth\":0,\"ticks\":\"\"}}],\"contour\":[{\"type\":\"contour\",\"colorbar\":{\"outlinewidth\":0,\"ticks\":\"\"},\"colorscale\":[[0.0,\"#0d0887\"],[0.1111111111111111,\"#46039f\"],[0.2222222222222222,\"#7201a8\"],[0.3333333333333333,\"#9c179e\"],[0.4444444444444444,\"#bd3786\"],[0.5555555555555556,\"#d8576b\"],[0.6666666666666666,\"#ed7953\"],[0.7777777777777778,\"#fb9f3a\"],[0.8888888888888888,\"#fdca26\"],[1.0,\"#f0f921\"]]}],\"surface\":[{\"type\":\"surface\",\"colorbar\":{\"outlinewidth\":0,\"ticks\":\"\"},\"colorscale\":[[0.0,\"#0d0887\"],[0.1111111111111111,\"#46039f\"],[0.2222222222222222,\"#7201a8\"],[0.3333333333333333,\"#9c179e\"],[0.4444444444444444,\"#bd3786\"],[0.5555555555555556,\"#d8576b\"],[0.6666666666666666,\"#ed7953\"],[0.7777777777777778,\"#fb9f3a\"],[0.8888888888888888,\"#fdca26\"],[1.0,\"#f0f921\"]]}],\"mesh3d\":[{\"type\":\"mesh3d\",\"colorbar\":{\"outlinewidth\":0,\"ticks\":\"\"}}],\"scatter\":[{\"fillpattern\":{\"fillmode\":\"overlay\",\"size\":10,\"solidity\":0.2},\"type\":\"scatter\"}],\"parcoords\":[{\"type\":\"parcoords\",\"line\":{\"colorbar\":{\"outlinewidth\":0,\"ticks\":\"\"}}}],\"scatterpolargl\":[{\"type\":\"scatterpolargl\",\"marker\":{\"colorbar\":{\"outlinewidth\":0,\"ticks\":\"\"}}}],\"bar\":[{\"error_x\":{\"color\":\"#2a3f5f\"},\"error_y\":{\"color\":\"#2a3f5f\"},\"marker\":{\"line\":{\"color\":\"#E5ECF6\",\"width\":0.5},\"pattern\":{\"fillmode\":\"overlay\",\"size\":10,\"solidity\":0.2}},\"type\":\"bar\"}],\"scattergeo\":[{\"type\":\"scattergeo\",\"marker\":{\"colorbar\":{\"outlinewidth\":0,\"ticks\":\"\"}}}],\"scatterpolar\":[{\"type\":\"scatterpolar\",\"marker\":{\"colorbar\":{\"outlinewidth\":0,\"ticks\":\"\"}}}],\"histogram\":[{\"marker\":{\"pattern\":{\"fillmode\":\"overlay\",\"size\":10,\"solidity\":0.2}},\"type\":\"histogram\"}],\"scattergl\":[{\"type\":\"scattergl\",\"marker\":{\"colorbar\":{\"outlinewidth\":0,\"ticks\":\"\"}}}],\"scatter3d\":[{\"type\":\"scatter3d\",\"line\":{\"colorbar\":{\"outlinewidth\":0,\"ticks\":\"\"}},\"marker\":{\"colorbar\":{\"outlinewidth\":0,\"ticks\":\"\"}}}],\"scattermapbox\":[{\"type\":\"scattermapbox\",\"marker\":{\"colorbar\":{\"outlinewidth\":0,\"ticks\":\"\"}}}],\"scatterternary\":[{\"type\":\"scatterternary\",\"marker\":{\"colorbar\":{\"outlinewidth\":0,\"ticks\":\"\"}}}],\"scattercarpet\":[{\"type\":\"scattercarpet\",\"marker\":{\"colorbar\":{\"outlinewidth\":0,\"ticks\":\"\"}}}],\"carpet\":[{\"aaxis\":{\"endlinecolor\":\"#2a3f5f\",\"gridcolor\":\"white\",\"linecolor\":\"white\",\"minorgridcolor\":\"white\",\"startlinecolor\":\"#2a3f5f\"},\"baxis\":{\"endlinecolor\":\"#2a3f5f\",\"gridcolor\":\"white\",\"linecolor\":\"white\",\"minorgridcolor\":\"white\",\"startlinecolor\":\"#2a3f5f\"},\"type\":\"carpet\"}],\"table\":[{\"cells\":{\"fill\":{\"color\":\"#EBF0F8\"},\"line\":{\"color\":\"white\"}},\"header\":{\"fill\":{\"color\":\"#C8D4E3\"},\"line\":{\"color\":\"white\"}},\"type\":\"table\"}],\"barpolar\":[{\"marker\":{\"line\":{\"color\":\"#E5ECF6\",\"width\":0.5},\"pattern\":{\"fillmode\":\"overlay\",\"size\":10,\"solidity\":0.2}},\"type\":\"barpolar\"}],\"pie\":[{\"automargin\":true,\"type\":\"pie\"}]},\"layout\":{\"autotypenumbers\":\"strict\",\"colorway\":[\"#636efa\",\"#EF553B\",\"#00cc96\",\"#ab63fa\",\"#FFA15A\",\"#19d3f3\",\"#FF6692\",\"#B6E880\",\"#FF97FF\",\"#FECB52\"],\"font\":{\"color\":\"#2a3f5f\"},\"hovermode\":\"closest\",\"hoverlabel\":{\"align\":\"left\"},\"paper_bgcolor\":\"white\",\"plot_bgcolor\":\"#E5ECF6\",\"polar\":{\"bgcolor\":\"#E5ECF6\",\"angularaxis\":{\"gridcolor\":\"white\",\"linecolor\":\"white\",\"ticks\":\"\"},\"radialaxis\":{\"gridcolor\":\"white\",\"linecolor\":\"white\",\"ticks\":\"\"}},\"ternary\":{\"bgcolor\":\"#E5ECF6\",\"aaxis\":{\"gridcolor\":\"white\",\"linecolor\":\"white\",\"ticks\":\"\"},\"baxis\":{\"gridcolor\":\"white\",\"linecolor\":\"white\",\"ticks\":\"\"},\"caxis\":{\"gridcolor\":\"white\",\"linecolor\":\"white\",\"ticks\":\"\"}},\"coloraxis\":{\"colorbar\":{\"outlinewidth\":0,\"ticks\":\"\"}},\"colorscale\":{\"sequential\":[[0.0,\"#0d0887\"],[0.1111111111111111,\"#46039f\"],[0.2222222222222222,\"#7201a8\"],[0.3333333333333333,\"#9c179e\"],[0.4444444444444444,\"#bd3786\"],[0.5555555555555556,\"#d8576b\"],[0.6666666666666666,\"#ed7953\"],[0.7777777777777778,\"#fb9f3a\"],[0.8888888888888888,\"#fdca26\"],[1.0,\"#f0f921\"]],\"sequentialminus\":[[0.0,\"#0d0887\"],[0.1111111111111111,\"#46039f\"],[0.2222222222222222,\"#7201a8\"],[0.3333333333333333,\"#9c179e\"],[0.4444444444444444,\"#bd3786\"],[0.5555555555555556,\"#d8576b\"],[0.6666666666666666,\"#ed7953\"],[0.7777777777777778,\"#fb9f3a\"],[0.8888888888888888,\"#fdca26\"],[1.0,\"#f0f921\"]],\"diverging\":[[0,\"#8e0152\"],[0.1,\"#c51b7d\"],[0.2,\"#de77ae\"],[0.3,\"#f1b6da\"],[0.4,\"#fde0ef\"],[0.5,\"#f7f7f7\"],[0.6,\"#e6f5d0\"],[0.7,\"#b8e186\"],[0.8,\"#7fbc41\"],[0.9,\"#4d9221\"],[1,\"#276419\"]]},\"xaxis\":{\"gridcolor\":\"white\",\"linecolor\":\"white\",\"ticks\":\"\",\"title\":{\"standoff\":15},\"zerolinecolor\":\"white\",\"automargin\":true,\"zerolinewidth\":2},\"yaxis\":{\"gridcolor\":\"white\",\"linecolor\":\"white\",\"ticks\":\"\",\"title\":{\"standoff\":15},\"zerolinecolor\":\"white\",\"automargin\":true,\"zerolinewidth\":2},\"scene\":{\"xaxis\":{\"backgroundcolor\":\"#E5ECF6\",\"gridcolor\":\"white\",\"linecolor\":\"white\",\"showbackground\":true,\"ticks\":\"\",\"zerolinecolor\":\"white\",\"gridwidth\":2},\"yaxis\":{\"backgroundcolor\":\"#E5ECF6\",\"gridcolor\":\"white\",\"linecolor\":\"white\",\"showbackground\":true,\"ticks\":\"\",\"zerolinecolor\":\"white\",\"gridwidth\":2},\"zaxis\":{\"backgroundcolor\":\"#E5ECF6\",\"gridcolor\":\"white\",\"linecolor\":\"white\",\"showbackground\":true,\"ticks\":\"\",\"zerolinecolor\":\"white\",\"gridwidth\":2}},\"shapedefaults\":{\"line\":{\"color\":\"#2a3f5f\"}},\"annotationdefaults\":{\"arrowcolor\":\"#2a3f5f\",\"arrowhead\":0,\"arrowwidth\":1},\"geo\":{\"bgcolor\":\"white\",\"landcolor\":\"#E5ECF6\",\"subunitcolor\":\"white\",\"showland\":true,\"showlakes\":true,\"lakecolor\":\"white\"},\"title\":{\"x\":0.05},\"mapbox\":{\"style\":\"light\"}}},\"xaxis\":{\"anchor\":\"y\",\"domain\":[0.0,1.0],\"title\":{\"text\":\"Proportional Demand (%)\"}},\"yaxis\":{\"anchor\":\"x\",\"domain\":[0.0,1.0],\"title\":{\"text\":\"Growth Relative to Market (%)\"}},\"legend\":{\"title\":{\"text\":\"type\"},\"tracegroupgap\":0,\"itemsizing\":\"constant\"},\"title\":{\"text\":\"Skills Proportional Demand vs. Growth Relative to Market\"},\"shapes\":[{\"line\":{\"color\":\"grey\",\"dash\":\"dot\"},\"type\":\"line\",\"x0\":0,\"x1\":1,\"xref\":\"x domain\",\"y0\":10.0,\"y1\":10.0,\"yref\":\"y\"},{\"line\":{\"color\":\"red\",\"dash\":\"dot\"},\"type\":\"line\",\"x0\":0,\"x1\":1,\"xref\":\"x domain\",\"y0\":14.742,\"y1\":14.742,\"yref\":\"y\"},{\"line\":{\"color\":\"red\",\"dash\":\"dot\"},\"type\":\"line\",\"x0\":8.88,\"x1\":8.88,\"xref\":\"x\",\"y0\":0,\"y1\":1,\"yref\":\"y domain\"}],\"annotations\":[{\"showarrow\":false,\"text\":\"Growing relative to market\",\"x\":1,\"xanchor\":\"right\",\"xref\":\"x domain\",\"y\":10.0,\"yanchor\":\"bottom\",\"yref\":\"y\"},{\"showarrow\":false,\"text\":\"Mean growth 14.742%\",\"x\":1,\"xanchor\":\"right\",\"xref\":\"x domain\",\"y\":14.742,\"yanchor\":\"bottom\",\"yref\":\"y\"},{\"showarrow\":false,\"text\":\"Mean demand 8.88%\",\"x\":8.88,\"xanchor\":\"left\",\"xref\":\"x\",\"y\":1,\"yanchor\":\"top\",\"yref\":\"y domain\"}]},                        {\"responsive\": true}                    ).then(function(){\n",
       "                            \n",
       "var gd = document.getElementById('85dd4c93-e523-48be-999d-7b79de14ed0b');\n",
       "var x = new MutationObserver(function (mutations, observer) {{\n",
       "        var display = window.getComputedStyle(gd).display;\n",
       "        if (!display || display === 'none') {{\n",
       "            console.log([gd, 'removed!']);\n",
       "            Plotly.purge(gd);\n",
       "            observer.disconnect();\n",
       "        }}\n",
       "}});\n",
       "\n",
       "// Listen for the removal of the full notebook cells\n",
       "var notebookContainer = gd.closest('#notebook-container');\n",
       "if (notebookContainer) {{\n",
       "    x.observe(notebookContainer, {childList: true});\n",
       "}}\n",
       "\n",
       "// Listen for the clearing of the current output cell\n",
       "var outputEl = gd.closest('.output');\n",
       "if (outputEl) {{\n",
       "    x.observe(outputEl, {childList: true});\n",
       "}}\n",
       "\n",
       "                        })                };                });            </script>        </div>"
      ]
     },
     "metadata": {},
     "output_type": "display_data"
    }
   ],
   "source": [
    "# Calculate mean values for proportional demand and growth relative to the market\n",
    "mean_demand = common_ncsa['postings_prop'].mean()\n",
    "mean_growth = common_ncsa['skillgrowth_proj'].mean()\n",
    "\n",
    "# Define boundaries for each quadrant based on mean values\n",
    "low_demand_threshold = mean_demand\n",
    "high_demand_threshold = mean_demand\n",
    "low_growth_threshold = mean_growth\n",
    "high_growth_threshold = mean_growth\n",
    "\n",
    "# Create scatter plot with proportional demand, growth relative to the market, and marker size representing importance\n",
    "fig = px.scatter(\n",
    "    common_ncsa, \n",
    "    x='postings_prop', \n",
    "    y='skillgrowth_proj', \n",
    "    size='postings', \n",
    "    hover_name='skills', \n",
    "    color = 'type', #the type \n",
    "    title='Skills Proportional Demand vs. Growth Relative to Market',\n",
    "    labels={'postings_prop': 'Proportional Demand (%)', 'skillgrowth_proj': 'Growth Relative to Market (%)'},\n",
    "#    text = 'skills'\n",
    ")\n",
    "\n",
    "# Add lines to delineate quadrants\n",
    "fig.add_hline(y=10.0, line_dash='dot', line_color='grey', annotation_text= 'Growing relative to market')\n",
    "fig.add_hline(y=high_growth_threshold, line_dash='dot', line_color='red', annotation_text=f'Mean growth {mean_growth}%')\n",
    "fig.add_vline(x=high_demand_threshold, line_dash='dot', line_color='red', annotation_text=f'Mean demand {mean_demand}%')\n",
    "\n",
    "\n",
    "# Show the figure\n",
    "fig.show()"
   ]
  },
  {
   "cell_type": "markdown",
   "id": "98b112f1-cce0-41d1-91c4-970327611551",
   "metadata": {},
   "source": [
    "# Forecasting:\n",
    "The goal of this stage is to look at the growth over time of each skill in order to see how the occupaitonal profile changes in the next 2 years.\n",
    "\n",
    "##### *HOW*:\n",
    "**Projected Skill Growth forecasts**: Interpolate the next 2 year growth, look at how the occupational profile changes over time.\n",
    "\n",
    "##### *QUESTIONS ANSWERED*:\n",
    "* What is the % change of Human or Professional Skills?\n",
    "* What are the relative sizes of skills now?\n",
    "* Has the occupation's 'roles' balance changed, in terms of Key Skills? Does the job seem different?\n",
    "\n",
    "\n",
    "##### Visualizations: \n",
    "- Line graphs mainly"
   ]
  },
  {
   "cell_type": "code",
   "execution_count": 180,
   "id": "5f7e806a-cacd-4990-80c4-f2008a584274",
   "metadata": {},
   "outputs": [
    {
     "data": {
      "text/html": [
       "<div>\n",
       "<style scoped>\n",
       "    .dataframe tbody tr th:only-of-type {\n",
       "        vertical-align: middle;\n",
       "    }\n",
       "\n",
       "    .dataframe tbody tr th {\n",
       "        vertical-align: top;\n",
       "    }\n",
       "\n",
       "    .dataframe thead th {\n",
       "        text-align: right;\n",
       "    }\n",
       "</style>\n",
       "<table border=\"1\" class=\"dataframe\">\n",
       "  <thead>\n",
       "    <tr style=\"text-align: right;\">\n",
       "      <th></th>\n",
       "      <th>skills</th>\n",
       "      <th>postings</th>\n",
       "      <th>postings_prop</th>\n",
       "      <th>profiles</th>\n",
       "      <th>profiles_prop</th>\n",
       "      <th>skillgrowth_proj</th>\n",
       "      <th>skillgrowth_market</th>\n",
       "      <th>skillgrowth_market_num</th>\n",
       "      <th>type</th>\n",
       "      <th>postings_t1</th>\n",
       "      <th>postings_t2</th>\n",
       "    </tr>\n",
       "  </thead>\n",
       "  <tbody>\n",
       "    <tr>\n",
       "      <th>0</th>\n",
       "      <td>Operating Systems</td>\n",
       "      <td>34521</td>\n",
       "      <td>31.0</td>\n",
       "      <td>56592</td>\n",
       "      <td>8.0</td>\n",
       "      <td>22.6</td>\n",
       "      <td>Rapidly Growing</td>\n",
       "      <td>4</td>\n",
       "      <td>NaN</td>\n",
       "      <td>424608</td>\n",
       "      <td>814695</td>\n",
       "    </tr>\n",
       "    <tr>\n",
       "      <th>1</th>\n",
       "      <td>Linux</td>\n",
       "      <td>33693</td>\n",
       "      <td>31.0</td>\n",
       "      <td>66980</td>\n",
       "      <td>10.0</td>\n",
       "      <td>8.9</td>\n",
       "      <td>Growing</td>\n",
       "      <td>3</td>\n",
       "      <td>NaN</td>\n",
       "      <td>183626</td>\n",
       "      <td>333560</td>\n",
       "    </tr>\n",
       "    <tr>\n",
       "      <th>2</th>\n",
       "      <td>Computer Science</td>\n",
       "      <td>28033</td>\n",
       "      <td>25.0</td>\n",
       "      <td>6096</td>\n",
       "      <td>1.0</td>\n",
       "      <td>26.8</td>\n",
       "      <td>Rapidly Growing</td>\n",
       "      <td>4</td>\n",
       "      <td>NaN</td>\n",
       "      <td>403675</td>\n",
       "      <td>779317</td>\n",
       "    </tr>\n",
       "    <tr>\n",
       "      <th>3</th>\n",
       "      <td>System Administration</td>\n",
       "      <td>27769</td>\n",
       "      <td>25.0</td>\n",
       "      <td>66839</td>\n",
       "      <td>10.0</td>\n",
       "      <td>2.7</td>\n",
       "      <td>Lagging</td>\n",
       "      <td>1</td>\n",
       "      <td>NaN</td>\n",
       "      <td>65257</td>\n",
       "      <td>102745</td>\n",
       "    </tr>\n",
       "    <tr>\n",
       "      <th>4</th>\n",
       "      <td>Active Directory</td>\n",
       "      <td>25155</td>\n",
       "      <td>23.0</td>\n",
       "      <td>100091</td>\n",
       "      <td>15.0</td>\n",
       "      <td>-1.8</td>\n",
       "      <td>Lagging</td>\n",
       "      <td>1</td>\n",
       "      <td>NaN</td>\n",
       "      <td>2515</td>\n",
       "      <td>-20123</td>\n",
       "    </tr>\n",
       "  </tbody>\n",
       "</table>\n",
       "</div>"
      ],
      "text/plain": [
       "                  skills  postings  postings_prop  profiles  profiles_prop   \n",
       "0      Operating Systems     34521           31.0     56592            8.0  \\\n",
       "1                  Linux     33693           31.0     66980           10.0   \n",
       "2       Computer Science     28033           25.0      6096            1.0   \n",
       "3  System Administration     27769           25.0     66839           10.0   \n",
       "4       Active Directory     25155           23.0    100091           15.0   \n",
       "\n",
       "   skillgrowth_proj skillgrowth_market  skillgrowth_market_num  type   \n",
       "0              22.6    Rapidly Growing                       4   NaN  \\\n",
       "1               8.9            Growing                       3   NaN   \n",
       "2              26.8    Rapidly Growing                       4   NaN   \n",
       "3               2.7            Lagging                       1   NaN   \n",
       "4              -1.8            Lagging                       1   NaN   \n",
       "\n",
       "   postings_t1  postings_t2  \n",
       "0       424608       814695  \n",
       "1       183626       333560  \n",
       "2       403675       779317  \n",
       "3        65257       102745  \n",
       "4         2515       -20123  "
      ]
     },
     "execution_count": 180,
     "metadata": {},
     "output_type": "execute_result"
    }
   ],
   "source": [
    "# adding forecasted Number with projected growth\n",
    "specialised_ncsa[\"postings_t1\"] = (specialised_ncsa[\"postings\"] + (specialised_ncsa[\"postings\"]*specialised_ncsa[\"skillgrowth_proj\"])/2).astype(int)\n",
    "specialised_ncsa[\"postings_t2\"] = (specialised_ncsa[\"postings\"] + specialised_ncsa[\"postings\"]*specialised_ncsa[\"skillgrowth_proj\"]).astype(int)\n",
    "\n",
    "specialised_ncsa.head()"
   ]
  },
  {
   "cell_type": "code",
   "execution_count": 89,
   "id": "bf52261c-7764-4335-a993-79a775c175e5",
   "metadata": {},
   "outputs": [
    {
     "data": {
      "application/vnd.plotly.v1+json": {
       "config": {
        "plotlyServerURL": "https://plot.ly"
       },
       "data": [
        {
         "hovertemplate": "skills=Operating Systems<br>year=%{x}<br>posting_number=%{y}<extra></extra>",
         "legendgroup": "Operating Systems",
         "line": {
          "color": "#636efa",
          "dash": "solid"
         },
         "marker": {
          "symbol": "circle"
         },
         "mode": "lines",
         "name": "Operating Systems",
         "orientation": "v",
         "showlegend": true,
         "type": "scatter",
         "x": [
          "postings",
          "postings_t1",
          "postings_t2"
         ],
         "xaxis": "x",
         "y": [
          34521,
          38421,
          42322
         ],
         "yaxis": "y"
        },
        {
         "hovertemplate": "skills=Linux<br>year=%{x}<br>posting_number=%{y}<extra></extra>",
         "legendgroup": "Linux",
         "line": {
          "color": "#EF553B",
          "dash": "solid"
         },
         "marker": {
          "symbol": "circle"
         },
         "mode": "lines",
         "name": "Linux",
         "orientation": "v",
         "showlegend": true,
         "type": "scatter",
         "x": [
          "postings",
          "postings_t1",
          "postings_t2"
         ],
         "xaxis": "x",
         "y": [
          33693,
          35192,
          36691
         ],
         "yaxis": "y"
        },
        {
         "hovertemplate": "skills=Computer Science<br>year=%{x}<br>posting_number=%{y}<extra></extra>",
         "legendgroup": "Computer Science",
         "line": {
          "color": "#00cc96",
          "dash": "solid"
         },
         "marker": {
          "symbol": "circle"
         },
         "mode": "lines",
         "name": "Computer Science",
         "orientation": "v",
         "showlegend": true,
         "type": "scatter",
         "x": [
          "postings",
          "postings_t1",
          "postings_t2"
         ],
         "xaxis": "x",
         "y": [
          28033,
          31789,
          35545
         ],
         "yaxis": "y"
        },
        {
         "hovertemplate": "skills=System Administration<br>year=%{x}<br>posting_number=%{y}<extra></extra>",
         "legendgroup": "System Administration",
         "line": {
          "color": "#ab63fa",
          "dash": "solid"
         },
         "marker": {
          "symbol": "circle"
         },
         "mode": "lines",
         "name": "System Administration",
         "orientation": "v",
         "showlegend": true,
         "type": "scatter",
         "x": [
          "postings",
          "postings_t1",
          "postings_t2"
         ],
         "xaxis": "x",
         "y": [
          27769,
          28143,
          28518
         ],
         "yaxis": "y"
        }
       ],
       "layout": {
        "autosize": true,
        "legend": {
         "title": {
          "text": "skills"
         },
         "tracegroupgap": 0
        },
        "margin": {
         "t": 60
        },
        "template": {
         "data": {
          "bar": [
           {
            "error_x": {
             "color": "#2a3f5f"
            },
            "error_y": {
             "color": "#2a3f5f"
            },
            "marker": {
             "line": {
              "color": "#E5ECF6",
              "width": 0.5
             },
             "pattern": {
              "fillmode": "overlay",
              "size": 10,
              "solidity": 0.2
             }
            },
            "type": "bar"
           }
          ],
          "barpolar": [
           {
            "marker": {
             "line": {
              "color": "#E5ECF6",
              "width": 0.5
             },
             "pattern": {
              "fillmode": "overlay",
              "size": 10,
              "solidity": 0.2
             }
            },
            "type": "barpolar"
           }
          ],
          "carpet": [
           {
            "aaxis": {
             "endlinecolor": "#2a3f5f",
             "gridcolor": "white",
             "linecolor": "white",
             "minorgridcolor": "white",
             "startlinecolor": "#2a3f5f"
            },
            "baxis": {
             "endlinecolor": "#2a3f5f",
             "gridcolor": "white",
             "linecolor": "white",
             "minorgridcolor": "white",
             "startlinecolor": "#2a3f5f"
            },
            "type": "carpet"
           }
          ],
          "choropleth": [
           {
            "colorbar": {
             "outlinewidth": 0,
             "ticks": ""
            },
            "type": "choropleth"
           }
          ],
          "contour": [
           {
            "colorbar": {
             "outlinewidth": 0,
             "ticks": ""
            },
            "colorscale": [
             [
              0,
              "#0d0887"
             ],
             [
              0.1111111111111111,
              "#46039f"
             ],
             [
              0.2222222222222222,
              "#7201a8"
             ],
             [
              0.3333333333333333,
              "#9c179e"
             ],
             [
              0.4444444444444444,
              "#bd3786"
             ],
             [
              0.5555555555555556,
              "#d8576b"
             ],
             [
              0.6666666666666666,
              "#ed7953"
             ],
             [
              0.7777777777777778,
              "#fb9f3a"
             ],
             [
              0.8888888888888888,
              "#fdca26"
             ],
             [
              1,
              "#f0f921"
             ]
            ],
            "type": "contour"
           }
          ],
          "contourcarpet": [
           {
            "colorbar": {
             "outlinewidth": 0,
             "ticks": ""
            },
            "type": "contourcarpet"
           }
          ],
          "heatmap": [
           {
            "colorbar": {
             "outlinewidth": 0,
             "ticks": ""
            },
            "colorscale": [
             [
              0,
              "#0d0887"
             ],
             [
              0.1111111111111111,
              "#46039f"
             ],
             [
              0.2222222222222222,
              "#7201a8"
             ],
             [
              0.3333333333333333,
              "#9c179e"
             ],
             [
              0.4444444444444444,
              "#bd3786"
             ],
             [
              0.5555555555555556,
              "#d8576b"
             ],
             [
              0.6666666666666666,
              "#ed7953"
             ],
             [
              0.7777777777777778,
              "#fb9f3a"
             ],
             [
              0.8888888888888888,
              "#fdca26"
             ],
             [
              1,
              "#f0f921"
             ]
            ],
            "type": "heatmap"
           }
          ],
          "heatmapgl": [
           {
            "colorbar": {
             "outlinewidth": 0,
             "ticks": ""
            },
            "colorscale": [
             [
              0,
              "#0d0887"
             ],
             [
              0.1111111111111111,
              "#46039f"
             ],
             [
              0.2222222222222222,
              "#7201a8"
             ],
             [
              0.3333333333333333,
              "#9c179e"
             ],
             [
              0.4444444444444444,
              "#bd3786"
             ],
             [
              0.5555555555555556,
              "#d8576b"
             ],
             [
              0.6666666666666666,
              "#ed7953"
             ],
             [
              0.7777777777777778,
              "#fb9f3a"
             ],
             [
              0.8888888888888888,
              "#fdca26"
             ],
             [
              1,
              "#f0f921"
             ]
            ],
            "type": "heatmapgl"
           }
          ],
          "histogram": [
           {
            "marker": {
             "pattern": {
              "fillmode": "overlay",
              "size": 10,
              "solidity": 0.2
             }
            },
            "type": "histogram"
           }
          ],
          "histogram2d": [
           {
            "colorbar": {
             "outlinewidth": 0,
             "ticks": ""
            },
            "colorscale": [
             [
              0,
              "#0d0887"
             ],
             [
              0.1111111111111111,
              "#46039f"
             ],
             [
              0.2222222222222222,
              "#7201a8"
             ],
             [
              0.3333333333333333,
              "#9c179e"
             ],
             [
              0.4444444444444444,
              "#bd3786"
             ],
             [
              0.5555555555555556,
              "#d8576b"
             ],
             [
              0.6666666666666666,
              "#ed7953"
             ],
             [
              0.7777777777777778,
              "#fb9f3a"
             ],
             [
              0.8888888888888888,
              "#fdca26"
             ],
             [
              1,
              "#f0f921"
             ]
            ],
            "type": "histogram2d"
           }
          ],
          "histogram2dcontour": [
           {
            "colorbar": {
             "outlinewidth": 0,
             "ticks": ""
            },
            "colorscale": [
             [
              0,
              "#0d0887"
             ],
             [
              0.1111111111111111,
              "#46039f"
             ],
             [
              0.2222222222222222,
              "#7201a8"
             ],
             [
              0.3333333333333333,
              "#9c179e"
             ],
             [
              0.4444444444444444,
              "#bd3786"
             ],
             [
              0.5555555555555556,
              "#d8576b"
             ],
             [
              0.6666666666666666,
              "#ed7953"
             ],
             [
              0.7777777777777778,
              "#fb9f3a"
             ],
             [
              0.8888888888888888,
              "#fdca26"
             ],
             [
              1,
              "#f0f921"
             ]
            ],
            "type": "histogram2dcontour"
           }
          ],
          "mesh3d": [
           {
            "colorbar": {
             "outlinewidth": 0,
             "ticks": ""
            },
            "type": "mesh3d"
           }
          ],
          "parcoords": [
           {
            "line": {
             "colorbar": {
              "outlinewidth": 0,
              "ticks": ""
             }
            },
            "type": "parcoords"
           }
          ],
          "pie": [
           {
            "automargin": true,
            "type": "pie"
           }
          ],
          "scatter": [
           {
            "marker": {
             "colorbar": {
              "outlinewidth": 0,
              "ticks": ""
             }
            },
            "type": "scatter"
           }
          ],
          "scatter3d": [
           {
            "line": {
             "colorbar": {
              "outlinewidth": 0,
              "ticks": ""
             }
            },
            "marker": {
             "colorbar": {
              "outlinewidth": 0,
              "ticks": ""
             }
            },
            "type": "scatter3d"
           }
          ],
          "scattercarpet": [
           {
            "marker": {
             "colorbar": {
              "outlinewidth": 0,
              "ticks": ""
             }
            },
            "type": "scattercarpet"
           }
          ],
          "scattergeo": [
           {
            "marker": {
             "colorbar": {
              "outlinewidth": 0,
              "ticks": ""
             }
            },
            "type": "scattergeo"
           }
          ],
          "scattergl": [
           {
            "marker": {
             "colorbar": {
              "outlinewidth": 0,
              "ticks": ""
             }
            },
            "type": "scattergl"
           }
          ],
          "scattermapbox": [
           {
            "marker": {
             "colorbar": {
              "outlinewidth": 0,
              "ticks": ""
             }
            },
            "type": "scattermapbox"
           }
          ],
          "scatterpolar": [
           {
            "marker": {
             "colorbar": {
              "outlinewidth": 0,
              "ticks": ""
             }
            },
            "type": "scatterpolar"
           }
          ],
          "scatterpolargl": [
           {
            "marker": {
             "colorbar": {
              "outlinewidth": 0,
              "ticks": ""
             }
            },
            "type": "scatterpolargl"
           }
          ],
          "scatterternary": [
           {
            "marker": {
             "colorbar": {
              "outlinewidth": 0,
              "ticks": ""
             }
            },
            "type": "scatterternary"
           }
          ],
          "surface": [
           {
            "colorbar": {
             "outlinewidth": 0,
             "ticks": ""
            },
            "colorscale": [
             [
              0,
              "#0d0887"
             ],
             [
              0.1111111111111111,
              "#46039f"
             ],
             [
              0.2222222222222222,
              "#7201a8"
             ],
             [
              0.3333333333333333,
              "#9c179e"
             ],
             [
              0.4444444444444444,
              "#bd3786"
             ],
             [
              0.5555555555555556,
              "#d8576b"
             ],
             [
              0.6666666666666666,
              "#ed7953"
             ],
             [
              0.7777777777777778,
              "#fb9f3a"
             ],
             [
              0.8888888888888888,
              "#fdca26"
             ],
             [
              1,
              "#f0f921"
             ]
            ],
            "type": "surface"
           }
          ],
          "table": [
           {
            "cells": {
             "fill": {
              "color": "#EBF0F8"
             },
             "line": {
              "color": "white"
             }
            },
            "header": {
             "fill": {
              "color": "#C8D4E3"
             },
             "line": {
              "color": "white"
             }
            },
            "type": "table"
           }
          ]
         },
         "layout": {
          "annotationdefaults": {
           "arrowcolor": "#2a3f5f",
           "arrowhead": 0,
           "arrowwidth": 1
          },
          "autotypenumbers": "strict",
          "coloraxis": {
           "colorbar": {
            "outlinewidth": 0,
            "ticks": ""
           }
          },
          "colorscale": {
           "diverging": [
            [
             0,
             "#8e0152"
            ],
            [
             0.1,
             "#c51b7d"
            ],
            [
             0.2,
             "#de77ae"
            ],
            [
             0.3,
             "#f1b6da"
            ],
            [
             0.4,
             "#fde0ef"
            ],
            [
             0.5,
             "#f7f7f7"
            ],
            [
             0.6,
             "#e6f5d0"
            ],
            [
             0.7,
             "#b8e186"
            ],
            [
             0.8,
             "#7fbc41"
            ],
            [
             0.9,
             "#4d9221"
            ],
            [
             1,
             "#276419"
            ]
           ],
           "sequential": [
            [
             0,
             "#0d0887"
            ],
            [
             0.1111111111111111,
             "#46039f"
            ],
            [
             0.2222222222222222,
             "#7201a8"
            ],
            [
             0.3333333333333333,
             "#9c179e"
            ],
            [
             0.4444444444444444,
             "#bd3786"
            ],
            [
             0.5555555555555556,
             "#d8576b"
            ],
            [
             0.6666666666666666,
             "#ed7953"
            ],
            [
             0.7777777777777778,
             "#fb9f3a"
            ],
            [
             0.8888888888888888,
             "#fdca26"
            ],
            [
             1,
             "#f0f921"
            ]
           ],
           "sequentialminus": [
            [
             0,
             "#0d0887"
            ],
            [
             0.1111111111111111,
             "#46039f"
            ],
            [
             0.2222222222222222,
             "#7201a8"
            ],
            [
             0.3333333333333333,
             "#9c179e"
            ],
            [
             0.4444444444444444,
             "#bd3786"
            ],
            [
             0.5555555555555556,
             "#d8576b"
            ],
            [
             0.6666666666666666,
             "#ed7953"
            ],
            [
             0.7777777777777778,
             "#fb9f3a"
            ],
            [
             0.8888888888888888,
             "#fdca26"
            ],
            [
             1,
             "#f0f921"
            ]
           ]
          },
          "colorway": [
           "#636efa",
           "#EF553B",
           "#00cc96",
           "#ab63fa",
           "#FFA15A",
           "#19d3f3",
           "#FF6692",
           "#B6E880",
           "#FF97FF",
           "#FECB52"
          ],
          "font": {
           "color": "#2a3f5f"
          },
          "geo": {
           "bgcolor": "white",
           "lakecolor": "white",
           "landcolor": "#E5ECF6",
           "showlakes": true,
           "showland": true,
           "subunitcolor": "white"
          },
          "hoverlabel": {
           "align": "left"
          },
          "hovermode": "closest",
          "mapbox": {
           "style": "light"
          },
          "paper_bgcolor": "white",
          "plot_bgcolor": "#E5ECF6",
          "polar": {
           "angularaxis": {
            "gridcolor": "white",
            "linecolor": "white",
            "ticks": ""
           },
           "bgcolor": "#E5ECF6",
           "radialaxis": {
            "gridcolor": "white",
            "linecolor": "white",
            "ticks": ""
           }
          },
          "scene": {
           "xaxis": {
            "backgroundcolor": "#E5ECF6",
            "gridcolor": "white",
            "gridwidth": 2,
            "linecolor": "white",
            "showbackground": true,
            "ticks": "",
            "zerolinecolor": "white"
           },
           "yaxis": {
            "backgroundcolor": "#E5ECF6",
            "gridcolor": "white",
            "gridwidth": 2,
            "linecolor": "white",
            "showbackground": true,
            "ticks": "",
            "zerolinecolor": "white"
           },
           "zaxis": {
            "backgroundcolor": "#E5ECF6",
            "gridcolor": "white",
            "gridwidth": 2,
            "linecolor": "white",
            "showbackground": true,
            "ticks": "",
            "zerolinecolor": "white"
           }
          },
          "shapedefaults": {
           "line": {
            "color": "#2a3f5f"
           }
          },
          "ternary": {
           "aaxis": {
            "gridcolor": "white",
            "linecolor": "white",
            "ticks": ""
           },
           "baxis": {
            "gridcolor": "white",
            "linecolor": "white",
            "ticks": ""
           },
           "bgcolor": "#E5ECF6",
           "caxis": {
            "gridcolor": "white",
            "linecolor": "white",
            "ticks": ""
           }
          },
          "title": {
           "x": 0.05
          },
          "xaxis": {
           "automargin": true,
           "gridcolor": "white",
           "linecolor": "white",
           "ticks": "",
           "title": {
            "standoff": 15
           },
           "zerolinecolor": "white",
           "zerolinewidth": 2
          },
          "yaxis": {
           "automargin": true,
           "gridcolor": "white",
           "linecolor": "white",
           "ticks": "",
           "title": {
            "standoff": 15
           },
           "zerolinecolor": "white",
           "zerolinewidth": 2
          }
         }
        },
        "xaxis": {
         "anchor": "y",
         "autorange": true,
         "domain": [
          0,
          1
         ],
         "range": [
          0,
          2
         ],
         "title": {
          "text": "year"
         },
         "type": "category"
        },
        "yaxis": {
         "anchor": "x",
         "autorange": true,
         "domain": [
          0,
          1
         ],
         "range": [
          26960.5,
          43130.5
         ],
         "title": {
          "text": "posting_number"
         },
         "type": "linear"
        }
       }
      },
      "image/png": "[encoded data removed]",
      "text/html": [
       "<div>                            <div id=\"069f1189-7744-4743-8909-b53ce1ec898a\" class=\"plotly-graph-div\" style=\"height:525px; width:100%;\"></div>            <script type=\"text/javascript\">                require([\"plotly\"], function(Plotly) {                    window.PLOTLYENV=window.PLOTLYENV || {};                                    if (document.getElementById(\"069f1189-7744-4743-8909-b53ce1ec898a\")) {                    Plotly.newPlot(                        \"069f1189-7744-4743-8909-b53ce1ec898a\",                        [{\"hovertemplate\":\"skills=Operating Systems<br>year=%{x}<br>posting_number=%{y}<extra></extra>\",\"legendgroup\":\"Operating Systems\",\"line\":{\"color\":\"#636efa\",\"dash\":\"solid\"},\"marker\":{\"symbol\":\"circle\"},\"mode\":\"lines\",\"name\":\"Operating Systems\",\"orientation\":\"v\",\"showlegend\":true,\"x\":[\"postings\",\"postings_t1\",\"postings_t2\"],\"xaxis\":\"x\",\"y\":[34521,38421,42322],\"yaxis\":\"y\",\"type\":\"scatter\"},{\"hovertemplate\":\"skills=Linux<br>year=%{x}<br>posting_number=%{y}<extra></extra>\",\"legendgroup\":\"Linux\",\"line\":{\"color\":\"#EF553B\",\"dash\":\"solid\"},\"marker\":{\"symbol\":\"circle\"},\"mode\":\"lines\",\"name\":\"Linux\",\"orientation\":\"v\",\"showlegend\":true,\"x\":[\"postings\",\"postings_t1\",\"postings_t2\"],\"xaxis\":\"x\",\"y\":[33693,35192,36691],\"yaxis\":\"y\",\"type\":\"scatter\"},{\"hovertemplate\":\"skills=Computer Science<br>year=%{x}<br>posting_number=%{y}<extra></extra>\",\"legendgroup\":\"Computer Science\",\"line\":{\"color\":\"#00cc96\",\"dash\":\"solid\"},\"marker\":{\"symbol\":\"circle\"},\"mode\":\"lines\",\"name\":\"Computer Science\",\"orientation\":\"v\",\"showlegend\":true,\"x\":[\"postings\",\"postings_t1\",\"postings_t2\"],\"xaxis\":\"x\",\"y\":[28033,31789,35545],\"yaxis\":\"y\",\"type\":\"scatter\"},{\"hovertemplate\":\"skills=System Administration<br>year=%{x}<br>posting_number=%{y}<extra></extra>\",\"legendgroup\":\"System Administration\",\"line\":{\"color\":\"#ab63fa\",\"dash\":\"solid\"},\"marker\":{\"symbol\":\"circle\"},\"mode\":\"lines\",\"name\":\"System Administration\",\"orientation\":\"v\",\"showlegend\":true,\"x\":[\"postings\",\"postings_t1\",\"postings_t2\"],\"xaxis\":\"x\",\"y\":[27769,28143,28518],\"yaxis\":\"y\",\"type\":\"scatter\"}],                        {\"template\":{\"data\":{\"bar\":[{\"error_x\":{\"color\":\"#2a3f5f\"},\"error_y\":{\"color\":\"#2a3f5f\"},\"marker\":{\"line\":{\"color\":\"#E5ECF6\",\"width\":0.5},\"pattern\":{\"fillmode\":\"overlay\",\"size\":10,\"solidity\":0.2}},\"type\":\"bar\"}],\"barpolar\":[{\"marker\":{\"line\":{\"color\":\"#E5ECF6\",\"width\":0.5},\"pattern\":{\"fillmode\":\"overlay\",\"size\":10,\"solidity\":0.2}},\"type\":\"barpolar\"}],\"carpet\":[{\"aaxis\":{\"endlinecolor\":\"#2a3f5f\",\"gridcolor\":\"white\",\"linecolor\":\"white\",\"minorgridcolor\":\"white\",\"startlinecolor\":\"#2a3f5f\"},\"baxis\":{\"endlinecolor\":\"#2a3f5f\",\"gridcolor\":\"white\",\"linecolor\":\"white\",\"minorgridcolor\":\"white\",\"startlinecolor\":\"#2a3f5f\"},\"type\":\"carpet\"}],\"choropleth\":[{\"colorbar\":{\"outlinewidth\":0,\"ticks\":\"\"},\"type\":\"choropleth\"}],\"contour\":[{\"colorbar\":{\"outlinewidth\":0,\"ticks\":\"\"},\"colorscale\":[[0.0,\"#0d0887\"],[0.1111111111111111,\"#46039f\"],[0.2222222222222222,\"#7201a8\"],[0.3333333333333333,\"#9c179e\"],[0.4444444444444444,\"#bd3786\"],[0.5555555555555556,\"#d8576b\"],[0.6666666666666666,\"#ed7953\"],[0.7777777777777778,\"#fb9f3a\"],[0.8888888888888888,\"#fdca26\"],[1.0,\"#f0f921\"]],\"type\":\"contour\"}],\"contourcarpet\":[{\"colorbar\":{\"outlinewidth\":0,\"ticks\":\"\"},\"type\":\"contourcarpet\"}],\"heatmap\":[{\"colorbar\":{\"outlinewidth\":0,\"ticks\":\"\"},\"colorscale\":[[0.0,\"#0d0887\"],[0.1111111111111111,\"#46039f\"],[0.2222222222222222,\"#7201a8\"],[0.3333333333333333,\"#9c179e\"],[0.4444444444444444,\"#bd3786\"],[0.5555555555555556,\"#d8576b\"],[0.6666666666666666,\"#ed7953\"],[0.7777777777777778,\"#fb9f3a\"],[0.8888888888888888,\"#fdca26\"],[1.0,\"#f0f921\"]],\"type\":\"heatmap\"}],\"heatmapgl\":[{\"colorbar\":{\"outlinewidth\":0,\"ticks\":\"\"},\"colorscale\":[[0.0,\"#0d0887\"],[0.1111111111111111,\"#46039f\"],[0.2222222222222222,\"#7201a8\"],[0.3333333333333333,\"#9c179e\"],[0.4444444444444444,\"#bd3786\"],[0.5555555555555556,\"#d8576b\"],[0.6666666666666666,\"#ed7953\"],[0.7777777777777778,\"#fb9f3a\"],[0.8888888888888888,\"#fdca26\"],[1.0,\"#f0f921\"]],\"type\":\"heatmapgl\"}],\"histogram\":[{\"marker\":{\"pattern\":{\"fillmode\":\"overlay\",\"size\":10,\"solidity\":0.2}},\"type\":\"histogram\"}],\"histogram2d\":[{\"colorbar\":{\"outlinewidth\":0,\"ticks\":\"\"},\"colorscale\":[[0.0,\"#0d0887\"],[0.1111111111111111,\"#46039f\"],[0.2222222222222222,\"#7201a8\"],[0.3333333333333333,\"#9c179e\"],[0.4444444444444444,\"#bd3786\"],[0.5555555555555556,\"#d8576b\"],[0.6666666666666666,\"#ed7953\"],[0.7777777777777778,\"#fb9f3a\"],[0.8888888888888888,\"#fdca26\"],[1.0,\"#f0f921\"]],\"type\":\"histogram2d\"}],\"histogram2dcontour\":[{\"colorbar\":{\"outlinewidth\":0,\"ticks\":\"\"},\"colorscale\":[[0.0,\"#0d0887\"],[0.1111111111111111,\"#46039f\"],[0.2222222222222222,\"#7201a8\"],[0.3333333333333333,\"#9c179e\"],[0.4444444444444444,\"#bd3786\"],[0.5555555555555556,\"#d8576b\"],[0.6666666666666666,\"#ed7953\"],[0.7777777777777778,\"#fb9f3a\"],[0.8888888888888888,\"#fdca26\"],[1.0,\"#f0f921\"]],\"type\":\"histogram2dcontour\"}],\"mesh3d\":[{\"colorbar\":{\"outlinewidth\":0,\"ticks\":\"\"},\"type\":\"mesh3d\"}],\"parcoords\":[{\"line\":{\"colorbar\":{\"outlinewidth\":0,\"ticks\":\"\"}},\"type\":\"parcoords\"}],\"pie\":[{\"automargin\":true,\"type\":\"pie\"}],\"scatter\":[{\"marker\":{\"colorbar\":{\"outlinewidth\":0,\"ticks\":\"\"}},\"type\":\"scatter\"}],\"scatter3d\":[{\"line\":{\"colorbar\":{\"outlinewidth\":0,\"ticks\":\"\"}},\"marker\":{\"colorbar\":{\"outlinewidth\":0,\"ticks\":\"\"}},\"type\":\"scatter3d\"}],\"scattercarpet\":[{\"marker\":{\"colorbar\":{\"outlinewidth\":0,\"ticks\":\"\"}},\"type\":\"scattercarpet\"}],\"scattergeo\":[{\"marker\":{\"colorbar\":{\"outlinewidth\":0,\"ticks\":\"\"}},\"type\":\"scattergeo\"}],\"scattergl\":[{\"marker\":{\"colorbar\":{\"outlinewidth\":0,\"ticks\":\"\"}},\"type\":\"scattergl\"}],\"scattermapbox\":[{\"marker\":{\"colorbar\":{\"outlinewidth\":0,\"ticks\":\"\"}},\"type\":\"scattermapbox\"}],\"scatterpolar\":[{\"marker\":{\"colorbar\":{\"outlinewidth\":0,\"ticks\":\"\"}},\"type\":\"scatterpolar\"}],\"scatterpolargl\":[{\"marker\":{\"colorbar\":{\"outlinewidth\":0,\"ticks\":\"\"}},\"type\":\"scatterpolargl\"}],\"scatterternary\":[{\"marker\":{\"colorbar\":{\"outlinewidth\":0,\"ticks\":\"\"}},\"type\":\"scatterternary\"}],\"surface\":[{\"colorbar\":{\"outlinewidth\":0,\"ticks\":\"\"},\"colorscale\":[[0.0,\"#0d0887\"],[0.1111111111111111,\"#46039f\"],[0.2222222222222222,\"#7201a8\"],[0.3333333333333333,\"#9c179e\"],[0.4444444444444444,\"#bd3786\"],[0.5555555555555556,\"#d8576b\"],[0.6666666666666666,\"#ed7953\"],[0.7777777777777778,\"#fb9f3a\"],[0.8888888888888888,\"#fdca26\"],[1.0,\"#f0f921\"]],\"type\":\"surface\"}],\"table\":[{\"cells\":{\"fill\":{\"color\":\"#EBF0F8\"},\"line\":{\"color\":\"white\"}},\"header\":{\"fill\":{\"color\":\"#C8D4E3\"},\"line\":{\"color\":\"white\"}},\"type\":\"table\"}]},\"layout\":{\"annotationdefaults\":{\"arrowcolor\":\"#2a3f5f\",\"arrowhead\":0,\"arrowwidth\":1},\"autotypenumbers\":\"strict\",\"coloraxis\":{\"colorbar\":{\"outlinewidth\":0,\"ticks\":\"\"}},\"colorscale\":{\"diverging\":[[0,\"#8e0152\"],[0.1,\"#c51b7d\"],[0.2,\"#de77ae\"],[0.3,\"#f1b6da\"],[0.4,\"#fde0ef\"],[0.5,\"#f7f7f7\"],[0.6,\"#e6f5d0\"],[0.7,\"#b8e186\"],[0.8,\"#7fbc41\"],[0.9,\"#4d9221\"],[1,\"#276419\"]],\"sequential\":[[0.0,\"#0d0887\"],[0.1111111111111111,\"#46039f\"],[0.2222222222222222,\"#7201a8\"],[0.3333333333333333,\"#9c179e\"],[0.4444444444444444,\"#bd3786\"],[0.5555555555555556,\"#d8576b\"],[0.6666666666666666,\"#ed7953\"],[0.7777777777777778,\"#fb9f3a\"],[0.8888888888888888,\"#fdca26\"],[1.0,\"#f0f921\"]],\"sequentialminus\":[[0.0,\"#0d0887\"],[0.1111111111111111,\"#46039f\"],[0.2222222222222222,\"#7201a8\"],[0.3333333333333333,\"#9c179e\"],[0.4444444444444444,\"#bd3786\"],[0.5555555555555556,\"#d8576b\"],[0.6666666666666666,\"#ed7953\"],[0.7777777777777778,\"#fb9f3a\"],[0.8888888888888888,\"#fdca26\"],[1.0,\"#f0f921\"]]},\"colorway\":[\"#636efa\",\"#EF553B\",\"#00cc96\",\"#ab63fa\",\"#FFA15A\",\"#19d3f3\",\"#FF6692\",\"#B6E880\",\"#FF97FF\",\"#FECB52\"],\"font\":{\"color\":\"#2a3f5f\"},\"geo\":{\"bgcolor\":\"white\",\"lakecolor\":\"white\",\"landcolor\":\"#E5ECF6\",\"showlakes\":true,\"showland\":true,\"subunitcolor\":\"white\"},\"hoverlabel\":{\"align\":\"left\"},\"hovermode\":\"closest\",\"mapbox\":{\"style\":\"light\"},\"paper_bgcolor\":\"white\",\"plot_bgcolor\":\"#E5ECF6\",\"polar\":{\"angularaxis\":{\"gridcolor\":\"white\",\"linecolor\":\"white\",\"ticks\":\"\"},\"bgcolor\":\"#E5ECF6\",\"radialaxis\":{\"gridcolor\":\"white\",\"linecolor\":\"white\",\"ticks\":\"\"}},\"scene\":{\"xaxis\":{\"backgroundcolor\":\"#E5ECF6\",\"gridcolor\":\"white\",\"gridwidth\":2,\"linecolor\":\"white\",\"showbackground\":true,\"ticks\":\"\",\"zerolinecolor\":\"white\"},\"yaxis\":{\"backgroundcolor\":\"#E5ECF6\",\"gridcolor\":\"white\",\"gridwidth\":2,\"linecolor\":\"white\",\"showbackground\":true,\"ticks\":\"\",\"zerolinecolor\":\"white\"},\"zaxis\":{\"backgroundcolor\":\"#E5ECF6\",\"gridcolor\":\"white\",\"gridwidth\":2,\"linecolor\":\"white\",\"showbackground\":true,\"ticks\":\"\",\"zerolinecolor\":\"white\"}},\"shapedefaults\":{\"line\":{\"color\":\"#2a3f5f\"}},\"ternary\":{\"aaxis\":{\"gridcolor\":\"white\",\"linecolor\":\"white\",\"ticks\":\"\"},\"baxis\":{\"gridcolor\":\"white\",\"linecolor\":\"white\",\"ticks\":\"\"},\"bgcolor\":\"#E5ECF6\",\"caxis\":{\"gridcolor\":\"white\",\"linecolor\":\"white\",\"ticks\":\"\"}},\"title\":{\"x\":0.05},\"xaxis\":{\"automargin\":true,\"gridcolor\":\"white\",\"linecolor\":\"white\",\"ticks\":\"\",\"title\":{\"standoff\":15},\"zerolinecolor\":\"white\",\"zerolinewidth\":2},\"yaxis\":{\"automargin\":true,\"gridcolor\":\"white\",\"linecolor\":\"white\",\"ticks\":\"\",\"title\":{\"standoff\":15},\"zerolinecolor\":\"white\",\"zerolinewidth\":2}}},\"xaxis\":{\"anchor\":\"y\",\"domain\":[0.0,1.0],\"title\":{\"text\":\"year\"}},\"yaxis\":{\"anchor\":\"x\",\"domain\":[0.0,1.0],\"title\":{\"text\":\"posting_number\"}},\"legend\":{\"title\":{\"text\":\"skills\"},\"tracegroupgap\":0},\"margin\":{\"t\":60}},                        {\"responsive\": true}                    ).then(function(){\n",
       "                            \n",
       "var gd = document.getElementById('069f1189-7744-4743-8909-b53ce1ec898a');\n",
       "var x = new MutationObserver(function (mutations, observer) {{\n",
       "        var display = window.getComputedStyle(gd).display;\n",
       "        if (!display || display === 'none') {{\n",
       "            console.log([gd, 'removed!']);\n",
       "            Plotly.purge(gd);\n",
       "            observer.disconnect();\n",
       "        }}\n",
       "}});\n",
       "\n",
       "// Listen for the removal of the full notebook cells\n",
       "var notebookContainer = gd.closest('#notebook-container');\n",
       "if (notebookContainer) {{\n",
       "    x.observe(notebookContainer, {childList: true});\n",
       "}}\n",
       "\n",
       "// Listen for the clearing of the current output cell\n",
       "var outputEl = gd.closest('.output');\n",
       "if (outputEl) {{\n",
       "    x.observe(outputEl, {childList: true});\n",
       "}}\n",
       "\n",
       "                        })                };                });            </script>        </div>"
      ]
     },
     "metadata": {},
     "output_type": "display_data"
    }
   ],
   "source": [
    "selected_data = specialised_ncsa[['skills', 'postings', 'postings_t1', 'postings_t2']].iloc[:4]\n",
    "selected_data_long = pd.melt(selected_data, id_vars=['skills'], var_name='year', value_name='posting_number')\n",
    "\n",
    "selected_data_long\n",
    "\n",
    "fig = px.line(selected_data_long, x='year', y='posting_number', color='skills')\n",
    "fig.show()"
   ]
  },
  {
   "cell_type": "code",
   "execution_count": 181,
   "id": "1533de89-7b6c-46cf-b5e1-2a44a020fff9",
   "metadata": {},
   "outputs": [
    {
     "data": {
      "application/vnd.plotly.v1+json": {
       "config": {
        "plotlyServerURL": "https://plot.ly"
       },
       "data": [
        {
         "fillpattern": {
          "shape": ""
         },
         "hovertemplate": "Skill Category=Human Skills<br>Proportion (%)=%{y}<extra></extra>",
         "legendgroup": "Human Skills",
         "line": {
          "color": "#636efa"
         },
         "marker": {
          "symbol": "circle"
         },
         "mode": "lines",
         "name": "Human Skills",
         "orientation": "v",
         "showlegend": true,
         "stackgroup": "1",
         "type": "scatter",
         "x": [
          "2023",
          "2024",
          "2025"
         ],
         "xaxis": "x",
         "y": [
          30,
          25,
          30
         ],
         "yaxis": "y"
        },
        {
         "fillpattern": {
          "shape": ""
         },
         "hovertemplate": "Skill Category=Technical Skills<br>Proportion (%)=%{y}<extra></extra>",
         "legendgroup": "Technical Skills",
         "line": {
          "color": "#EF553B"
         },
         "marker": {
          "symbol": "circle"
         },
         "mode": "lines",
         "name": "Technical Skills",
         "orientation": "v",
         "showlegend": true,
         "stackgroup": "1",
         "type": "scatter",
         "x": [
          "2023",
          "2024",
          "2025"
         ],
         "xaxis": "x",
         "y": [
          50,
          40,
          30
         ],
         "yaxis": "y"
        },
        {
         "fillpattern": {
          "shape": ""
         },
         "hovertemplate": "Skill Category=Professional Skills<br>Proportion (%)=%{y}<extra></extra>",
         "legendgroup": "Professional Skills",
         "line": {
          "color": "#00cc96"
         },
         "marker": {
          "symbol": "circle"
         },
         "mode": "lines",
         "name": "Professional Skills",
         "orientation": "v",
         "showlegend": true,
         "stackgroup": "1",
         "type": "scatter",
         "x": [
          "2023",
          "2024",
          "2025"
         ],
         "xaxis": "x",
         "y": [
          20,
          35,
          40
         ],
         "yaxis": "y"
        }
       ],
       "layout": {
        "autosize": true,
        "hovermode": "x unified",
        "legend": {
         "title": {
          "text": "Skill Category"
         },
         "tracegroupgap": 0
        },
        "template": {
         "data": {
          "bar": [
           {
            "error_x": {
             "color": "#2a3f5f"
            },
            "error_y": {
             "color": "#2a3f5f"
            },
            "marker": {
             "line": {
              "color": "#E5ECF6",
              "width": 0.5
             },
             "pattern": {
              "fillmode": "overlay",
              "size": 10,
              "solidity": 0.2
             }
            },
            "type": "bar"
           }
          ],
          "barpolar": [
           {
            "marker": {
             "line": {
              "color": "#E5ECF6",
              "width": 0.5
             },
             "pattern": {
              "fillmode": "overlay",
              "size": 10,
              "solidity": 0.2
             }
            },
            "type": "barpolar"
           }
          ],
          "carpet": [
           {
            "aaxis": {
             "endlinecolor": "#2a3f5f",
             "gridcolor": "white",
             "linecolor": "white",
             "minorgridcolor": "white",
             "startlinecolor": "#2a3f5f"
            },
            "baxis": {
             "endlinecolor": "#2a3f5f",
             "gridcolor": "white",
             "linecolor": "white",
             "minorgridcolor": "white",
             "startlinecolor": "#2a3f5f"
            },
            "type": "carpet"
           }
          ],
          "choropleth": [
           {
            "colorbar": {
             "outlinewidth": 0,
             "ticks": ""
            },
            "type": "choropleth"
           }
          ],
          "contour": [
           {
            "colorbar": {
             "outlinewidth": 0,
             "ticks": ""
            },
            "colorscale": [
             [
              0,
              "#0d0887"
             ],
             [
              0.1111111111111111,
              "#46039f"
             ],
             [
              0.2222222222222222,
              "#7201a8"
             ],
             [
              0.3333333333333333,
              "#9c179e"
             ],
             [
              0.4444444444444444,
              "#bd3786"
             ],
             [
              0.5555555555555556,
              "#d8576b"
             ],
             [
              0.6666666666666666,
              "#ed7953"
             ],
             [
              0.7777777777777778,
              "#fb9f3a"
             ],
             [
              0.8888888888888888,
              "#fdca26"
             ],
             [
              1,
              "#f0f921"
             ]
            ],
            "type": "contour"
           }
          ],
          "contourcarpet": [
           {
            "colorbar": {
             "outlinewidth": 0,
             "ticks": ""
            },
            "type": "contourcarpet"
           }
          ],
          "heatmap": [
           {
            "colorbar": {
             "outlinewidth": 0,
             "ticks": ""
            },
            "colorscale": [
             [
              0,
              "#0d0887"
             ],
             [
              0.1111111111111111,
              "#46039f"
             ],
             [
              0.2222222222222222,
              "#7201a8"
             ],
             [
              0.3333333333333333,
              "#9c179e"
             ],
             [
              0.4444444444444444,
              "#bd3786"
             ],
             [
              0.5555555555555556,
              "#d8576b"
             ],
             [
              0.6666666666666666,
              "#ed7953"
             ],
             [
              0.7777777777777778,
              "#fb9f3a"
             ],
             [
              0.8888888888888888,
              "#fdca26"
             ],
             [
              1,
              "#f0f921"
             ]
            ],
            "type": "heatmap"
           }
          ],
          "heatmapgl": [
           {
            "colorbar": {
             "outlinewidth": 0,
             "ticks": ""
            },
            "colorscale": [
             [
              0,
              "#0d0887"
             ],
             [
              0.1111111111111111,
              "#46039f"
             ],
             [
              0.2222222222222222,
              "#7201a8"
             ],
             [
              0.3333333333333333,
              "#9c179e"
             ],
             [
              0.4444444444444444,
              "#bd3786"
             ],
             [
              0.5555555555555556,
              "#d8576b"
             ],
             [
              0.6666666666666666,
              "#ed7953"
             ],
             [
              0.7777777777777778,
              "#fb9f3a"
             ],
             [
              0.8888888888888888,
              "#fdca26"
             ],
             [
              1,
              "#f0f921"
             ]
            ],
            "type": "heatmapgl"
           }
          ],
          "histogram": [
           {
            "marker": {
             "pattern": {
              "fillmode": "overlay",
              "size": 10,
              "solidity": 0.2
             }
            },
            "type": "histogram"
           }
          ],
          "histogram2d": [
           {
            "colorbar": {
             "outlinewidth": 0,
             "ticks": ""
            },
            "colorscale": [
             [
              0,
              "#0d0887"
             ],
             [
              0.1111111111111111,
              "#46039f"
             ],
             [
              0.2222222222222222,
              "#7201a8"
             ],
             [
              0.3333333333333333,
              "#9c179e"
             ],
             [
              0.4444444444444444,
              "#bd3786"
             ],
             [
              0.5555555555555556,
              "#d8576b"
             ],
             [
              0.6666666666666666,
              "#ed7953"
             ],
             [
              0.7777777777777778,
              "#fb9f3a"
             ],
             [
              0.8888888888888888,
              "#fdca26"
             ],
             [
              1,
              "#f0f921"
             ]
            ],
            "type": "histogram2d"
           }
          ],
          "histogram2dcontour": [
           {
            "colorbar": {
             "outlinewidth": 0,
             "ticks": ""
            },
            "colorscale": [
             [
              0,
              "#0d0887"
             ],
             [
              0.1111111111111111,
              "#46039f"
             ],
             [
              0.2222222222222222,
              "#7201a8"
             ],
             [
              0.3333333333333333,
              "#9c179e"
             ],
             [
              0.4444444444444444,
              "#bd3786"
             ],
             [
              0.5555555555555556,
              "#d8576b"
             ],
             [
              0.6666666666666666,
              "#ed7953"
             ],
             [
              0.7777777777777778,
              "#fb9f3a"
             ],
             [
              0.8888888888888888,
              "#fdca26"
             ],
             [
              1,
              "#f0f921"
             ]
            ],
            "type": "histogram2dcontour"
           }
          ],
          "mesh3d": [
           {
            "colorbar": {
             "outlinewidth": 0,
             "ticks": ""
            },
            "type": "mesh3d"
           }
          ],
          "parcoords": [
           {
            "line": {
             "colorbar": {
              "outlinewidth": 0,
              "ticks": ""
             }
            },
            "type": "parcoords"
           }
          ],
          "pie": [
           {
            "automargin": true,
            "type": "pie"
           }
          ],
          "scatter": [
           {
            "fillpattern": {
             "fillmode": "overlay",
             "size": 10,
             "solidity": 0.2
            },
            "type": "scatter"
           }
          ],
          "scatter3d": [
           {
            "line": {
             "colorbar": {
              "outlinewidth": 0,
              "ticks": ""
             }
            },
            "marker": {
             "colorbar": {
              "outlinewidth": 0,
              "ticks": ""
             }
            },
            "type": "scatter3d"
           }
          ],
          "scattercarpet": [
           {
            "marker": {
             "colorbar": {
              "outlinewidth": 0,
              "ticks": ""
             }
            },
            "type": "scattercarpet"
           }
          ],
          "scattergeo": [
           {
            "marker": {
             "colorbar": {
              "outlinewidth": 0,
              "ticks": ""
             }
            },
            "type": "scattergeo"
           }
          ],
          "scattergl": [
           {
            "marker": {
             "colorbar": {
              "outlinewidth": 0,
              "ticks": ""
             }
            },
            "type": "scattergl"
           }
          ],
          "scattermapbox": [
           {
            "marker": {
             "colorbar": {
              "outlinewidth": 0,
              "ticks": ""
             }
            },
            "type": "scattermapbox"
           }
          ],
          "scatterpolar": [
           {
            "marker": {
             "colorbar": {
              "outlinewidth": 0,
              "ticks": ""
             }
            },
            "type": "scatterpolar"
           }
          ],
          "scatterpolargl": [
           {
            "marker": {
             "colorbar": {
              "outlinewidth": 0,
              "ticks": ""
             }
            },
            "type": "scatterpolargl"
           }
          ],
          "scatterternary": [
           {
            "marker": {
             "colorbar": {
              "outlinewidth": 0,
              "ticks": ""
             }
            },
            "type": "scatterternary"
           }
          ],
          "surface": [
           {
            "colorbar": {
             "outlinewidth": 0,
             "ticks": ""
            },
            "colorscale": [
             [
              0,
              "#0d0887"
             ],
             [
              0.1111111111111111,
              "#46039f"
             ],
             [
              0.2222222222222222,
              "#7201a8"
             ],
             [
              0.3333333333333333,
              "#9c179e"
             ],
             [
              0.4444444444444444,
              "#bd3786"
             ],
             [
              0.5555555555555556,
              "#d8576b"
             ],
             [
              0.6666666666666666,
              "#ed7953"
             ],
             [
              0.7777777777777778,
              "#fb9f3a"
             ],
             [
              0.8888888888888888,
              "#fdca26"
             ],
             [
              1,
              "#f0f921"
             ]
            ],
            "type": "surface"
           }
          ],
          "table": [
           {
            "cells": {
             "fill": {
              "color": "#EBF0F8"
             },
             "line": {
              "color": "white"
             }
            },
            "header": {
             "fill": {
              "color": "#C8D4E3"
             },
             "line": {
              "color": "white"
             }
            },
            "type": "table"
           }
          ]
         },
         "layout": {
          "annotationdefaults": {
           "arrowcolor": "#2a3f5f",
           "arrowhead": 0,
           "arrowwidth": 1
          },
          "autotypenumbers": "strict",
          "coloraxis": {
           "colorbar": {
            "outlinewidth": 0,
            "ticks": ""
           }
          },
          "colorscale": {
           "diverging": [
            [
             0,
             "#8e0152"
            ],
            [
             0.1,
             "#c51b7d"
            ],
            [
             0.2,
             "#de77ae"
            ],
            [
             0.3,
             "#f1b6da"
            ],
            [
             0.4,
             "#fde0ef"
            ],
            [
             0.5,
             "#f7f7f7"
            ],
            [
             0.6,
             "#e6f5d0"
            ],
            [
             0.7,
             "#b8e186"
            ],
            [
             0.8,
             "#7fbc41"
            ],
            [
             0.9,
             "#4d9221"
            ],
            [
             1,
             "#276419"
            ]
           ],
           "sequential": [
            [
             0,
             "#0d0887"
            ],
            [
             0.1111111111111111,
             "#46039f"
            ],
            [
             0.2222222222222222,
             "#7201a8"
            ],
            [
             0.3333333333333333,
             "#9c179e"
            ],
            [
             0.4444444444444444,
             "#bd3786"
            ],
            [
             0.5555555555555556,
             "#d8576b"
            ],
            [
             0.6666666666666666,
             "#ed7953"
            ],
            [
             0.7777777777777778,
             "#fb9f3a"
            ],
            [
             0.8888888888888888,
             "#fdca26"
            ],
            [
             1,
             "#f0f921"
            ]
           ],
           "sequentialminus": [
            [
             0,
             "#0d0887"
            ],
            [
             0.1111111111111111,
             "#46039f"
            ],
            [
             0.2222222222222222,
             "#7201a8"
            ],
            [
             0.3333333333333333,
             "#9c179e"
            ],
            [
             0.4444444444444444,
             "#bd3786"
            ],
            [
             0.5555555555555556,
             "#d8576b"
            ],
            [
             0.6666666666666666,
             "#ed7953"
            ],
            [
             0.7777777777777778,
             "#fb9f3a"
            ],
            [
             0.8888888888888888,
             "#fdca26"
            ],
            [
             1,
             "#f0f921"
            ]
           ]
          },
          "colorway": [
           "#636efa",
           "#EF553B",
           "#00cc96",
           "#ab63fa",
           "#FFA15A",
           "#19d3f3",
           "#FF6692",
           "#B6E880",
           "#FF97FF",
           "#FECB52"
          ],
          "font": {
           "color": "#2a3f5f"
          },
          "geo": {
           "bgcolor": "white",
           "lakecolor": "white",
           "landcolor": "#E5ECF6",
           "showlakes": true,
           "showland": true,
           "subunitcolor": "white"
          },
          "hoverlabel": {
           "align": "left"
          },
          "hovermode": "closest",
          "mapbox": {
           "style": "light"
          },
          "paper_bgcolor": "white",
          "plot_bgcolor": "#E5ECF6",
          "polar": {
           "angularaxis": {
            "gridcolor": "white",
            "linecolor": "white",
            "ticks": ""
           },
           "bgcolor": "#E5ECF6",
           "radialaxis": {
            "gridcolor": "white",
            "linecolor": "white",
            "ticks": ""
           }
          },
          "scene": {
           "xaxis": {
            "backgroundcolor": "#E5ECF6",
            "gridcolor": "white",
            "gridwidth": 2,
            "linecolor": "white",
            "showbackground": true,
            "ticks": "",
            "zerolinecolor": "white"
           },
           "yaxis": {
            "backgroundcolor": "#E5ECF6",
            "gridcolor": "white",
            "gridwidth": 2,
            "linecolor": "white",
            "showbackground": true,
            "ticks": "",
            "zerolinecolor": "white"
           },
           "zaxis": {
            "backgroundcolor": "#E5ECF6",
            "gridcolor": "white",
            "gridwidth": 2,
            "linecolor": "white",
            "showbackground": true,
            "ticks": "",
            "zerolinecolor": "white"
           }
          },
          "shapedefaults": {
           "line": {
            "color": "#2a3f5f"
           }
          },
          "ternary": {
           "aaxis": {
            "gridcolor": "white",
            "linecolor": "white",
            "ticks": ""
           },
           "baxis": {
            "gridcolor": "white",
            "linecolor": "white",
            "ticks": ""
           },
           "bgcolor": "#E5ECF6",
           "caxis": {
            "gridcolor": "white",
            "linecolor": "white",
            "ticks": ""
           }
          },
          "title": {
           "x": 0.05
          },
          "xaxis": {
           "automargin": true,
           "gridcolor": "white",
           "linecolor": "white",
           "ticks": "",
           "title": {
            "standoff": 15
           },
           "zerolinecolor": "white",
           "zerolinewidth": 2
          },
          "yaxis": {
           "automargin": true,
           "gridcolor": "white",
           "linecolor": "white",
           "ticks": "",
           "title": {
            "standoff": 15
           },
           "zerolinecolor": "white",
           "zerolinewidth": 2
          }
         }
        },
        "title": {
         "text": "Proportions of Skill Buckets Over Next 2 Years"
        },
        "xaxis": {
         "anchor": "y",
         "autorange": true,
         "domain": [
          0,
          1
         ],
         "range": [
          0,
          2
         ],
         "title": {
          "text": "Year"
         },
         "type": "category"
        },
        "yaxis": {
         "anchor": "x",
         "autorange": true,
         "domain": [
          0,
          1
         ],
         "range": [
          0,
          105.26315789473684
         ],
         "title": {
          "text": "Proportion (%)"
         },
         "type": "linear"
        }
       }
      },
      "image/png": "[encoded data removed]",
      "text/html": [
       "<div>                            <div id=\"f1f39ab8-6512-413d-a434-35c2fc943d9d\" class=\"plotly-graph-div\" style=\"height:525px; width:100%;\"></div>            <script type=\"text/javascript\">                require([\"plotly\"], function(Plotly) {                    window.PLOTLYENV=window.PLOTLYENV || {};                                    if (document.getElementById(\"f1f39ab8-6512-413d-a434-35c2fc943d9d\")) {                    Plotly.newPlot(                        \"f1f39ab8-6512-413d-a434-35c2fc943d9d\",                        [{\"fillpattern\":{\"shape\":\"\"},\"hovertemplate\":\"Skill Category=Human Skills\\u003cbr\\u003eProportion (%)=%{y}\\u003cextra\\u003e\\u003c\\u002fextra\\u003e\",\"legendgroup\":\"Human Skills\",\"line\":{\"color\":\"#636efa\"},\"marker\":{\"symbol\":\"circle\"},\"mode\":\"lines\",\"name\":\"Human Skills\",\"orientation\":\"v\",\"showlegend\":true,\"stackgroup\":\"1\",\"x\":[\"2023\",\"2024\",\"2025\"],\"xaxis\":\"x\",\"y\":[30,25,30],\"yaxis\":\"y\",\"type\":\"scatter\"},{\"fillpattern\":{\"shape\":\"\"},\"hovertemplate\":\"Skill Category=Technical Skills\\u003cbr\\u003eProportion (%)=%{y}\\u003cextra\\u003e\\u003c\\u002fextra\\u003e\",\"legendgroup\":\"Technical Skills\",\"line\":{\"color\":\"#EF553B\"},\"marker\":{\"symbol\":\"circle\"},\"mode\":\"lines\",\"name\":\"Technical Skills\",\"orientation\":\"v\",\"showlegend\":true,\"stackgroup\":\"1\",\"x\":[\"2023\",\"2024\",\"2025\"],\"xaxis\":\"x\",\"y\":[50,40,30],\"yaxis\":\"y\",\"type\":\"scatter\"},{\"fillpattern\":{\"shape\":\"\"},\"hovertemplate\":\"Skill Category=Professional Skills\\u003cbr\\u003eProportion (%)=%{y}\\u003cextra\\u003e\\u003c\\u002fextra\\u003e\",\"legendgroup\":\"Professional Skills\",\"line\":{\"color\":\"#00cc96\"},\"marker\":{\"symbol\":\"circle\"},\"mode\":\"lines\",\"name\":\"Professional Skills\",\"orientation\":\"v\",\"showlegend\":true,\"stackgroup\":\"1\",\"x\":[\"2023\",\"2024\",\"2025\"],\"xaxis\":\"x\",\"y\":[20,35,40],\"yaxis\":\"y\",\"type\":\"scatter\"}],                        {\"template\":{\"data\":{\"histogram2dcontour\":[{\"type\":\"histogram2dcontour\",\"colorbar\":{\"outlinewidth\":0,\"ticks\":\"\"},\"colorscale\":[[0.0,\"#0d0887\"],[0.1111111111111111,\"#46039f\"],[0.2222222222222222,\"#7201a8\"],[0.3333333333333333,\"#9c179e\"],[0.4444444444444444,\"#bd3786\"],[0.5555555555555556,\"#d8576b\"],[0.6666666666666666,\"#ed7953\"],[0.7777777777777778,\"#fb9f3a\"],[0.8888888888888888,\"#fdca26\"],[1.0,\"#f0f921\"]]}],\"choropleth\":[{\"type\":\"choropleth\",\"colorbar\":{\"outlinewidth\":0,\"ticks\":\"\"}}],\"histogram2d\":[{\"type\":\"histogram2d\",\"colorbar\":{\"outlinewidth\":0,\"ticks\":\"\"},\"colorscale\":[[0.0,\"#0d0887\"],[0.1111111111111111,\"#46039f\"],[0.2222222222222222,\"#7201a8\"],[0.3333333333333333,\"#9c179e\"],[0.4444444444444444,\"#bd3786\"],[0.5555555555555556,\"#d8576b\"],[0.6666666666666666,\"#ed7953\"],[0.7777777777777778,\"#fb9f3a\"],[0.8888888888888888,\"#fdca26\"],[1.0,\"#f0f921\"]]}],\"heatmap\":[{\"type\":\"heatmap\",\"colorbar\":{\"outlinewidth\":0,\"ticks\":\"\"},\"colorscale\":[[0.0,\"#0d0887\"],[0.1111111111111111,\"#46039f\"],[0.2222222222222222,\"#7201a8\"],[0.3333333333333333,\"#9c179e\"],[0.4444444444444444,\"#bd3786\"],[0.5555555555555556,\"#d8576b\"],[0.6666666666666666,\"#ed7953\"],[0.7777777777777778,\"#fb9f3a\"],[0.8888888888888888,\"#fdca26\"],[1.0,\"#f0f921\"]]}],\"heatmapgl\":[{\"type\":\"heatmapgl\",\"colorbar\":{\"outlinewidth\":0,\"ticks\":\"\"},\"colorscale\":[[0.0,\"#0d0887\"],[0.1111111111111111,\"#46039f\"],[0.2222222222222222,\"#7201a8\"],[0.3333333333333333,\"#9c179e\"],[0.4444444444444444,\"#bd3786\"],[0.5555555555555556,\"#d8576b\"],[0.6666666666666666,\"#ed7953\"],[0.7777777777777778,\"#fb9f3a\"],[0.8888888888888888,\"#fdca26\"],[1.0,\"#f0f921\"]]}],\"contourcarpet\":[{\"type\":\"contourcarpet\",\"colorbar\":{\"outlinewidth\":0,\"ticks\":\"\"}}],\"contour\":[{\"type\":\"contour\",\"colorbar\":{\"outlinewidth\":0,\"ticks\":\"\"},\"colorscale\":[[0.0,\"#0d0887\"],[0.1111111111111111,\"#46039f\"],[0.2222222222222222,\"#7201a8\"],[0.3333333333333333,\"#9c179e\"],[0.4444444444444444,\"#bd3786\"],[0.5555555555555556,\"#d8576b\"],[0.6666666666666666,\"#ed7953\"],[0.7777777777777778,\"#fb9f3a\"],[0.8888888888888888,\"#fdca26\"],[1.0,\"#f0f921\"]]}],\"surface\":[{\"type\":\"surface\",\"colorbar\":{\"outlinewidth\":0,\"ticks\":\"\"},\"colorscale\":[[0.0,\"#0d0887\"],[0.1111111111111111,\"#46039f\"],[0.2222222222222222,\"#7201a8\"],[0.3333333333333333,\"#9c179e\"],[0.4444444444444444,\"#bd3786\"],[0.5555555555555556,\"#d8576b\"],[0.6666666666666666,\"#ed7953\"],[0.7777777777777778,\"#fb9f3a\"],[0.8888888888888888,\"#fdca26\"],[1.0,\"#f0f921\"]]}],\"mesh3d\":[{\"type\":\"mesh3d\",\"colorbar\":{\"outlinewidth\":0,\"ticks\":\"\"}}],\"scatter\":[{\"fillpattern\":{\"fillmode\":\"overlay\",\"size\":10,\"solidity\":0.2},\"type\":\"scatter\"}],\"parcoords\":[{\"type\":\"parcoords\",\"line\":{\"colorbar\":{\"outlinewidth\":0,\"ticks\":\"\"}}}],\"scatterpolargl\":[{\"type\":\"scatterpolargl\",\"marker\":{\"colorbar\":{\"outlinewidth\":0,\"ticks\":\"\"}}}],\"bar\":[{\"error_x\":{\"color\":\"#2a3f5f\"},\"error_y\":{\"color\":\"#2a3f5f\"},\"marker\":{\"line\":{\"color\":\"#E5ECF6\",\"width\":0.5},\"pattern\":{\"fillmode\":\"overlay\",\"size\":10,\"solidity\":0.2}},\"type\":\"bar\"}],\"scattergeo\":[{\"type\":\"scattergeo\",\"marker\":{\"colorbar\":{\"outlinewidth\":0,\"ticks\":\"\"}}}],\"scatterpolar\":[{\"type\":\"scatterpolar\",\"marker\":{\"colorbar\":{\"outlinewidth\":0,\"ticks\":\"\"}}}],\"histogram\":[{\"marker\":{\"pattern\":{\"fillmode\":\"overlay\",\"size\":10,\"solidity\":0.2}},\"type\":\"histogram\"}],\"scattergl\":[{\"type\":\"scattergl\",\"marker\":{\"colorbar\":{\"outlinewidth\":0,\"ticks\":\"\"}}}],\"scatter3d\":[{\"type\":\"scatter3d\",\"line\":{\"colorbar\":{\"outlinewidth\":0,\"ticks\":\"\"}},\"marker\":{\"colorbar\":{\"outlinewidth\":0,\"ticks\":\"\"}}}],\"scattermapbox\":[{\"type\":\"scattermapbox\",\"marker\":{\"colorbar\":{\"outlinewidth\":0,\"ticks\":\"\"}}}],\"scatterternary\":[{\"type\":\"scatterternary\",\"marker\":{\"colorbar\":{\"outlinewidth\":0,\"ticks\":\"\"}}}],\"scattercarpet\":[{\"type\":\"scattercarpet\",\"marker\":{\"colorbar\":{\"outlinewidth\":0,\"ticks\":\"\"}}}],\"carpet\":[{\"aaxis\":{\"endlinecolor\":\"#2a3f5f\",\"gridcolor\":\"white\",\"linecolor\":\"white\",\"minorgridcolor\":\"white\",\"startlinecolor\":\"#2a3f5f\"},\"baxis\":{\"endlinecolor\":\"#2a3f5f\",\"gridcolor\":\"white\",\"linecolor\":\"white\",\"minorgridcolor\":\"white\",\"startlinecolor\":\"#2a3f5f\"},\"type\":\"carpet\"}],\"table\":[{\"cells\":{\"fill\":{\"color\":\"#EBF0F8\"},\"line\":{\"color\":\"white\"}},\"header\":{\"fill\":{\"color\":\"#C8D4E3\"},\"line\":{\"color\":\"white\"}},\"type\":\"table\"}],\"barpolar\":[{\"marker\":{\"line\":{\"color\":\"#E5ECF6\",\"width\":0.5},\"pattern\":{\"fillmode\":\"overlay\",\"size\":10,\"solidity\":0.2}},\"type\":\"barpolar\"}],\"pie\":[{\"automargin\":true,\"type\":\"pie\"}]},\"layout\":{\"autotypenumbers\":\"strict\",\"colorway\":[\"#636efa\",\"#EF553B\",\"#00cc96\",\"#ab63fa\",\"#FFA15A\",\"#19d3f3\",\"#FF6692\",\"#B6E880\",\"#FF97FF\",\"#FECB52\"],\"font\":{\"color\":\"#2a3f5f\"},\"hovermode\":\"closest\",\"hoverlabel\":{\"align\":\"left\"},\"paper_bgcolor\":\"white\",\"plot_bgcolor\":\"#E5ECF6\",\"polar\":{\"bgcolor\":\"#E5ECF6\",\"angularaxis\":{\"gridcolor\":\"white\",\"linecolor\":\"white\",\"ticks\":\"\"},\"radialaxis\":{\"gridcolor\":\"white\",\"linecolor\":\"white\",\"ticks\":\"\"}},\"ternary\":{\"bgcolor\":\"#E5ECF6\",\"aaxis\":{\"gridcolor\":\"white\",\"linecolor\":\"white\",\"ticks\":\"\"},\"baxis\":{\"gridcolor\":\"white\",\"linecolor\":\"white\",\"ticks\":\"\"},\"caxis\":{\"gridcolor\":\"white\",\"linecolor\":\"white\",\"ticks\":\"\"}},\"coloraxis\":{\"colorbar\":{\"outlinewidth\":0,\"ticks\":\"\"}},\"colorscale\":{\"sequential\":[[0.0,\"#0d0887\"],[0.1111111111111111,\"#46039f\"],[0.2222222222222222,\"#7201a8\"],[0.3333333333333333,\"#9c179e\"],[0.4444444444444444,\"#bd3786\"],[0.5555555555555556,\"#d8576b\"],[0.6666666666666666,\"#ed7953\"],[0.7777777777777778,\"#fb9f3a\"],[0.8888888888888888,\"#fdca26\"],[1.0,\"#f0f921\"]],\"sequentialminus\":[[0.0,\"#0d0887\"],[0.1111111111111111,\"#46039f\"],[0.2222222222222222,\"#7201a8\"],[0.3333333333333333,\"#9c179e\"],[0.4444444444444444,\"#bd3786\"],[0.5555555555555556,\"#d8576b\"],[0.6666666666666666,\"#ed7953\"],[0.7777777777777778,\"#fb9f3a\"],[0.8888888888888888,\"#fdca26\"],[1.0,\"#f0f921\"]],\"diverging\":[[0,\"#8e0152\"],[0.1,\"#c51b7d\"],[0.2,\"#de77ae\"],[0.3,\"#f1b6da\"],[0.4,\"#fde0ef\"],[0.5,\"#f7f7f7\"],[0.6,\"#e6f5d0\"],[0.7,\"#b8e186\"],[0.8,\"#7fbc41\"],[0.9,\"#4d9221\"],[1,\"#276419\"]]},\"xaxis\":{\"gridcolor\":\"white\",\"linecolor\":\"white\",\"ticks\":\"\",\"title\":{\"standoff\":15},\"zerolinecolor\":\"white\",\"automargin\":true,\"zerolinewidth\":2},\"yaxis\":{\"gridcolor\":\"white\",\"linecolor\":\"white\",\"ticks\":\"\",\"title\":{\"standoff\":15},\"zerolinecolor\":\"white\",\"automargin\":true,\"zerolinewidth\":2},\"scene\":{\"xaxis\":{\"backgroundcolor\":\"#E5ECF6\",\"gridcolor\":\"white\",\"linecolor\":\"white\",\"showbackground\":true,\"ticks\":\"\",\"zerolinecolor\":\"white\",\"gridwidth\":2},\"yaxis\":{\"backgroundcolor\":\"#E5ECF6\",\"gridcolor\":\"white\",\"linecolor\":\"white\",\"showbackground\":true,\"ticks\":\"\",\"zerolinecolor\":\"white\",\"gridwidth\":2},\"zaxis\":{\"backgroundcolor\":\"#E5ECF6\",\"gridcolor\":\"white\",\"linecolor\":\"white\",\"showbackground\":true,\"ticks\":\"\",\"zerolinecolor\":\"white\",\"gridwidth\":2}},\"shapedefaults\":{\"line\":{\"color\":\"#2a3f5f\"}},\"annotationdefaults\":{\"arrowcolor\":\"#2a3f5f\",\"arrowhead\":0,\"arrowwidth\":1},\"geo\":{\"bgcolor\":\"white\",\"landcolor\":\"#E5ECF6\",\"subunitcolor\":\"white\",\"showland\":true,\"showlakes\":true,\"lakecolor\":\"white\"},\"title\":{\"x\":0.05},\"mapbox\":{\"style\":\"light\"}}},\"xaxis\":{\"anchor\":\"y\",\"domain\":[0.0,1.0],\"title\":{\"text\":\"Year\"}},\"yaxis\":{\"anchor\":\"x\",\"domain\":[0.0,1.0],\"title\":{\"text\":\"Proportion (%)\"}},\"legend\":{\"title\":{\"text\":\"Skill Category\"},\"tracegroupgap\":0},\"title\":{\"text\":\"Proportions of Skill Buckets Over Next 2 Years\"},\"hovermode\":\"x unified\"},                        {\"responsive\": true}                    ).then(function(){\n",
       "                            \n",
       "var gd = document.getElementById('f1f39ab8-6512-413d-a434-35c2fc943d9d');\n",
       "var x = new MutationObserver(function (mutations, observer) {{\n",
       "        var display = window.getComputedStyle(gd).display;\n",
       "        if (!display || display === 'none') {{\n",
       "            console.log([gd, 'removed!']);\n",
       "            Plotly.purge(gd);\n",
       "            observer.disconnect();\n",
       "        }}\n",
       "}});\n",
       "\n",
       "// Listen for the removal of the full notebook cells\n",
       "var notebookContainer = gd.closest('#notebook-container');\n",
       "if (notebookContainer) {{\n",
       "    x.observe(notebookContainer, {childList: true});\n",
       "}}\n",
       "\n",
       "// Listen for the clearing of the current output cell\n",
       "var outputEl = gd.closest('.output');\n",
       "if (outputEl) {{\n",
       "    x.observe(outputEl, {childList: true});\n",
       "}}\n",
       "\n",
       "                        })                };                });            </script>        </div>"
      ]
     },
     "metadata": {},
     "output_type": "display_data"
    }
   ],
   "source": [
    "# Define years and proportions for each skill category\n",
    "years = ['2023', '2024', '2025']\n",
    "human_skills = [30, 25, 30]\n",
    "technical_skills = [50, 40, 30]\n",
    "professional_skills = [20, 35, 40]\n",
    "\n",
    "# Create a DataFrame\n",
    "data = {\n",
    "    'Year': years * 3,\n",
    "    'Skill Category': ['Human Skills'] * 3 + ['Technical Skills'] * 3 + ['Professional Skills'] * 3,\n",
    "    'Proportion': human_skills + technical_skills + professional_skills\n",
    "}\n",
    "\n",
    "# Create stacked area plot\n",
    "fig = px.area(data, x='Year', y='Proportion', color='Skill Category', \n",
    "              title='Proportions of Skill Buckets Over Next 2 Years',\n",
    "              labels={'Year': 'Year', 'Proportion': 'Proportion (%)', 'Skill Category': 'Skill Category'},\n",
    "              hover_data={'Year': False})  # Turn off hover for the \"Year\" value)\n",
    "fig.update_layout(hovermode='x unified')\n",
    "\n",
    "# Show figure\n",
    "fig.show()"
   ]
  },
  {
   "cell_type": "markdown",
   "id": "e4732b13-7b4a-4106-83b5-03c9fd8c2ebe",
   "metadata": {},
   "source": [
    "# Scenario Analysis (*work in progress*)\n",
    "Make assumptions about AI-related skills to have different trends, and how this then affects the occupational profiles.\n",
    "\n",
    "### First, isolate AI skills:\n",
    "\n",
    "Ideas to get the skills that are related to or impacted by AI:\n",
    "- Devise list of AI-related skills from keywords and lit review\n",
    "- Devise list of AI-impacted skills from lit review\n",
    "- Devise list of new AI-related skills from what has the highest %change since 2023, essentially what was inexistant until AI became mainstream (can look at the general job posting tab, skills, and then sort the table for the largest % increase projected growth. ALso there should be another way to get more data by selecting the hot/cold skills )\n",
    "\n",
    "### Then, tag skills and perform impulse responses to see two-year occupational profile change\n",
    "\n",
    "For example:\n",
    "- AI only skills get a boost\n",
    "- AI-leveraging skills get a parallel boost\n",
    "- AI-impacted skills get a minus- what is the make-up now? More human skills?\n",
    "\n",
    "From these changes in occupational make-up we can explore further the potential 'vulnerability' to AI."
   ]
  },
  {
   "cell_type": "markdown",
   "id": "b2d01d1f-f5ee-43d5-9129-ca80adcad276",
   "metadata": {},
   "source": [
    "### Scenario 1: Automation technology increases very rapidly in next two years (arbitrary speed of 100% for all AI-related skills)\n",
    "##### Automation does not have relationship with other variables, I'm just injecting a large percentage growth and seeing how the rankings change in bubble graphs"
   ]
  }
 ],
 "metadata": {
  "kernelspec": {
   "display_name": "Python [conda env:gis39]",
   "language": "python",
   "name": "conda-env-gis39-py"
  },
  "language_info": {
   "codemirror_mode": {
    "name": "ipython",
    "version": 3
   },
   "file_extension": ".py",
   "mimetype": "text/x-python",
   "name": "python",
   "nbconvert_exporter": "python",
   "pygments_lexer": "ipython3",
   "version": "3.9.13"
  }
 },
 "nbformat": 4,
 "nbformat_minor": 5
}
